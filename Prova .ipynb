{
 "cells": [
  {
   "cell_type": "code",
   "execution_count": null,
   "id": "apparent-compression",
   "metadata": {},
   "outputs": [],
   "source": [
    "#Prova prova \n",
    "\n",
    "#ciao marti! prova a modificare qualcosa! "
   ]
  },
  {
   "cell_type": "code",
   "execution_count": 2,
   "id": "proper-certification",
   "metadata": {},
   "outputs": [
    {
     "name": "stdout",
     "output_type": "stream",
     "text": [
      "Ciao Marti!\n"
     ]
    }
   ],
   "source": [
    "print(\"Ciao Marti!\")"
   ]
  }
 ],
 "metadata": {
  "kernelspec": {
   "display_name": "Python 3",
   "language": "python",
   "name": "python3"
  },
  "language_info": {
   "codemirror_mode": {
    "name": "ipython",
    "version": 3
   },
   "file_extension": ".py",
   "mimetype": "text/x-python",
   "name": "python",
   "nbconvert_exporter": "python",
   "pygments_lexer": "ipython3",
   "version": "3.7.1"
  }
 },
 "nbformat": 4,
 "nbformat_minor": 5
}
