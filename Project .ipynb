{
 "cells": [
  {
   "cell_type": "markdown",
   "id": "92f9b0d8",
   "metadata": {},
   "source": [
    "## ML PROJECT \n",
    "---\n",
    "\n",
    "Authors\n",
    " Andrea Scarpellini \n",
    " Martina Scarpellini \n"
   ]
  },
  {
   "cell_type": "markdown",
   "id": "d4ba23d3",
   "metadata": {},
   "source": [
    "At first, we imported the dataset and printed it. \n",
    "It has 3000 rows and 16 columns."
   ]
  },
  {
   "cell_type": "code",
   "execution_count": 427,
   "id": "451d6660",
   "metadata": {},
   "outputs": [
    {
     "name": "stdout",
     "output_type": "stream",
     "text": [
      "(3000, 16)\n"
     ]
    }
   ],
   "source": [
    "import pandas as pd\n",
    "import numpy as np\n",
    "\n",
    "%matplotlib inline\n",
    "import seaborn as sns\n",
    "import matplotlib.pyplot as plt\n",
    "\n",
    "df = pd.read_csv('tyres_train.csv')\n",
    "print(df.shape)"
   ]
  },
  {
   "cell_type": "code",
   "execution_count": 428,
   "id": "proper-certification",
   "metadata": {
    "scrolled": false
   },
   "outputs": [
    {
     "data": {
      "text/html": [
       "<div>\n",
       "<style scoped>\n",
       "    .dataframe tbody tr th:only-of-type {\n",
       "        vertical-align: middle;\n",
       "    }\n",
       "\n",
       "    .dataframe tbody tr th {\n",
       "        vertical-align: top;\n",
       "    }\n",
       "\n",
       "    .dataframe thead th {\n",
       "        text-align: right;\n",
       "    }\n",
       "</style>\n",
       "<table border=\"1\" class=\"dataframe\">\n",
       "  <thead>\n",
       "    <tr style=\"text-align: right;\">\n",
       "      <th></th>\n",
       "      <th>vulc</th>\n",
       "      <th>perc_nat_rubber</th>\n",
       "      <th>wiring_strength</th>\n",
       "      <th>weather</th>\n",
       "      <th>perc_imp</th>\n",
       "      <th>temperature</th>\n",
       "      <th>tread_type</th>\n",
       "      <th>tyre_season</th>\n",
       "      <th>elevation</th>\n",
       "      <th>month</th>\n",
       "      <th>tread_depth</th>\n",
       "      <th>tyre_quality</th>\n",
       "      <th>perc_exp_comp</th>\n",
       "      <th>diameter</th>\n",
       "      <th>add_layers</th>\n",
       "      <th>failure</th>\n",
       "    </tr>\n",
       "  </thead>\n",
       "  <tbody>\n",
       "    <tr>\n",
       "      <th>0</th>\n",
       "      <td>17.990</td>\n",
       "      <td>26</td>\n",
       "      <td>1</td>\n",
       "      <td>0.16</td>\n",
       "      <td>0.01</td>\n",
       "      <td>-8.12</td>\n",
       "      <td>0</td>\n",
       "      <td>1</td>\n",
       "      <td>332.5</td>\n",
       "      <td>8</td>\n",
       "      <td>0</td>\n",
       "      <td>1</td>\n",
       "      <td>5.13</td>\n",
       "      <td>55.0</td>\n",
       "      <td>1</td>\n",
       "      <td>0</td>\n",
       "    </tr>\n",
       "    <tr>\n",
       "      <th>1</th>\n",
       "      <td>20.704</td>\n",
       "      <td>36</td>\n",
       "      <td>1</td>\n",
       "      <td>0.30</td>\n",
       "      <td>0.01</td>\n",
       "      <td>-4.52</td>\n",
       "      <td>2</td>\n",
       "      <td>0</td>\n",
       "      <td>328.0</td>\n",
       "      <td>11</td>\n",
       "      <td>1</td>\n",
       "      <td>0</td>\n",
       "      <td>6.15</td>\n",
       "      <td>NaN</td>\n",
       "      <td>1</td>\n",
       "      <td>0</td>\n",
       "    </tr>\n",
       "    <tr>\n",
       "      <th>2</th>\n",
       "      <td>19.156</td>\n",
       "      <td>34</td>\n",
       "      <td>1</td>\n",
       "      <td>0.30</td>\n",
       "      <td>0.01</td>\n",
       "      <td>-1.08</td>\n",
       "      <td>0</td>\n",
       "      <td>0</td>\n",
       "      <td>247.0</td>\n",
       "      <td>0</td>\n",
       "      <td>1</td>\n",
       "      <td>0</td>\n",
       "      <td>6.36</td>\n",
       "      <td>NaN</td>\n",
       "      <td>1</td>\n",
       "      <td>0</td>\n",
       "    </tr>\n",
       "    <tr>\n",
       "      <th>3</th>\n",
       "      <td>16.802</td>\n",
       "      <td>35</td>\n",
       "      <td>1</td>\n",
       "      <td>0.19</td>\n",
       "      <td>0.02</td>\n",
       "      <td>7.44</td>\n",
       "      <td>1</td>\n",
       "      <td>0</td>\n",
       "      <td>408.0</td>\n",
       "      <td>7</td>\n",
       "      <td>3</td>\n",
       "      <td>1</td>\n",
       "      <td>6.62</td>\n",
       "      <td>54.5</td>\n",
       "      <td>1</td>\n",
       "      <td>0</td>\n",
       "    </tr>\n",
       "    <tr>\n",
       "      <th>4</th>\n",
       "      <td>17.140</td>\n",
       "      <td>23</td>\n",
       "      <td>2</td>\n",
       "      <td>0.39</td>\n",
       "      <td>0.01</td>\n",
       "      <td>30.52</td>\n",
       "      <td>0</td>\n",
       "      <td>1</td>\n",
       "      <td>308.0</td>\n",
       "      <td>2</td>\n",
       "      <td>2</td>\n",
       "      <td>0</td>\n",
       "      <td>6.15</td>\n",
       "      <td>76.3</td>\n",
       "      <td>1</td>\n",
       "      <td>0</td>\n",
       "    </tr>\n",
       "  </tbody>\n",
       "</table>\n",
       "</div>"
      ],
      "text/plain": [
       "     vulc  perc_nat_rubber  wiring_strength  weather  perc_imp  temperature  \\\n",
       "0  17.990               26                1     0.16      0.01        -8.12   \n",
       "1  20.704               36                1     0.30      0.01        -4.52   \n",
       "2  19.156               34                1     0.30      0.01        -1.08   \n",
       "3  16.802               35                1     0.19      0.02         7.44   \n",
       "4  17.140               23                2     0.39      0.01        30.52   \n",
       "\n",
       "   tread_type  tyre_season  elevation  month  tread_depth  tyre_quality  \\\n",
       "0           0            1      332.5      8            0             1   \n",
       "1           2            0      328.0     11            1             0   \n",
       "2           0            0      247.0      0            1             0   \n",
       "3           1            0      408.0      7            3             1   \n",
       "4           0            1      308.0      2            2             0   \n",
       "\n",
       "   perc_exp_comp  diameter  add_layers  failure  \n",
       "0           5.13      55.0           1        0  \n",
       "1           6.15       NaN           1        0  \n",
       "2           6.36       NaN           1        0  \n",
       "3           6.62      54.5           1        0  \n",
       "4           6.15      76.3           1        0  "
      ]
     },
     "execution_count": 428,
     "metadata": {},
     "output_type": "execute_result"
    }
   ],
   "source": [
    "df.head()"
   ]
  },
  {
   "cell_type": "markdown",
   "id": "53f28ace",
   "metadata": {},
   "source": [
    "Then we watched if our data were imbalanced or not.\n",
    "We noticed that they were imbalanced (the zeros were twice the one labelled observations)."
   ]
  },
  {
   "cell_type": "code",
   "execution_count": 429,
   "id": "indonesian-tragedy",
   "metadata": {},
   "outputs": [
    {
     "data": {
      "image/png": "[encoded data removed]",
      "text/plain": [
       "<Figure size 432x288 with 1 Axes>"
      ]
     },
     "metadata": {
      "needs_background": "light"
     },
     "output_type": "display_data"
    }
   ],
   "source": [
    "#Visualize Class Counts\n",
    "sns.countplot(y=df.failure ,data=df) \n",
    "plt.xlabel(\"count of each class\")\n",
    "plt.ylabel(\"classes\")\n",
    "plt.show()"
   ]
  },
  {
   "cell_type": "markdown",
   "id": "running-bangkok",
   "metadata": {},
   "source": [
    " - Unbalanced Dataset:\n",
    "     0 labelled observations are twice the one labelled observations"
   ]
  },
  {
   "cell_type": "markdown",
   "id": "5f033897",
   "metadata": {},
   "source": [
    "## MISSING VALUES"
   ]
  },
  {
   "cell_type": "markdown",
   "id": "4526df3f",
   "metadata": {},
   "source": [
    "We wanted to look for missing values in our dataset.\n",
    "We noticed that the coloumn 'diameter' was the only one with at least one missing value\n",
    "(because it was the only one that gave 'true' as output)."
   ]
  },
  {
   "cell_type": "code",
   "execution_count": 430,
   "id": "royal-baghdad",
   "metadata": {
    "scrolled": false
   },
   "outputs": [
    {
     "data": {
      "text/plain": [
       "vulc               False\n",
       "perc_nat_rubber    False\n",
       "wiring_strength    False\n",
       "weather            False\n",
       "perc_imp           False\n",
       "temperature        False\n",
       "tread_type         False\n",
       "tyre_season        False\n",
       "elevation          False\n",
       "month              False\n",
       "tread_depth        False\n",
       "tyre_quality       False\n",
       "perc_exp_comp      False\n",
       "diameter            True\n",
       "add_layers         False\n",
       "failure            False\n",
       "dtype: bool"
      ]
     },
     "execution_count": 430,
     "metadata": {},
     "output_type": "execute_result"
    }
   ],
   "source": [
    "#in which column of our dataset is there at least a missing values?\n",
    "df.isna().any()"
   ]
  },
  {
   "cell_type": "markdown",
   "id": "bfca6b13",
   "metadata": {},
   "source": [
    "We searched the percentage of Nan values in the diameter.\n",
    "We found that it was more than 70%.\n",
    "We decided to omit the diameter attribute from our analysis."
   ]
  },
  {
   "cell_type": "code",
   "execution_count": 431,
   "id": "third-holocaust",
   "metadata": {
    "scrolled": true
   },
   "outputs": [
    {
     "name": "stdout",
     "output_type": "stream",
     "text": [
      "NaN value in diameter: 2110\n",
      "Perc of NaN: 70.33333333333334 %\n"
     ]
    }
   ],
   "source": [
    "#percentage of NaN values in \"diameter\"\n",
    "a=df['diameter'].isna().sum();\n",
    "print(\"NaN value in diameter:\",a)\n",
    "print(\"Perc of NaN:\", a/len(df)*100,\"%\")\n"
   ]
  },
  {
   "cell_type": "markdown",
   "id": "preliminary-bhutan",
   "metadata": {},
   "source": [
    "So we can omit the diameter attribute from the analysis"
   ]
  },
  {
   "cell_type": "markdown",
   "id": "ef9610bb",
   "metadata": {},
   "source": [
    "We listed all the attributes: "
   ]
  },
  {
   "cell_type": "markdown",
   "id": "plain-split",
   "metadata": {},
   "source": [
    "Attributes: \n",
    "- vulc            Numerical \n",
    "- perc_nat_rubber Numerical\n",
    "- weather         Numerical\n",
    "- perc_imp        Numerical\n",
    "- temperature     Numerical \n",
    "- elevation       Numerical\n",
    "- perc_exp_comp   Numerical\n",
    "- diameter        Numerical\n",
    "- tread_type      Categorical \n",
    "- tyre_season     Categorical \n",
    "- month           Categorical \n",
    "- tread_depth     Categorical \n",
    "- wiring_strenght Categorical\n",
    "- tyre_quality    Categorical \n",
    "- add_layers      Categorical\n",
    "\n",
    "\n",
    "Categorical attributes assume a finite number of distinct values, in most cases limited to less than a hundred, representing a qualitative property of\n",
    "an entity to which they refer.\n",
    "Numerical attributes assume a finite or infinite number of values and lend themselves to subtraction or division operations."
   ]
  },
  {
   "cell_type": "markdown",
   "id": "fd1ce57d",
   "metadata": {},
   "source": [
    "We identified the datatype of our data.\n",
    "Some of the data are integers and some others are float. "
   ]
  },
  {
   "cell_type": "code",
   "execution_count": 432,
   "id": "engaged-france",
   "metadata": {},
   "outputs": [
    {
     "name": "stdout",
     "output_type": "stream",
     "text": [
      "vulc               float64\n",
      "perc_nat_rubber      int64\n",
      "wiring_strength      int64\n",
      "weather            float64\n",
      "perc_imp           float64\n",
      "temperature        float64\n",
      "tread_type           int64\n",
      "tyre_season          int64\n",
      "elevation          float64\n",
      "month                int64\n",
      "tread_depth          int64\n",
      "tyre_quality         int64\n",
      "perc_exp_comp      float64\n",
      "diameter           float64\n",
      "add_layers           int64\n",
      "failure              int64\n",
      "dtype: object\n"
     ]
    }
   ],
   "source": [
    "#come trattiamo le variabili categoriche \n",
    "print(df.dtypes)"
   ]
  },
  {
   "cell_type": "markdown",
   "id": "5c872722",
   "metadata": {},
   "source": [
    "We have 7 categorical variables and 7 numerical.\n",
    "We don't consider the 'diameter' because is full of Nan values. "
   ]
  },
  {
   "cell_type": "code",
   "execution_count": 433,
   "id": "narrative-plenty",
   "metadata": {},
   "outputs": [
    {
     "name": "stdout",
     "output_type": "stream",
     "text": [
      "(3000, 7)\n",
      "(3000, 7)\n"
     ]
    }
   ],
   "source": [
    "#non considero la colonna dei diametri perchè ci sono un sacco di nan e i valori non sono facili da predire \n",
    "cat=df[[\"tyre_season\",\"month\",          \"tread_depth\",\"wiring_strength\",\"tyre_quality\",\"tread_type\",\"add_layers\" ]]\n",
    "num=df[[\"vulc\",       \"perc_nat_rubber\",\"weather\",    \"perc_imp\",       \"temperature\", \"elevation\", \"perc_exp_comp\"]]\n",
    "\n",
    "print(cat.shape)\n",
    "print(num.shape)"
   ]
  },
  {
   "cell_type": "markdown",
   "id": "ee301972",
   "metadata": {},
   "source": [
    "# CATEGORICAL DATA"
   ]
  },
  {
   "cell_type": "code",
   "execution_count": 434,
   "id": "binary-evaluation",
   "metadata": {},
   "outputs": [
    {
     "data": {
      "text/html": [
       "<div>\n",
       "<style scoped>\n",
       "    .dataframe tbody tr th:only-of-type {\n",
       "        vertical-align: middle;\n",
       "    }\n",
       "\n",
       "    .dataframe tbody tr th {\n",
       "        vertical-align: top;\n",
       "    }\n",
       "\n",
       "    .dataframe thead th {\n",
       "        text-align: right;\n",
       "    }\n",
       "</style>\n",
       "<table border=\"1\" class=\"dataframe\">\n",
       "  <thead>\n",
       "    <tr style=\"text-align: right;\">\n",
       "      <th></th>\n",
       "      <th>tyre_season</th>\n",
       "      <th>month</th>\n",
       "      <th>tread_depth</th>\n",
       "      <th>wiring_strength</th>\n",
       "      <th>tyre_quality</th>\n",
       "      <th>tread_type</th>\n",
       "      <th>add_layers</th>\n",
       "    </tr>\n",
       "  </thead>\n",
       "  <tbody>\n",
       "    <tr>\n",
       "      <th>0</th>\n",
       "      <td>1</td>\n",
       "      <td>8</td>\n",
       "      <td>0</td>\n",
       "      <td>1</td>\n",
       "      <td>1</td>\n",
       "      <td>0</td>\n",
       "      <td>1</td>\n",
       "    </tr>\n",
       "    <tr>\n",
       "      <th>1</th>\n",
       "      <td>0</td>\n",
       "      <td>11</td>\n",
       "      <td>1</td>\n",
       "      <td>1</td>\n",
       "      <td>0</td>\n",
       "      <td>2</td>\n",
       "      <td>1</td>\n",
       "    </tr>\n",
       "    <tr>\n",
       "      <th>2</th>\n",
       "      <td>0</td>\n",
       "      <td>0</td>\n",
       "      <td>1</td>\n",
       "      <td>1</td>\n",
       "      <td>0</td>\n",
       "      <td>0</td>\n",
       "      <td>1</td>\n",
       "    </tr>\n",
       "    <tr>\n",
       "      <th>3</th>\n",
       "      <td>0</td>\n",
       "      <td>7</td>\n",
       "      <td>3</td>\n",
       "      <td>1</td>\n",
       "      <td>1</td>\n",
       "      <td>1</td>\n",
       "      <td>1</td>\n",
       "    </tr>\n",
       "    <tr>\n",
       "      <th>4</th>\n",
       "      <td>1</td>\n",
       "      <td>2</td>\n",
       "      <td>2</td>\n",
       "      <td>2</td>\n",
       "      <td>0</td>\n",
       "      <td>0</td>\n",
       "      <td>1</td>\n",
       "    </tr>\n",
       "  </tbody>\n",
       "</table>\n",
       "</div>"
      ],
      "text/plain": [
       "   tyre_season  month  tread_depth  wiring_strength  tyre_quality  tread_type  \\\n",
       "0            1      8            0                1             1           0   \n",
       "1            0     11            1                1             0           2   \n",
       "2            0      0            1                1             0           0   \n",
       "3            0      7            3                1             1           1   \n",
       "4            1      2            2                2             0           0   \n",
       "\n",
       "   add_layers  \n",
       "0           1  \n",
       "1           1  \n",
       "2           1  \n",
       "3           1  \n",
       "4           1  "
      ]
     },
     "execution_count": 434,
     "metadata": {},
     "output_type": "execute_result"
    }
   ],
   "source": [
    "cat.head()"
   ]
  },
  {
   "cell_type": "code",
   "execution_count": 435,
   "id": "extreme-earthquake",
   "metadata": {},
   "outputs": [
    {
     "data": {
      "text/html": [
       "<div>\n",
       "<style scoped>\n",
       "    .dataframe tbody tr th:only-of-type {\n",
       "        vertical-align: middle;\n",
       "    }\n",
       "\n",
       "    .dataframe tbody tr th {\n",
       "        vertical-align: top;\n",
       "    }\n",
       "\n",
       "    .dataframe thead th {\n",
       "        text-align: right;\n",
       "    }\n",
       "</style>\n",
       "<table border=\"1\" class=\"dataframe\">\n",
       "  <thead>\n",
       "    <tr style=\"text-align: right;\">\n",
       "      <th></th>\n",
       "      <th>vulc</th>\n",
       "      <th>perc_nat_rubber</th>\n",
       "      <th>weather</th>\n",
       "      <th>perc_imp</th>\n",
       "      <th>temperature</th>\n",
       "      <th>elevation</th>\n",
       "      <th>perc_exp_comp</th>\n",
       "    </tr>\n",
       "  </thead>\n",
       "  <tbody>\n",
       "    <tr>\n",
       "      <th>0</th>\n",
       "      <td>17.990</td>\n",
       "      <td>26</td>\n",
       "      <td>0.16</td>\n",
       "      <td>0.01</td>\n",
       "      <td>-8.12</td>\n",
       "      <td>332.5</td>\n",
       "      <td>5.13</td>\n",
       "    </tr>\n",
       "    <tr>\n",
       "      <th>1</th>\n",
       "      <td>20.704</td>\n",
       "      <td>36</td>\n",
       "      <td>0.30</td>\n",
       "      <td>0.01</td>\n",
       "      <td>-4.52</td>\n",
       "      <td>328.0</td>\n",
       "      <td>6.15</td>\n",
       "    </tr>\n",
       "    <tr>\n",
       "      <th>2</th>\n",
       "      <td>19.156</td>\n",
       "      <td>34</td>\n",
       "      <td>0.30</td>\n",
       "      <td>0.01</td>\n",
       "      <td>-1.08</td>\n",
       "      <td>247.0</td>\n",
       "      <td>6.36</td>\n",
       "    </tr>\n",
       "    <tr>\n",
       "      <th>3</th>\n",
       "      <td>16.802</td>\n",
       "      <td>35</td>\n",
       "      <td>0.19</td>\n",
       "      <td>0.02</td>\n",
       "      <td>7.44</td>\n",
       "      <td>408.0</td>\n",
       "      <td>6.62</td>\n",
       "    </tr>\n",
       "    <tr>\n",
       "      <th>4</th>\n",
       "      <td>17.140</td>\n",
       "      <td>23</td>\n",
       "      <td>0.39</td>\n",
       "      <td>0.01</td>\n",
       "      <td>30.52</td>\n",
       "      <td>308.0</td>\n",
       "      <td>6.15</td>\n",
       "    </tr>\n",
       "  </tbody>\n",
       "</table>\n",
       "</div>"
      ],
      "text/plain": [
       "     vulc  perc_nat_rubber  weather  perc_imp  temperature  elevation  \\\n",
       "0  17.990               26     0.16      0.01        -8.12      332.5   \n",
       "1  20.704               36     0.30      0.01        -4.52      328.0   \n",
       "2  19.156               34     0.30      0.01        -1.08      247.0   \n",
       "3  16.802               35     0.19      0.02         7.44      408.0   \n",
       "4  17.140               23     0.39      0.01        30.52      308.0   \n",
       "\n",
       "   perc_exp_comp  \n",
       "0           5.13  \n",
       "1           6.15  \n",
       "2           6.36  \n",
       "3           6.62  \n",
       "4           6.15  "
      ]
     },
     "execution_count": 435,
     "metadata": {},
     "output_type": "execute_result"
    }
   ],
   "source": [
    "num.head()"
   ]
  },
  {
   "cell_type": "markdown",
   "id": "f6ec6af4",
   "metadata": {},
   "source": [
    "We plot the histograms of the seven categorical variables."
   ]
  },
  {
   "cell_type": "code",
   "execution_count": 436,
   "id": "liquid-minister",
   "metadata": {},
   "outputs": [
    {
     "data": {
      "image/png": "[encoded data removed]",
      "text/plain": [
       "<Figure size 1152x576 with 8 Axes>"
      ]
     },
     "metadata": {
      "needs_background": "light"
     },
     "output_type": "display_data"
    }
   ],
   "source": [
    "cat_plot=df[[\"tyre_season\",\"month\",\"tread_depth\",\"wiring_strength\",\"tyre_quality\",\"tread_type\",\"add_layers\",\"failure\"]]\n",
    "fig, axes = plt.subplots(2, 4,figsize=[16,8])\n",
    "axes = axes.flatten()\n",
    "fig.tight_layout(h_pad=10)\n",
    "i=0\n",
    "for x in cat.columns:\n",
    "    sns.histplot(data=cat_plot, x=x, hue=\"failure\",stat ='probability' , ax=axes[i], binwidth=1/4 ,bins=len(set(cat_plot[x])))\n",
    "    i=i+1\n",
    "plt.show()"
   ]
  },
  {
   "cell_type": "code",
   "execution_count": 437,
   "id": "spectacular-kuwait",
   "metadata": {},
   "outputs": [
    {
     "data": {
      "text/plain": [
       "tyre_season        object\n",
       "month              object\n",
       "tread_depth        object\n",
       "wiring_strength    object\n",
       "tyre_quality       object\n",
       "tread_type         object\n",
       "add_layers         object\n",
       "dtype: object"
      ]
     },
     "execution_count": 437,
     "metadata": {},
     "output_type": "execute_result"
    }
   ],
   "source": [
    "#categorical variables have the \"object\" type\n",
    "#Categorical variables must be changed in the pre-processing section\n",
    "#since machine learning models require numeric input variables\n",
    "cat = cat.astype(str)\n",
    "cat.dtypes"
   ]
  },
  {
   "cell_type": "markdown",
   "id": "external-sculpture",
   "metadata": {},
   "source": [
    "We can observe a peak of 0 labeled observations in correspondence of \"month\" = 8. Since there are no reasons why there should be so many more 0 labeled observations in September, we will consider \"month\" a noise-affected attribute."
   ]
  },
  {
   "cell_type": "markdown",
   "id": "96e1acad",
   "metadata": {},
   "source": [
    "So we try to correct month 8"
   ]
  },
  {
   "cell_type": "code",
   "execution_count": 438,
   "id": "fleet-institute",
   "metadata": {},
   "outputs": [
    {
     "name": "stdout",
     "output_type": "stream",
     "text": [
      "655\n",
      "69\n"
     ]
    }
   ],
   "source": [
    "#try to correct month 8\n",
    "print(((df['month']==8) & (df['failure']==0)).sum())\n",
    "print(((df['month']==8) & (df['failure']==1)).sum())\n",
    "\n",
    "#too many items to delete o change the labels --> so i wont consider the month column "
   ]
  },
  {
   "cell_type": "markdown",
   "id": "paperback-going",
   "metadata": {},
   "source": [
    "## ENTROPY  e  GINI "
   ]
  },
  {
   "cell_type": "code",
   "execution_count": 439,
   "id": "abstract-finder",
   "metadata": {},
   "outputs": [],
   "source": [
    "import collections\n",
    "def CountFrequency(arr):\n",
    "    return collections.Counter(arr)\n",
    "\n",
    "def entropy(x):\n",
    "    e=0\n",
    "    for i in range(0,len(set(x))):\n",
    "        e=e+CountFrequency(x)[i]/len(x) * np.log2( CountFrequency(x)[i]/len(x) )\n",
    "    return -e \n",
    "\n",
    "#gini function \n",
    "def gini(x):\n",
    "    tot=0\n",
    "    for i in range(0,len(set(x))):\n",
    "        tot=tot+ (CountFrequency(x)[i]/len(x))**2\n",
    "    return 1-tot \n"
   ]
  },
  {
   "cell_type": "code",
   "execution_count": 440,
   "id": "recent-extreme",
   "metadata": {},
   "outputs": [
    {
     "name": "stdout",
     "output_type": "stream",
     "text": [
      "GINI --> 0.5 MAX ETEROGENETY\n",
      "GINI --> 0.0 MAX HOMOGENEITY**\n",
      "EI   --> 1   MAX ETEROGENETY\n",
      "EI   --> 0.0 MAX HOMOGENEITY**\n",
      "\n",
      "\n",
      "--> tyre_season :\n",
      "\n",
      "tyre_season = 0\n",
      "Gini index: 0.474  || Entropy index: 0.962\n",
      "tyre_season = 1\n",
      "Gini index: 0.416  || Entropy index: 0.875\n",
      "##\n",
      "\n",
      "\n",
      "--> month :\n",
      "\n",
      "month = 0\n",
      "Gini index: 0.48  || Entropy index: 0.97\n",
      "month = 1\n",
      "Gini index: 0.491  || Entropy index: 0.987\n",
      "month = 2\n",
      "Gini index: 0.486  || Entropy index: 0.98\n",
      "month = 3\n",
      "Gini index: 0.482  || Entropy index: 0.973\n",
      "month = 4\n",
      "Gini index: 0.487  || Entropy index: 0.981\n",
      "month = 5\n",
      "Gini index: 0.492  || Entropy index: 0.988\n",
      "month = 6\n",
      "Gini index: 0.489  || Entropy index: 0.983\n",
      "month = 7\n",
      "Gini index: 0.442  || Entropy index: 0.915\n",
      "month = 8\n",
      "Gini index: 0.172  || Entropy index: 0.454\n",
      "month = 9\n",
      "Gini index: 0.476  || Entropy index: 0.965\n",
      "month = 10\n",
      "Gini index: 0.474  || Entropy index: 0.962\n",
      "month = 11\n",
      "Gini index: 0.499  || Entropy index: 0.999\n",
      "##\n",
      "\n",
      "\n",
      "--> tread_depth :\n",
      "\n",
      "tread_depth = 0\n",
      "Gini index: 0.321  || Entropy index: 0.724\n",
      "tread_depth = 1\n",
      "Gini index: 0.487  || Entropy index: 0.982\n",
      "tread_depth = 2\n",
      "Gini index: 0.482  || Entropy index: 0.973\n",
      "tread_depth = 3\n",
      "Gini index: 0.492  || Entropy index: 0.989\n",
      "##\n",
      "\n",
      "\n",
      "--> wiring_strength :\n",
      "\n",
      "wiring_strength = 0\n",
      "Gini index: 0.457  || Entropy index: 0.937\n",
      "wiring_strength = 1\n",
      "Gini index: 0.427  || Entropy index: 0.892\n",
      "wiring_strength = 2\n",
      "Gini index: 0.485  || Entropy index: 0.979\n",
      "##\n",
      "\n",
      "\n",
      "--> tyre_quality :\n",
      "\n",
      "tyre_quality = 0\n",
      "Gini index: 0.492  || Entropy index: 0.989\n",
      "tyre_quality = 1\n",
      "Gini index: 0.197  || Entropy index: 0.503\n",
      "##\n",
      "\n",
      "\n",
      "--> tread_type :\n",
      "\n",
      "tread_type = 0\n",
      "Gini index: 0.311  || Entropy index: 0.708\n",
      "tread_type = 1\n",
      "Gini index: 0.468  || Entropy index: 0.954\n",
      "tread_type = 2\n",
      "Gini index: 0.491  || Entropy index: 0.986\n",
      "tread_type = 3\n",
      "Gini index: 0.473  || Entropy index: 0.961\n",
      "tread_type = 4\n",
      "Gini index: 0.496  || Entropy index: 0.995\n",
      "##\n",
      "\n",
      "\n",
      "--> add_layers :\n",
      "\n",
      "add_layers = 0\n",
      "Gini index: 0.45  || Entropy index: 0.926\n",
      "add_layers = 1\n",
      "Gini index: 0.444  || Entropy index: 0.917\n",
      "add_layers = 2\n",
      "Gini index: 0.49  || Entropy index: 0.985\n",
      "##\n",
      "\n",
      "\n"
     ]
    }
   ],
   "source": [
    "categories=['tyre_season','month','tread_depth','wiring_strength','tyre_quality','tread_type','add_layers'];\n",
    "\n",
    "print(\"GINI --> 0.5 MAX ETEROGENETY\\nGINI --> 0.0 MAX HOMOGENEITY**\")\n",
    "print(\"EI   --> 1   MAX ETEROGENETY\\nEI   --> 0.0 MAX HOMOGENEITY**\\n\\n\")\n",
    "#gini index for categories:\n",
    "for j in categories:\n",
    "    print(\"-->\",j,\":\\n\")\n",
    "    for i in set(df[j]):\n",
    "        lis=(np.array([df[df[j]==i]['failure']])).astype(int)\n",
    "        print(j ,\"=\",i) \n",
    "        print('Gini index:', round(gini(lis[0]),3), \" || Entropy index:\", round(entropy(lis[0]),3))\n",
    "    \n",
    "    print(\"##\")\n",
    "    print(\"\\n\")\n"
   ]
  },
  {
   "cell_type": "code",
   "execution_count": 441,
   "id": "everyday-innocent",
   "metadata": {},
   "outputs": [
    {
     "data": {
      "text/html": [
       "<div>\n",
       "<style scoped>\n",
       "    .dataframe tbody tr th:only-of-type {\n",
       "        vertical-align: middle;\n",
       "    }\n",
       "\n",
       "    .dataframe tbody tr th {\n",
       "        vertical-align: top;\n",
       "    }\n",
       "\n",
       "    .dataframe thead th {\n",
       "        text-align: right;\n",
       "    }\n",
       "</style>\n",
       "<table border=\"1\" class=\"dataframe\">\n",
       "  <thead>\n",
       "    <tr style=\"text-align: right;\">\n",
       "      <th></th>\n",
       "      <th>tyre_season_0</th>\n",
       "      <th>tyre_season_1</th>\n",
       "      <th>tread_depth_0</th>\n",
       "      <th>tread_depth_1</th>\n",
       "      <th>tread_depth_2</th>\n",
       "      <th>tread_depth_3</th>\n",
       "      <th>wiring_strength_0</th>\n",
       "      <th>wiring_strength_1</th>\n",
       "      <th>wiring_strength_2</th>\n",
       "      <th>tyre_quality_0</th>\n",
       "      <th>tyre_quality_1</th>\n",
       "      <th>tread_type_0</th>\n",
       "      <th>tread_type_1</th>\n",
       "      <th>tread_type_2</th>\n",
       "      <th>tread_type_3</th>\n",
       "      <th>tread_type_4</th>\n",
       "      <th>add_layers_0</th>\n",
       "      <th>add_layers_1</th>\n",
       "      <th>add_layers_2</th>\n",
       "    </tr>\n",
       "  </thead>\n",
       "  <tbody>\n",
       "    <tr>\n",
       "      <th>2995</th>\n",
       "      <td>0</td>\n",
       "      <td>1</td>\n",
       "      <td>0</td>\n",
       "      <td>1</td>\n",
       "      <td>0</td>\n",
       "      <td>0</td>\n",
       "      <td>0</td>\n",
       "      <td>0</td>\n",
       "      <td>1</td>\n",
       "      <td>0</td>\n",
       "      <td>1</td>\n",
       "      <td>0</td>\n",
       "      <td>1</td>\n",
       "      <td>0</td>\n",
       "      <td>0</td>\n",
       "      <td>0</td>\n",
       "      <td>0</td>\n",
       "      <td>1</td>\n",
       "      <td>0</td>\n",
       "    </tr>\n",
       "    <tr>\n",
       "      <th>2996</th>\n",
       "      <td>0</td>\n",
       "      <td>1</td>\n",
       "      <td>0</td>\n",
       "      <td>1</td>\n",
       "      <td>0</td>\n",
       "      <td>0</td>\n",
       "      <td>0</td>\n",
       "      <td>1</td>\n",
       "      <td>0</td>\n",
       "      <td>1</td>\n",
       "      <td>0</td>\n",
       "      <td>0</td>\n",
       "      <td>1</td>\n",
       "      <td>0</td>\n",
       "      <td>0</td>\n",
       "      <td>0</td>\n",
       "      <td>0</td>\n",
       "      <td>1</td>\n",
       "      <td>0</td>\n",
       "    </tr>\n",
       "    <tr>\n",
       "      <th>2997</th>\n",
       "      <td>1</td>\n",
       "      <td>0</td>\n",
       "      <td>0</td>\n",
       "      <td>0</td>\n",
       "      <td>0</td>\n",
       "      <td>1</td>\n",
       "      <td>0</td>\n",
       "      <td>1</td>\n",
       "      <td>0</td>\n",
       "      <td>0</td>\n",
       "      <td>1</td>\n",
       "      <td>0</td>\n",
       "      <td>1</td>\n",
       "      <td>0</td>\n",
       "      <td>0</td>\n",
       "      <td>0</td>\n",
       "      <td>1</td>\n",
       "      <td>0</td>\n",
       "      <td>0</td>\n",
       "    </tr>\n",
       "    <tr>\n",
       "      <th>2998</th>\n",
       "      <td>1</td>\n",
       "      <td>0</td>\n",
       "      <td>1</td>\n",
       "      <td>0</td>\n",
       "      <td>0</td>\n",
       "      <td>0</td>\n",
       "      <td>1</td>\n",
       "      <td>0</td>\n",
       "      <td>0</td>\n",
       "      <td>1</td>\n",
       "      <td>0</td>\n",
       "      <td>0</td>\n",
       "      <td>0</td>\n",
       "      <td>0</td>\n",
       "      <td>0</td>\n",
       "      <td>1</td>\n",
       "      <td>1</td>\n",
       "      <td>0</td>\n",
       "      <td>0</td>\n",
       "    </tr>\n",
       "    <tr>\n",
       "      <th>2999</th>\n",
       "      <td>1</td>\n",
       "      <td>0</td>\n",
       "      <td>0</td>\n",
       "      <td>1</td>\n",
       "      <td>0</td>\n",
       "      <td>0</td>\n",
       "      <td>0</td>\n",
       "      <td>0</td>\n",
       "      <td>1</td>\n",
       "      <td>1</td>\n",
       "      <td>0</td>\n",
       "      <td>0</td>\n",
       "      <td>1</td>\n",
       "      <td>0</td>\n",
       "      <td>0</td>\n",
       "      <td>0</td>\n",
       "      <td>1</td>\n",
       "      <td>0</td>\n",
       "      <td>0</td>\n",
       "    </tr>\n",
       "  </tbody>\n",
       "</table>\n",
       "</div>"
      ],
      "text/plain": [
       "      tyre_season_0  tyre_season_1  tread_depth_0  tread_depth_1  \\\n",
       "2995              0              1              0              1   \n",
       "2996              0              1              0              1   \n",
       "2997              1              0              0              0   \n",
       "2998              1              0              1              0   \n",
       "2999              1              0              0              1   \n",
       "\n",
       "      tread_depth_2  tread_depth_3  wiring_strength_0  wiring_strength_1  \\\n",
       "2995              0              0                  0                  0   \n",
       "2996              0              0                  0                  1   \n",
       "2997              0              1                  0                  1   \n",
       "2998              0              0                  1                  0   \n",
       "2999              0              0                  0                  0   \n",
       "\n",
       "      wiring_strength_2  tyre_quality_0  tyre_quality_1  tread_type_0  \\\n",
       "2995                  1               0               1             0   \n",
       "2996                  0               1               0             0   \n",
       "2997                  0               0               1             0   \n",
       "2998                  0               1               0             0   \n",
       "2999                  1               1               0             0   \n",
       "\n",
       "      tread_type_1  tread_type_2  tread_type_3  tread_type_4  add_layers_0  \\\n",
       "2995             1             0             0             0             0   \n",
       "2996             1             0             0             0             0   \n",
       "2997             1             0             0             0             1   \n",
       "2998             0             0             0             1             1   \n",
       "2999             1             0             0             0             1   \n",
       "\n",
       "      add_layers_1  add_layers_2  \n",
       "2995             1             0  \n",
       "2996             1             0  \n",
       "2997             0             0  \n",
       "2998             0             0  \n",
       "2999             0             0  "
      ]
     },
     "execution_count": 441,
     "metadata": {},
     "output_type": "execute_result"
    }
   ],
   "source": [
    "#month not considered \n",
    "selection_categorical=['tyre_season','tread_depth','wiring_strength','tyre_quality','tread_type','add_layers'];\n",
    "dummies = pd.get_dummies(cat[selection_categorical]) \n",
    "dummies.tail()"
   ]
  },
  {
   "cell_type": "markdown",
   "id": "3d9a0b90",
   "metadata": {},
   "source": [
    "## NUMERICAL DATA"
   ]
  },
  {
   "cell_type": "code",
   "execution_count": 442,
   "id": "electoral-surrey",
   "metadata": {},
   "outputs": [
    {
     "data": {
      "image/png": "[encoded data removed]",
      "text/plain": [
       "<Figure size 1080x504 with 8 Axes>"
      ]
     },
     "metadata": {
      "needs_background": "light"
     },
     "output_type": "display_data"
    }
   ],
   "source": [
    "fig, axes = plt.subplots(2, 4,figsize=[15,7])\n",
    "axes = axes.flatten()\n",
    "fig.tight_layout(h_pad=10)\n",
    "\n",
    "i=0\n",
    "for x in num.columns:\n",
    "    plt.sca(axes[i]) # set the current Axes\n",
    "    plt.hist(num[x],density=True)\n",
    "    plt.xticks(rotation = 90) # Rotates X-Axis Ticks by 45-degrees\n",
    "    plt.title(x)\n",
    "    i+=1\n",
    "plt.show()"
   ]
  },
  {
   "cell_type": "code",
   "execution_count": 443,
   "id": "pleased-saskatchewan",
   "metadata": {},
   "outputs": [
    {
     "data": {
      "text/plain": [
       "array([[<AxesSubplot:title={'center':'vulc'}>,\n",
       "        <AxesSubplot:title={'center':'logvulc'}>,\n",
       "        <AxesSubplot:title={'center':'weather'}>,\n",
       "        <AxesSubplot:title={'center':'logweather'}>],\n",
       "       [<AxesSubplot:title={'center':'perc_imp'}>,\n",
       "        <AxesSubplot:title={'center':'logpercimp'}>,\n",
       "        <AxesSubplot:title={'center':'elevation'}>,\n",
       "        <AxesSubplot:title={'center':'logelevation'}>]], dtype=object)"
      ]
     },
     "execution_count": 443,
     "metadata": {},
     "output_type": "execute_result"
    },
    {
     "data": {
      "image/png": "[encoded data removed]",
      "text/plain": [
       "<Figure size 1080x504 with 8 Axes>"
      ]
     },
     "metadata": {
      "needs_background": "light"
     },
     "output_type": "display_data"
    }
   ],
   "source": [
    "import math\n",
    "pd.options.mode.chained_assignment = None # no warning on creating a new column\n",
    "\n",
    "num['logvulc']=num['vulc'].apply(lambda x: math.log(x+1))\n",
    "num['logweather']=num['weather'].apply(lambda x: math.log(x+1))\n",
    "num['logpercimp']=num['perc_imp'].apply(lambda x: math.log(x+1))\n",
    "num['logelevation']=num['elevation'].apply(lambda x: math.log(x+1))\n",
    "\n",
    "num[['vulc','logvulc',\n",
    "             'weather','logweather',\n",
    "             'perc_imp','logpercimp',\n",
    "             'elevation','logelevation' ]].hist(layout=(2,4), figsize=(15,7))"
   ]
  },
  {
   "cell_type": "code",
   "execution_count": 444,
   "id": "heated-shelter",
   "metadata": {},
   "outputs": [
    {
     "data": {
      "text/plain": [
       "Index(['vulc', 'perc_nat_rubber', 'weather', 'perc_imp', 'temperature',\n",
       "       'elevation', 'perc_exp_comp', 'logvulc', 'logweather', 'logpercimp',\n",
       "       'logelevation'],\n",
       "      dtype='object')"
      ]
     },
     "execution_count": 444,
     "metadata": {},
     "output_type": "execute_result"
    }
   ],
   "source": [
    "num.columns"
   ]
  },
  {
   "cell_type": "code",
   "execution_count": 449,
   "id": "fresh-conversation",
   "metadata": {},
   "outputs": [],
   "source": [
    "sel_num=['vulc', 'perc_nat_rubber', 'weather', 'perc_imp', 'temperature', 'perc_exp_comp','logelevation']\n",
    "num=num[sel_num]"
   ]
  },
  {
   "cell_type": "code",
   "execution_count": 450,
   "id": "competent-coating",
   "metadata": {},
   "outputs": [
    {
     "data": {
      "image/png": "[encoded data removed]",
      "text/plain": [
       "<Figure size 1440x576 with 8 Axes>"
      ]
     },
     "metadata": {
      "needs_background": "light"
     },
     "output_type": "display_data"
    }
   ],
   "source": [
    "X0 = num[df['failure']==0]\n",
    "X1 = num[df['failure']==1]\n",
    "\n",
    "fig, axes = plt.subplots(ncols=4, nrows=2, figsize=(20,8))\n",
    "fig.tight_layout()\n",
    "\n",
    "for i, ax in zip(range(cat.columns.size), axes.flat):\n",
    "    sns.histplot(X0.iloc[:,i], color=\"blue\", ax=ax, stat='density', element=\"step\",  alpha=0.3)\n",
    "    sns.histplot(X1.iloc[:,i], color=\"red\", ax=ax,stat='density', element=\"step\",  alpha=0.3)\n",
    "plt.show()\n",
    "\n",
    "##provare ad applicare quache trasf"
   ]
  },
  {
   "cell_type": "markdown",
   "id": "acf85595",
   "metadata": {},
   "source": [
    "## STANDARDIZATION "
   ]
  },
  {
   "cell_type": "markdown",
   "id": "fdd91172",
   "metadata": {},
   "source": [
    "We did the standardization in order to obtain boxplots in the same range."
   ]
  },
  {
   "cell_type": "code",
   "execution_count": 451,
   "id": "pending-entity",
   "metadata": {},
   "outputs": [
    {
     "data": {
      "text/plain": [
       "<AxesSubplot:>"
      ]
     },
     "execution_count": 451,
     "metadata": {},
     "output_type": "execute_result"
    },
    {
     "data": {
      "image/png": "[encoded data removed]",
      "text/plain": [
       "<Figure size 432x288 with 1 Axes>"
      ]
     },
     "metadata": {
      "needs_background": "light"
     },
     "output_type": "display_data"
    }
   ],
   "source": [
    "num.boxplot(rot=90)\n",
    "\n",
    "#elevation has totally different numbers --> standardization "
   ]
  },
  {
   "cell_type": "code",
   "execution_count": 452,
   "id": "piano-turner",
   "metadata": {},
   "outputs": [
    {
     "data": {
      "text/html": [
       "<div>\n",
       "<style scoped>\n",
       "    .dataframe tbody tr th:only-of-type {\n",
       "        vertical-align: middle;\n",
       "    }\n",
       "\n",
       "    .dataframe tbody tr th {\n",
       "        vertical-align: top;\n",
       "    }\n",
       "\n",
       "    .dataframe thead th {\n",
       "        text-align: right;\n",
       "    }\n",
       "</style>\n",
       "<table border=\"1\" class=\"dataframe\">\n",
       "  <thead>\n",
       "    <tr style=\"text-align: right;\">\n",
       "      <th></th>\n",
       "      <th>vulc</th>\n",
       "      <th>perc_nat_rubber</th>\n",
       "      <th>weather</th>\n",
       "      <th>perc_imp</th>\n",
       "      <th>temperature</th>\n",
       "      <th>perc_exp_comp</th>\n",
       "      <th>logelevation</th>\n",
       "    </tr>\n",
       "  </thead>\n",
       "  <tbody>\n",
       "    <tr>\n",
       "      <th>2995</th>\n",
       "      <td>-0.231083</td>\n",
       "      <td>-0.456093</td>\n",
       "      <td>0.584065</td>\n",
       "      <td>-0.319087</td>\n",
       "      <td>1.702514</td>\n",
       "      <td>-0.271809</td>\n",
       "      <td>-0.462821</td>\n",
       "    </tr>\n",
       "    <tr>\n",
       "      <th>2996</th>\n",
       "      <td>-0.698653</td>\n",
       "      <td>-0.253355</td>\n",
       "      <td>-0.343773</td>\n",
       "      <td>-1.020379</td>\n",
       "      <td>0.164930</td>\n",
       "      <td>0.045070</td>\n",
       "      <td>-2.016652</td>\n",
       "    </tr>\n",
       "    <tr>\n",
       "      <th>2997</th>\n",
       "      <td>-1.269567</td>\n",
       "      <td>0.354859</td>\n",
       "      <td>0.584065</td>\n",
       "      <td>-0.319087</td>\n",
       "      <td>-0.187726</td>\n",
       "      <td>-0.539937</td>\n",
       "      <td>-0.957449</td>\n",
       "    </tr>\n",
       "    <tr>\n",
       "      <th>2998</th>\n",
       "      <td>0.433093</td>\n",
       "      <td>1.165810</td>\n",
       "      <td>-1.380768</td>\n",
       "      <td>-1.020379</td>\n",
       "      <td>0.284834</td>\n",
       "      <td>0.240072</td>\n",
       "      <td>-0.441574</td>\n",
       "    </tr>\n",
       "    <tr>\n",
       "      <th>2999</th>\n",
       "      <td>1.315301</td>\n",
       "      <td>0.354859</td>\n",
       "      <td>-1.217032</td>\n",
       "      <td>-1.020379</td>\n",
       "      <td>0.912563</td>\n",
       "      <td>0.508200</td>\n",
       "      <td>0.378516</td>\n",
       "    </tr>\n",
       "  </tbody>\n",
       "</table>\n",
       "</div>"
      ],
      "text/plain": [
       "          vulc  perc_nat_rubber   weather  perc_imp  temperature  \\\n",
       "2995 -0.231083        -0.456093  0.584065 -0.319087     1.702514   \n",
       "2996 -0.698653        -0.253355 -0.343773 -1.020379     0.164930   \n",
       "2997 -1.269567         0.354859  0.584065 -0.319087    -0.187726   \n",
       "2998  0.433093         1.165810 -1.380768 -1.020379     0.284834   \n",
       "2999  1.315301         0.354859 -1.217032 -1.020379     0.912563   \n",
       "\n",
       "      perc_exp_comp  logelevation  \n",
       "2995      -0.271809     -0.462821  \n",
       "2996       0.045070     -2.016652  \n",
       "2997      -0.539937     -0.957449  \n",
       "2998       0.240072     -0.441574  \n",
       "2999       0.508200      0.378516  "
      ]
     },
     "execution_count": 452,
     "metadata": {},
     "output_type": "execute_result"
    }
   ],
   "source": [
    "from sklearn.preprocessing import StandardScaler\n",
    "\n",
    "scaler = StandardScaler().fit(num) # No target\n",
    "scaled_num = pd.DataFrame(scaler.transform(num))\n",
    "scaled_num.columns = num.columns\n",
    "scaled_num.tail()"
   ]
  },
  {
   "cell_type": "code",
   "execution_count": 454,
   "id": "involved-april",
   "metadata": {},
   "outputs": [
    {
     "data": {
      "text/plain": [
       "<AxesSubplot:>"
      ]
     },
     "execution_count": 454,
     "metadata": {},
     "output_type": "execute_result"
    },
    {
     "data": {
      "image/png": "[encoded data removed]",
      "text/plain": [
       "<Figure size 432x288 with 1 Axes>"
      ]
     },
     "metadata": {
      "needs_background": "light"
     },
     "output_type": "display_data"
    }
   ],
   "source": [
    "scaled_num.boxplot(rot=90)\n",
    "\n",
    "#ok! "
   ]
  },
  {
   "cell_type": "markdown",
   "id": "4921084b",
   "metadata": {},
   "source": [
    "## PCA"
   ]
  },
  {
   "cell_type": "code",
   "execution_count": 455,
   "id": "atomic-equation",
   "metadata": {},
   "outputs": [
    {
     "data": {
      "text/plain": [
       "PCA()"
      ]
     },
     "execution_count": 455,
     "metadata": {},
     "output_type": "execute_result"
    }
   ],
   "source": [
    "#PCA fit\n",
    "from sklearn.decomposition import PCA\n",
    "# we can choose the number of components e.g. 10, the percentage of the total variance or set it to None (that means it automatically chooses the number of components)\n",
    "pca = PCA()\n",
    "pca.fit(scaled_num) #The fit learns some quantities from the data, most importantly the \"components\" and \"explained variance\""
   ]
  },
  {
   "cell_type": "code",
   "execution_count": 456,
   "id": "listed-linux",
   "metadata": {},
   "outputs": [
    {
     "data": {
      "text/html": [
       "<div>\n",
       "<style scoped>\n",
       "    .dataframe tbody tr th:only-of-type {\n",
       "        vertical-align: middle;\n",
       "    }\n",
       "\n",
       "    .dataframe tbody tr th {\n",
       "        vertical-align: top;\n",
       "    }\n",
       "\n",
       "    .dataframe thead th {\n",
       "        text-align: right;\n",
       "    }\n",
       "</style>\n",
       "<table border=\"1\" class=\"dataframe\">\n",
       "  <thead>\n",
       "    <tr style=\"text-align: right;\">\n",
       "      <th></th>\n",
       "      <th>PC1</th>\n",
       "      <th>PC2</th>\n",
       "      <th>PC3</th>\n",
       "      <th>PC4</th>\n",
       "      <th>PC5</th>\n",
       "      <th>PC6</th>\n",
       "      <th>PC7</th>\n",
       "    </tr>\n",
       "  </thead>\n",
       "  <tbody>\n",
       "    <tr>\n",
       "      <th>0</th>\n",
       "      <td>-2.012359</td>\n",
       "      <td>1.013312</td>\n",
       "      <td>0.140414</td>\n",
       "      <td>-0.310766</td>\n",
       "      <td>-0.064363</td>\n",
       "      <td>0.368618</td>\n",
       "      <td>0.068869</td>\n",
       "    </tr>\n",
       "    <tr>\n",
       "      <th>1</th>\n",
       "      <td>0.257987</td>\n",
       "      <td>-1.426708</td>\n",
       "      <td>1.289148</td>\n",
       "      <td>0.459799</td>\n",
       "      <td>0.140380</td>\n",
       "      <td>-0.641850</td>\n",
       "      <td>-0.277733</td>\n",
       "    </tr>\n",
       "    <tr>\n",
       "      <th>2</th>\n",
       "      <td>0.647584</td>\n",
       "      <td>-1.057340</td>\n",
       "      <td>0.081115</td>\n",
       "      <td>1.057527</td>\n",
       "      <td>0.475285</td>\n",
       "      <td>-0.731836</td>\n",
       "      <td>-0.205728</td>\n",
       "    </tr>\n",
       "    <tr>\n",
       "      <th>3</th>\n",
       "      <td>1.990059</td>\n",
       "      <td>-1.251383</td>\n",
       "      <td>-1.557192</td>\n",
       "      <td>-0.058523</td>\n",
       "      <td>0.291145</td>\n",
       "      <td>-0.288992</td>\n",
       "      <td>0.921453</td>\n",
       "    </tr>\n",
       "    <tr>\n",
       "      <th>4</th>\n",
       "      <td>2.814893</td>\n",
       "      <td>-0.493982</td>\n",
       "      <td>-2.969107</td>\n",
       "      <td>0.475155</td>\n",
       "      <td>3.056376</td>\n",
       "      <td>3.404511</td>\n",
       "      <td>-0.163897</td>\n",
       "    </tr>\n",
       "    <tr>\n",
       "      <th>...</th>\n",
       "      <td>...</td>\n",
       "      <td>...</td>\n",
       "      <td>...</td>\n",
       "      <td>...</td>\n",
       "      <td>...</td>\n",
       "      <td>...</td>\n",
       "      <td>...</td>\n",
       "    </tr>\n",
       "    <tr>\n",
       "      <th>2995</th>\n",
       "      <td>0.660893</td>\n",
       "      <td>0.154897</td>\n",
       "      <td>-0.779314</td>\n",
       "      <td>0.506321</td>\n",
       "      <td>0.674380</td>\n",
       "      <td>1.366112</td>\n",
       "      <td>-0.495467</td>\n",
       "    </tr>\n",
       "    <tr>\n",
       "      <th>2996</th>\n",
       "      <td>-0.812868</td>\n",
       "      <td>0.057538</td>\n",
       "      <td>-1.193362</td>\n",
       "      <td>1.880343</td>\n",
       "      <td>0.190467</td>\n",
       "      <td>-0.049267</td>\n",
       "      <td>-0.381057</td>\n",
       "    </tr>\n",
       "    <tr>\n",
       "      <th>2997</th>\n",
       "      <td>-0.094339</td>\n",
       "      <td>0.790495</td>\n",
       "      <td>-0.791869</td>\n",
       "      <td>0.907871</td>\n",
       "      <td>-1.003289</td>\n",
       "      <td>0.074029</td>\n",
       "      <td>-0.571855</td>\n",
       "    </tr>\n",
       "    <tr>\n",
       "      <th>2998</th>\n",
       "      <td>-0.672461</td>\n",
       "      <td>-1.838463</td>\n",
       "      <td>-0.269429</td>\n",
       "      <td>0.726145</td>\n",
       "      <td>-0.399143</td>\n",
       "      <td>0.121232</td>\n",
       "      <td>0.471260</td>\n",
       "    </tr>\n",
       "    <tr>\n",
       "      <th>2999</th>\n",
       "      <td>-0.372654</td>\n",
       "      <td>-2.114339</td>\n",
       "      <td>0.099960</td>\n",
       "      <td>-0.112387</td>\n",
       "      <td>0.785529</td>\n",
       "      <td>0.524069</td>\n",
       "      <td>0.298271</td>\n",
       "    </tr>\n",
       "  </tbody>\n",
       "</table>\n",
       "<p>3000 rows × 7 columns</p>\n",
       "</div>"
      ],
      "text/plain": [
       "           PC1       PC2       PC3       PC4       PC5       PC6       PC7\n",
       "0    -2.012359  1.013312  0.140414 -0.310766 -0.064363  0.368618  0.068869\n",
       "1     0.257987 -1.426708  1.289148  0.459799  0.140380 -0.641850 -0.277733\n",
       "2     0.647584 -1.057340  0.081115  1.057527  0.475285 -0.731836 -0.205728\n",
       "3     1.990059 -1.251383 -1.557192 -0.058523  0.291145 -0.288992  0.921453\n",
       "4     2.814893 -0.493982 -2.969107  0.475155  3.056376  3.404511 -0.163897\n",
       "...        ...       ...       ...       ...       ...       ...       ...\n",
       "2995  0.660893  0.154897 -0.779314  0.506321  0.674380  1.366112 -0.495467\n",
       "2996 -0.812868  0.057538 -1.193362  1.880343  0.190467 -0.049267 -0.381057\n",
       "2997 -0.094339  0.790495 -0.791869  0.907871 -1.003289  0.074029 -0.571855\n",
       "2998 -0.672461 -1.838463 -0.269429  0.726145 -0.399143  0.121232  0.471260\n",
       "2999 -0.372654 -2.114339  0.099960 -0.112387  0.785529  0.524069  0.298271\n",
       "\n",
       "[3000 rows x 7 columns]"
      ]
     },
     "execution_count": 456,
     "metadata": {},
     "output_type": "execute_result"
    }
   ],
   "source": [
    "#let's use the pca to transform the dataset\n",
    "num_pca = pd.DataFrame(pca.transform(scaled_num))\n",
    "num_pca.columns =['PC1','PC2','PC3','PC4','PC5','PC6','PC7']\n",
    "num_pca"
   ]
  },
  {
   "cell_type": "code",
   "execution_count": 457,
   "id": "armed-seminar",
   "metadata": {},
   "outputs": [
    {
     "data": {
      "text/html": [
       "<div>\n",
       "<style scoped>\n",
       "    .dataframe tbody tr th:only-of-type {\n",
       "        vertical-align: middle;\n",
       "    }\n",
       "\n",
       "    .dataframe tbody tr th {\n",
       "        vertical-align: top;\n",
       "    }\n",
       "\n",
       "    .dataframe thead th {\n",
       "        text-align: right;\n",
       "    }\n",
       "</style>\n",
       "<table border=\"1\" class=\"dataframe\">\n",
       "  <thead>\n",
       "    <tr style=\"text-align: right;\">\n",
       "      <th></th>\n",
       "      <th>vulc</th>\n",
       "      <th>perc_nat_rubber</th>\n",
       "      <th>weather</th>\n",
       "      <th>perc_imp</th>\n",
       "      <th>temperature</th>\n",
       "      <th>perc_exp_comp</th>\n",
       "      <th>logelevation</th>\n",
       "    </tr>\n",
       "  </thead>\n",
       "  <tbody>\n",
       "    <tr>\n",
       "      <th>PC1</th>\n",
       "      <td>-0.081949</td>\n",
       "      <td>0.291859</td>\n",
       "      <td>0.512896</td>\n",
       "      <td>0.445815</td>\n",
       "      <td>0.471033</td>\n",
       "      <td>0.455399</td>\n",
       "      <td>0.130499</td>\n",
       "    </tr>\n",
       "    <tr>\n",
       "      <th>PC2</th>\n",
       "      <td>-0.390335</td>\n",
       "      <td>-0.489377</td>\n",
       "      <td>0.370810</td>\n",
       "      <td>0.498347</td>\n",
       "      <td>-0.233519</td>\n",
       "      <td>-0.370533</td>\n",
       "      <td>-0.174564</td>\n",
       "    </tr>\n",
       "    <tr>\n",
       "      <th>PC3</th>\n",
       "      <td>0.800150</td>\n",
       "      <td>0.180656</td>\n",
       "      <td>0.229710</td>\n",
       "      <td>0.330300</td>\n",
       "      <td>-0.338227</td>\n",
       "      <td>-0.219206</td>\n",
       "      <td>0.053010</td>\n",
       "    </tr>\n",
       "    <tr>\n",
       "      <th>PC4</th>\n",
       "      <td>0.065554</td>\n",
       "      <td>0.218401</td>\n",
       "      <td>0.032100</td>\n",
       "      <td>-0.023663</td>\n",
       "      <td>0.092740</td>\n",
       "      <td>0.040183</td>\n",
       "      <td>-0.967573</td>\n",
       "    </tr>\n",
       "    <tr>\n",
       "      <th>PC5</th>\n",
       "      <td>0.423758</td>\n",
       "      <td>-0.765225</td>\n",
       "      <td>-0.069755</td>\n",
       "      <td>0.004130</td>\n",
       "      <td>0.302546</td>\n",
       "      <td>0.357660</td>\n",
       "      <td>-0.102580</td>\n",
       "    </tr>\n",
       "    <tr>\n",
       "      <th>PC6</th>\n",
       "      <td>0.124202</td>\n",
       "      <td>0.015077</td>\n",
       "      <td>0.024383</td>\n",
       "      <td>-0.070499</td>\n",
       "      <td>0.705877</td>\n",
       "      <td>-0.691143</td>\n",
       "      <td>0.053305</td>\n",
       "    </tr>\n",
       "    <tr>\n",
       "      <th>PC7</th>\n",
       "      <td>-0.037274</td>\n",
       "      <td>0.095898</td>\n",
       "      <td>-0.734970</td>\n",
       "      <td>0.662007</td>\n",
       "      <td>0.103935</td>\n",
       "      <td>0.007225</td>\n",
       "      <td>-0.011190</td>\n",
       "    </tr>\n",
       "  </tbody>\n",
       "</table>\n",
       "</div>"
      ],
      "text/plain": [
       "         vulc  perc_nat_rubber   weather  perc_imp  temperature  \\\n",
       "PC1 -0.081949         0.291859  0.512896  0.445815     0.471033   \n",
       "PC2 -0.390335        -0.489377  0.370810  0.498347    -0.233519   \n",
       "PC3  0.800150         0.180656  0.229710  0.330300    -0.338227   \n",
       "PC4  0.065554         0.218401  0.032100 -0.023663     0.092740   \n",
       "PC5  0.423758        -0.765225 -0.069755  0.004130     0.302546   \n",
       "PC6  0.124202         0.015077  0.024383 -0.070499     0.705877   \n",
       "PC7 -0.037274         0.095898 -0.734970  0.662007     0.103935   \n",
       "\n",
       "     perc_exp_comp  logelevation  \n",
       "PC1       0.455399      0.130499  \n",
       "PC2      -0.370533     -0.174564  \n",
       "PC3      -0.219206      0.053010  \n",
       "PC4       0.040183     -0.967573  \n",
       "PC5       0.357660     -0.102580  \n",
       "PC6      -0.691143      0.053305  \n",
       "PC7       0.007225     -0.011190  "
      ]
     },
     "execution_count": 457,
     "metadata": {},
     "output_type": "execute_result"
    }
   ],
   "source": [
    "pd.DataFrame(pca.components_,index=['PC1','PC2','PC3','PC4','PC5','PC6','PC7'],columns=num.columns)"
   ]
  },
  {
   "cell_type": "code",
   "execution_count": 458,
   "id": "incorporated-brook",
   "metadata": {},
   "outputs": [
    {
     "data": {
      "text/html": [
       "<div>\n",
       "<style scoped>\n",
       "    .dataframe tbody tr th:only-of-type {\n",
       "        vertical-align: middle;\n",
       "    }\n",
       "\n",
       "    .dataframe tbody tr th {\n",
       "        vertical-align: top;\n",
       "    }\n",
       "\n",
       "    .dataframe thead th {\n",
       "        text-align: right;\n",
       "    }\n",
       "</style>\n",
       "<table border=\"1\" class=\"dataframe\">\n",
       "  <thead>\n",
       "    <tr style=\"text-align: right;\">\n",
       "      <th></th>\n",
       "      <th>0</th>\n",
       "      <th>1</th>\n",
       "      <th>2</th>\n",
       "      <th>3</th>\n",
       "      <th>4</th>\n",
       "      <th>5</th>\n",
       "      <th>6</th>\n",
       "    </tr>\n",
       "  </thead>\n",
       "  <tbody>\n",
       "    <tr>\n",
       "      <th>0</th>\n",
       "      <td>2.598115</td>\n",
       "      <td>1.16474</td>\n",
       "      <td>1.042887</td>\n",
       "      <td>0.971148</td>\n",
       "      <td>0.713823</td>\n",
       "      <td>0.332024</td>\n",
       "      <td>0.179597</td>\n",
       "    </tr>\n",
       "  </tbody>\n",
       "</table>\n",
       "</div>"
      ],
      "text/plain": [
       "          0        1         2         3         4         5         6\n",
       "0  2.598115  1.16474  1.042887  0.971148  0.713823  0.332024  0.179597"
      ]
     },
     "execution_count": 458,
     "metadata": {},
     "output_type": "execute_result"
    }
   ],
   "source": [
    "pd.DataFrame(pca.explained_variance_).transpose()"
   ]
  },
  {
   "cell_type": "code",
   "execution_count": 459,
   "id": "dressed-blood",
   "metadata": {},
   "outputs": [
    {
     "name": "stdout",
     "output_type": "stream",
     "text": [
      "          0         1         2         3         4         5         6\n",
      "0  0.371036  0.166336  0.148934  0.138689  0.101941  0.047416  0.025648\n"
     ]
    },
    {
     "data": {
      "image/png": "[encoded data removed]",
      "text/plain": [
       "<Figure size 432x288 with 1 Axes>"
      ]
     },
     "metadata": {
      "needs_background": "light"
     },
     "output_type": "display_data"
    }
   ],
   "source": [
    "#VISUALIZE The percentage of variance explained by each of the selected components.\n",
    "explained_var=pd.DataFrame(pca.explained_variance_ratio_).transpose()\n",
    "print(explained_var)\n",
    "ax = sns.barplot( data=explained_var)"
   ]
  },
  {
   "cell_type": "code",
   "execution_count": 460,
   "id": "spatial-ceremony",
   "metadata": {},
   "outputs": [
    {
     "data": {
      "text/html": [
       "<div>\n",
       "<style scoped>\n",
       "    .dataframe tbody tr th:only-of-type {\n",
       "        vertical-align: middle;\n",
       "    }\n",
       "\n",
       "    .dataframe tbody tr th {\n",
       "        vertical-align: top;\n",
       "    }\n",
       "\n",
       "    .dataframe thead th {\n",
       "        text-align: right;\n",
       "    }\n",
       "</style>\n",
       "<table border=\"1\" class=\"dataframe\">\n",
       "  <thead>\n",
       "    <tr style=\"text-align: right;\">\n",
       "      <th></th>\n",
       "      <th>0</th>\n",
       "      <th>1</th>\n",
       "      <th>2</th>\n",
       "      <th>3</th>\n",
       "      <th>4</th>\n",
       "      <th>5</th>\n",
       "      <th>6</th>\n",
       "    </tr>\n",
       "  </thead>\n",
       "  <tbody>\n",
       "    <tr>\n",
       "      <th>0</th>\n",
       "      <td>0.371036</td>\n",
       "      <td>0.537372</td>\n",
       "      <td>0.686306</td>\n",
       "      <td>0.824995</td>\n",
       "      <td>0.926936</td>\n",
       "      <td>0.974352</td>\n",
       "      <td>1.0</td>\n",
       "    </tr>\n",
       "  </tbody>\n",
       "</table>\n",
       "</div>"
      ],
      "text/plain": [
       "          0         1         2         3         4         5    6\n",
       "0  0.371036  0.537372  0.686306  0.824995  0.926936  0.974352  1.0"
      ]
     },
     "execution_count": 460,
     "metadata": {},
     "output_type": "execute_result"
    }
   ],
   "source": [
    "cum_explained_var=np.cumsum(pca.explained_variance_ratio_)\n",
    "cum_explained_var= pd.DataFrame(cum_explained_var).transpose()\n",
    "cum_explained_var"
   ]
  },
  {
   "cell_type": "code",
   "execution_count": 461,
   "id": "authorized-roller",
   "metadata": {},
   "outputs": [
    {
     "data": {
      "text/plain": [
       "<matplotlib.lines.Line2D at 0x1d6c69d1748>"
      ]
     },
     "execution_count": 461,
     "metadata": {},
     "output_type": "execute_result"
    },
    {
     "data": {
      "image/png": "[encoded data removed]",
      "text/plain": [
       "<Figure size 432x288 with 1 Axes>"
      ]
     },
     "metadata": {
      "needs_background": "light"
     },
     "output_type": "display_data"
    }
   ],
   "source": [
    "ax = sns.barplot(data=cum_explained_var)\n",
    "ax.axhline(0.9)\n",
    "ax.axhline(0.8)"
   ]
  },
  {
   "cell_type": "code",
   "execution_count": 462,
   "id": "strange-people",
   "metadata": {},
   "outputs": [
    {
     "data": {
      "image/png": "[encoded data removed]",
      "text/plain": [
       "<Figure size 432x288 with 1 Axes>"
      ]
     },
     "metadata": {
      "needs_background": "light"
     },
     "output_type": "display_data"
    }
   ],
   "source": [
    "def myplot(score,coeff,labels=None):\n",
    "    xs = score[:,0]\n",
    "    ys = score[:,1]\n",
    "    n = coeff.shape[0]\n",
    "    scalex = 1.0/(xs.max() - xs.min())\n",
    "    scaley = 1.0/(ys.max() - ys.min())\n",
    "    plt.scatter(xs * scalex,ys * scaley)\n",
    "    for i in range(n):\n",
    "        plt.arrow(0, 0, coeff[i,0], coeff[i,1],color = 'r',alpha = 0.5)\n",
    "        if labels is None:\n",
    "            plt.text(coeff[i,0]* 1.15, coeff[i,1] * 1.15, \"Var\"+str(i+1), color = 'g', ha = 'center', va = 'center')\n",
    "        else:\n",
    "            plt.text(coeff[i,0]* 1.15, coeff[i,1] * 1.15, labels[i], color = 'g', ha = 'center', va = 'center')\n",
    "    plt.xlim(-1,1)\n",
    "    plt.ylim(-1,1)\n",
    "    plt.xlabel(\"PC{}\".format(1))\n",
    "    plt.ylabel(\"PC{}\".format(2))\n",
    "    plt.grid()\n",
    "\n",
    "#Call the function. Use only the 2 PCs.\n",
    "myplot(pca.transform(scaled_num)[:,0:2],np.transpose(pca.components_[0:2, :]), num.columns)\n",
    "plt.show()\n",
    "\n",
    "\n",
    "\n",
    "#perc_imp e wheater sono correlate? "
   ]
  },
  {
   "cell_type": "code",
   "execution_count": 463,
   "id": "thousand-treasury",
   "metadata": {},
   "outputs": [
    {
     "data": {
      "text/plain": [
       "<AxesSubplot:xlabel='PC1', ylabel='PC2'>"
      ]
     },
     "execution_count": 463,
     "metadata": {},
     "output_type": "execute_result"
    },
    {
     "data": {
      "image/png": "[encoded data removed]",
      "text/plain": [
       "<Figure size 432x288 with 1 Axes>"
      ]
     },
     "metadata": {
      "needs_background": "light"
     },
     "output_type": "display_data"
    }
   ],
   "source": [
    "sns.scatterplot(x=\"PC1\", y=\"PC2\",\n",
    "              hue=df['failure'], alpha=0.5,\n",
    "              data=num_pca,\n",
    "              palette='deep')"
   ]
  },
  {
   "cell_type": "code",
   "execution_count": 464,
   "id": "three-mustang",
   "metadata": {},
   "outputs": [
    {
     "data": {
      "image/png": "[encoded data removed]",
      "text/plain": [
       "<Figure size 360x360 with 2 Axes>"
      ]
     },
     "metadata": {
      "needs_background": "light"
     },
     "output_type": "display_data"
    }
   ],
   "source": [
    "plt.figure(figsize = (5,5))\n",
    "sns.heatmap(data=scaled_num.corr().round(2), cmap='coolwarm', linewidths=.5, annot=True, annot_kws={\"size\":12})\n",
    "plt.show()\n",
    "\n",
    "#perc_imp e  weather !! does make it sense?"
   ]
  },
  {
   "cell_type": "markdown",
   "id": "lyric-argentina",
   "metadata": {},
   "source": [
    "## Concatenation \n",
    "As first part of the analysis we deal with not over-sampled data, so with an unbalanced dataset."
   ]
  },
  {
   "cell_type": "code",
   "execution_count": 465,
   "id": "silent-mediterranean",
   "metadata": {},
   "outputs": [
    {
     "name": "stdout",
     "output_type": "stream",
     "text": [
      "(3000, 26)\n"
     ]
    },
    {
     "data": {
      "text/html": [
       "<div>\n",
       "<style scoped>\n",
       "    .dataframe tbody tr th:only-of-type {\n",
       "        vertical-align: middle;\n",
       "    }\n",
       "\n",
       "    .dataframe tbody tr th {\n",
       "        vertical-align: top;\n",
       "    }\n",
       "\n",
       "    .dataframe thead th {\n",
       "        text-align: right;\n",
       "    }\n",
       "</style>\n",
       "<table border=\"1\" class=\"dataframe\">\n",
       "  <thead>\n",
       "    <tr style=\"text-align: right;\">\n",
       "      <th></th>\n",
       "      <th>vulc</th>\n",
       "      <th>perc_nat_rubber</th>\n",
       "      <th>weather</th>\n",
       "      <th>perc_imp</th>\n",
       "      <th>temperature</th>\n",
       "      <th>perc_exp_comp</th>\n",
       "      <th>logelevation</th>\n",
       "      <th>tyre_season_0</th>\n",
       "      <th>tyre_season_1</th>\n",
       "      <th>tread_depth_0</th>\n",
       "      <th>...</th>\n",
       "      <th>tyre_quality_0</th>\n",
       "      <th>tyre_quality_1</th>\n",
       "      <th>tread_type_0</th>\n",
       "      <th>tread_type_1</th>\n",
       "      <th>tread_type_2</th>\n",
       "      <th>tread_type_3</th>\n",
       "      <th>tread_type_4</th>\n",
       "      <th>add_layers_0</th>\n",
       "      <th>add_layers_1</th>\n",
       "      <th>add_layers_2</th>\n",
       "    </tr>\n",
       "  </thead>\n",
       "  <tbody>\n",
       "    <tr>\n",
       "      <th>2995</th>\n",
       "      <td>-0.231083</td>\n",
       "      <td>-0.456093</td>\n",
       "      <td>0.584065</td>\n",
       "      <td>-0.319087</td>\n",
       "      <td>1.702514</td>\n",
       "      <td>-0.271809</td>\n",
       "      <td>-0.462821</td>\n",
       "      <td>0</td>\n",
       "      <td>1</td>\n",
       "      <td>0</td>\n",
       "      <td>...</td>\n",
       "      <td>0</td>\n",
       "      <td>1</td>\n",
       "      <td>0</td>\n",
       "      <td>1</td>\n",
       "      <td>0</td>\n",
       "      <td>0</td>\n",
       "      <td>0</td>\n",
       "      <td>0</td>\n",
       "      <td>1</td>\n",
       "      <td>0</td>\n",
       "    </tr>\n",
       "    <tr>\n",
       "      <th>2996</th>\n",
       "      <td>-0.698653</td>\n",
       "      <td>-0.253355</td>\n",
       "      <td>-0.343773</td>\n",
       "      <td>-1.020379</td>\n",
       "      <td>0.164930</td>\n",
       "      <td>0.045070</td>\n",
       "      <td>-2.016652</td>\n",
       "      <td>0</td>\n",
       "      <td>1</td>\n",
       "      <td>0</td>\n",
       "      <td>...</td>\n",
       "      <td>1</td>\n",
       "      <td>0</td>\n",
       "      <td>0</td>\n",
       "      <td>1</td>\n",
       "      <td>0</td>\n",
       "      <td>0</td>\n",
       "      <td>0</td>\n",
       "      <td>0</td>\n",
       "      <td>1</td>\n",
       "      <td>0</td>\n",
       "    </tr>\n",
       "    <tr>\n",
       "      <th>2997</th>\n",
       "      <td>-1.269567</td>\n",
       "      <td>0.354859</td>\n",
       "      <td>0.584065</td>\n",
       "      <td>-0.319087</td>\n",
       "      <td>-0.187726</td>\n",
       "      <td>-0.539937</td>\n",
       "      <td>-0.957449</td>\n",
       "      <td>1</td>\n",
       "      <td>0</td>\n",
       "      <td>0</td>\n",
       "      <td>...</td>\n",
       "      <td>0</td>\n",
       "      <td>1</td>\n",
       "      <td>0</td>\n",
       "      <td>1</td>\n",
       "      <td>0</td>\n",
       "      <td>0</td>\n",
       "      <td>0</td>\n",
       "      <td>1</td>\n",
       "      <td>0</td>\n",
       "      <td>0</td>\n",
       "    </tr>\n",
       "    <tr>\n",
       "      <th>2998</th>\n",
       "      <td>0.433093</td>\n",
       "      <td>1.165810</td>\n",
       "      <td>-1.380768</td>\n",
       "      <td>-1.020379</td>\n",
       "      <td>0.284834</td>\n",
       "      <td>0.240072</td>\n",
       "      <td>-0.441574</td>\n",
       "      <td>1</td>\n",
       "      <td>0</td>\n",
       "      <td>1</td>\n",
       "      <td>...</td>\n",
       "      <td>1</td>\n",
       "      <td>0</td>\n",
       "      <td>0</td>\n",
       "      <td>0</td>\n",
       "      <td>0</td>\n",
       "      <td>0</td>\n",
       "      <td>1</td>\n",
       "      <td>1</td>\n",
       "      <td>0</td>\n",
       "      <td>0</td>\n",
       "    </tr>\n",
       "    <tr>\n",
       "      <th>2999</th>\n",
       "      <td>1.315301</td>\n",
       "      <td>0.354859</td>\n",
       "      <td>-1.217032</td>\n",
       "      <td>-1.020379</td>\n",
       "      <td>0.912563</td>\n",
       "      <td>0.508200</td>\n",
       "      <td>0.378516</td>\n",
       "      <td>1</td>\n",
       "      <td>0</td>\n",
       "      <td>0</td>\n",
       "      <td>...</td>\n",
       "      <td>1</td>\n",
       "      <td>0</td>\n",
       "      <td>0</td>\n",
       "      <td>1</td>\n",
       "      <td>0</td>\n",
       "      <td>0</td>\n",
       "      <td>0</td>\n",
       "      <td>1</td>\n",
       "      <td>0</td>\n",
       "      <td>0</td>\n",
       "    </tr>\n",
       "  </tbody>\n",
       "</table>\n",
       "<p>5 rows × 26 columns</p>\n",
       "</div>"
      ],
      "text/plain": [
       "          vulc  perc_nat_rubber   weather  perc_imp  temperature  \\\n",
       "2995 -0.231083        -0.456093  0.584065 -0.319087     1.702514   \n",
       "2996 -0.698653        -0.253355 -0.343773 -1.020379     0.164930   \n",
       "2997 -1.269567         0.354859  0.584065 -0.319087    -0.187726   \n",
       "2998  0.433093         1.165810 -1.380768 -1.020379     0.284834   \n",
       "2999  1.315301         0.354859 -1.217032 -1.020379     0.912563   \n",
       "\n",
       "      perc_exp_comp  logelevation  tyre_season_0  tyre_season_1  \\\n",
       "2995      -0.271809     -0.462821              0              1   \n",
       "2996       0.045070     -2.016652              0              1   \n",
       "2997      -0.539937     -0.957449              1              0   \n",
       "2998       0.240072     -0.441574              1              0   \n",
       "2999       0.508200      0.378516              1              0   \n",
       "\n",
       "      tread_depth_0  ...  tyre_quality_0  tyre_quality_1  tread_type_0  \\\n",
       "2995              0  ...               0               1             0   \n",
       "2996              0  ...               1               0             0   \n",
       "2997              0  ...               0               1             0   \n",
       "2998              1  ...               1               0             0   \n",
       "2999              0  ...               1               0             0   \n",
       "\n",
       "      tread_type_1  tread_type_2  tread_type_3  tread_type_4  add_layers_0  \\\n",
       "2995             1             0             0             0             0   \n",
       "2996             1             0             0             0             0   \n",
       "2997             1             0             0             0             1   \n",
       "2998             0             0             0             1             1   \n",
       "2999             1             0             0             0             1   \n",
       "\n",
       "      add_layers_1  add_layers_2  \n",
       "2995             1             0  \n",
       "2996             1             0  \n",
       "2997             0             0  \n",
       "2998             0             0  \n",
       "2999             0             0  \n",
       "\n",
       "[5 rows x 26 columns]"
      ]
     },
     "execution_count": 465,
     "metadata": {},
     "output_type": "execute_result"
    }
   ],
   "source": [
    "X=pd.concat([scaled_num,dummies], axis = 1)\n",
    "print(X.shape)\n",
    "X.tail()"
   ]
  },
  {
   "cell_type": "code",
   "execution_count": 466,
   "id": "brief-emperor",
   "metadata": {},
   "outputs": [
    {
     "name": "stdout",
     "output_type": "stream",
     "text": [
      "3000\n"
     ]
    }
   ],
   "source": [
    "y=df['failure']\n",
    "print(len(y))"
   ]
  },
  {
   "cell_type": "code",
   "execution_count": 467,
   "id": "soviet-produce",
   "metadata": {},
   "outputs": [
    {
     "name": "stdout",
     "output_type": "stream",
     "text": [
      "(2100, 26) (900, 26)\n"
     ]
    }
   ],
   "source": [
    "from sklearn.model_selection import train_test_split\n",
    "\n",
    "#SPLIT DATA INTO TRAIN AND TEST SET\n",
    "X_train, X_test, y_train, y_test = train_test_split(X, y, \n",
    "                                                    test_size =0.30,   \n",
    "                                                    stratify=y,        #preserve target propotions (probviamo non stratificata)\n",
    "                                                    random_state= 321) #fix random seed for replicability\n",
    "\n",
    "print( X_train.shape, X_test.shape)"
   ]
  },
  {
   "cell_type": "markdown",
   "id": "tamil-consensus",
   "metadata": {},
   "source": [
    "## Models"
   ]
  },
  {
   "cell_type": "code",
   "execution_count": 468,
   "id": "adapted-hunger",
   "metadata": {},
   "outputs": [],
   "source": [
    "from sklearn.model_selection import GridSearchCV\n",
    "from sklearn.metrics import confusion_matrix\n",
    "from sklearn.metrics import classification_report\n",
    "from sklearn import metrics \n",
    "from sklearn.metrics import f1_score\n",
    "from sklearn.metrics import precision_score"
   ]
  },
  {
   "cell_type": "code",
   "execution_count": 469,
   "id": "armed-commodity",
   "metadata": {},
   "outputs": [],
   "source": [
    "#funzioni \n",
    "\n",
    "\n",
    "def hyperp_search(classifier, parameters):\n",
    "    gs = GridSearchCV(classifier, parameters, cv=3, scoring = 'f1', verbose=10, n_jobs=-1)\n",
    "    gs = gs.fit(X_train, y_train)\n",
    "    print(\"f1_train: %f using %s\" % (gs.best_score_, gs.best_params_))\n",
    "\n",
    "    best_model = gs.best_estimator_\n",
    "    y_pred = best_model.predict(X_test)\n",
    "    y_pred_train = best_model.predict(X_train)\n",
    "    print(\"\\n\")\n",
    "    print(\"f1         train %.3f   test %.3f\" % (f1_score(y_train, y_pred_train), f1_score(y_test, y_pred) ))  \n",
    "    print(\"\\n\")\n",
    "    print(confusion_matrix(y_test, y_pred))\n",
    "    return ( f1_score(y_train, y_pred_train),f1_score(y_test, y_pred) )\n",
    "\n",
    "def roc(model,X_train,y_train,X_test,y_test):\n",
    "    model.fit(X_train, y_train)\n",
    "    y_pred = model.predict(X_test)\n",
    "\n",
    "    y_probs = model.predict_proba(X_test) #predict_proba gives the probabilities for the target (0 and 1 in your case) \n",
    "\n",
    "    fpr, tpr, thresholds1=metrics.roc_curve(y_test,  y_probs[:,1])\n",
    "\n",
    "    import matplotlib.pyplot as plt\n",
    "    plt.plot(fpr, tpr, label='ROC')\n",
    "    plt.plot([0, 1], [0, 1], color='darkblue', linestyle='--')\n",
    "    plt.xlabel('False Positive Rate')\n",
    "    plt.ylabel('True Positive Rate')\n",
    "    plt.title('Receiver Operating Characteristic (ROC) Curve')\n",
    "    plt.legend()\n",
    "    plt.show()\n",
    "\n",
    "    auc = metrics.roc_auc_score(y_test, y_probs[:,1])\n",
    "    print('AUC: %.3f' % auc)\n",
    "    return (fpr, tpr ,auc)"
   ]
  },
  {
   "cell_type": "markdown",
   "id": "annual-anatomy",
   "metadata": {},
   "source": [
    "## KNN "
   ]
  },
  {
   "cell_type": "code",
   "execution_count": 470,
   "id": "champion-adrian",
   "metadata": {},
   "outputs": [
    {
     "name": "stdout",
     "output_type": "stream",
     "text": [
      "Fitting 3 folds for each of 95 candidates, totalling 285 fits\n",
      "f1_train: 0.549889 using {'n_neighbors': 15}\n",
      "\n",
      "\n",
      "f1         train 0.602   test 0.548\n",
      "\n",
      "\n",
      "[[513  85]\n",
      " [156 146]]\n"
     ]
    }
   ],
   "source": [
    "from sklearn.neighbors import KNeighborsClassifier\n",
    "\n",
    "classifier = KNeighborsClassifier()\n",
    "parameters = {'n_neighbors':np.arange(5,100,1)}\n",
    "knn_f1_train,knn_f1_test = hyperp_search(classifier,parameters)"
   ]
  },
  {
   "cell_type": "code",
   "execution_count": 471,
   "id": "selective-chuck",
   "metadata": {},
   "outputs": [
    {
     "data": {
      "image/png": "[encoded data removed]",
      "text/plain": [
       "<Figure size 432x288 with 1 Axes>"
      ]
     },
     "metadata": {
      "needs_background": "light"
     },
     "output_type": "display_data"
    },
    {
     "name": "stdout",
     "output_type": "stream",
     "text": [
      "AUC: 0.780\n"
     ]
    }
   ],
   "source": [
    "model_knn = KNeighborsClassifier(n_neighbors=15)\n",
    "fpr1,tpr1,AUC1=roc(model_knn,X_train,y_train,X_test,y_test)"
   ]
  },
  {
   "cell_type": "markdown",
   "id": "vertical-valuable",
   "metadata": {},
   "source": [
    "## TREE "
   ]
  },
  {
   "cell_type": "code",
   "execution_count": 472,
   "id": "published-phrase",
   "metadata": {},
   "outputs": [
    {
     "name": "stdout",
     "output_type": "stream",
     "text": [
      "Fitting 3 folds for each of 10944 candidates, totalling 32832 fits\n",
      "f1_train: 0.530159 using {'criterion': 'entropy', 'max_depth': 9, 'min_samples_leaf': 39, 'min_samples_split': 2}\n",
      "\n",
      "\n",
      "f1         train 0.589   test 0.580\n",
      "\n",
      "\n",
      "[[523  75]\n",
      " [148 154]]\n"
     ]
    }
   ],
   "source": [
    "#Tree\n",
    "from sklearn.tree import DecisionTreeClassifier\n",
    "classifier = DecisionTreeClassifier()\n",
    "parameters = {'criterion': ['entropy','gini'], \n",
    "              'max_depth':          np.arange(2,10,1),\n",
    "              'min_samples_split':  np.arange(2,20,1),\n",
    "              'min_samples_leaf':   np.arange(2,40,1)}\n",
    "\n",
    "tree_f1_train,tree_f1_test=hyperp_search(classifier,parameters)"
   ]
  },
  {
   "cell_type": "code",
   "execution_count": 48,
   "id": "imperial-deficit",
   "metadata": {},
   "outputs": [
    {
     "data": {
      "image/png": "[encoded data removed]",
      "text/plain": [
       "<Figure size 432x288 with 1 Axes>"
      ]
     },
     "metadata": {
      "needs_background": "light"
     },
     "output_type": "display_data"
    },
    {
     "name": "stdout",
     "output_type": "stream",
     "text": [
      "AUC: 0.807\n"
     ]
    }
   ],
   "source": [
    "model_tree = DecisionTreeClassifier(criterion='entropy', max_depth=9, min_samples_leaf=39, min_samples_split=2)\n",
    "\n",
    "fpr2,tpr2,AUC2=roc(model_tree,X_train,y_train,X_test,y_test)\n"
   ]
  },
  {
   "cell_type": "markdown",
   "id": "authentic-major",
   "metadata": {},
   "source": [
    "## Naive Bayes "
   ]
  },
  {
   "cell_type": "code",
   "execution_count": 67,
   "id": "sunset-payment",
   "metadata": {},
   "outputs": [
    {
     "data": {
      "image/png": "[encoded data removed]",
      "text/plain": [
       "<Figure size 432x288 with 1 Axes>"
      ]
     },
     "metadata": {
      "needs_background": "light"
     },
     "output_type": "display_data"
    },
    {
     "name": "stdout",
     "output_type": "stream",
     "text": [
      "AUC: 0.724\n"
     ]
    }
   ],
   "source": [
    "# Naive Bayes\n",
    "from sklearn.naive_bayes import GaussianNB #or alternative NB implementations\n",
    "\n",
    "model = GaussianNB()\n",
    "\n",
    "model.fit(X_train, y_train)\n",
    "y_pred=model.predict(X_test)\n",
    "\n",
    "\n",
    "\n",
    "y_probs = model.predict_proba(X_test) \n",
    "fpr3,tpr3,AUC3=roc(model,X_train,y_train,X_test,y_test)"
   ]
  },
  {
   "cell_type": "markdown",
   "id": "split-exercise",
   "metadata": {},
   "source": [
    "## Logistic"
   ]
  },
  {
   "cell_type": "code",
   "execution_count": 123,
   "id": "developed-inflation",
   "metadata": {},
   "outputs": [
    {
     "name": "stdout",
     "output_type": "stream",
     "text": [
      "Fitting 3 folds for each of 9 candidates, totalling 27 fits\n",
      "f1_train: 0.542723 using {'C': 9, 'max_iter': 1000}\n",
      "\n",
      "\n",
      "f1         train 0.541   test 0.596\n",
      "\n",
      "\n",
      "[[518  80]\n",
      " [140 162]]\n"
     ]
    }
   ],
   "source": [
    "# Logistic\n",
    "\n",
    "from sklearn.linear_model import LogisticRegression\n",
    "\n",
    "classifier = LogisticRegression()\n",
    "parameters = {\"C\":np.arange(1,10,1), \"max_iter\":[1000] }\n",
    "\n",
    "\n",
    "logi_f1_train,logi_f1_test=hyperp_search(classifier,parameters)"
   ]
  },
  {
   "cell_type": "code",
   "execution_count": 52,
   "id": "atmospheric-thought",
   "metadata": {},
   "outputs": [
    {
     "data": {
      "image/png": "[encoded data removed]",
      "text/plain": [
       "<Figure size 432x288 with 1 Axes>"
      ]
     },
     "metadata": {
      "needs_background": "light"
     },
     "output_type": "display_data"
    },
    {
     "name": "stdout",
     "output_type": "stream",
     "text": [
      "AUC: 0.810\n"
     ]
    }
   ],
   "source": [
    "model = LogisticRegression(C=9, max_iter=1000)\n",
    "\n",
    "fpr4,tpr4,AUC4=roc(model,X_train,y_train,X_test,y_test)\n"
   ]
  },
  {
   "cell_type": "markdown",
   "id": "relevant-strike",
   "metadata": {},
   "source": [
    "## SUPPORT VECTOR MACHINE"
   ]
  },
  {
   "cell_type": "code",
   "execution_count": 125,
   "id": "expanded-taylor",
   "metadata": {},
   "outputs": [
    {
     "name": "stdout",
     "output_type": "stream",
     "text": [
      "Fitting 3 folds for each of 24 candidates, totalling 72 fits\n",
      "f1_train: 0.557433 using {'C': 0.1, 'kernel': 'sigmoid'}\n",
      "\n",
      "\n",
      "f1         train 0.558   test 0.574\n",
      "\n",
      "\n",
      "[[468 130]\n",
      " [128 174]]\n"
     ]
    }
   ],
   "source": [
    "from sklearn.svm import SVC\n",
    "\n",
    "classifier = SVC()\n",
    "parameters = {\"kernel\":['linear','sigmoid','rbf'],\n",
    "              \"C\":[0.001,0.005,0.1,0.5,5,60,70,80]}\n",
    "\n",
    "SV_f1_train,SV_f1_test=hyperp_search(classifier,parameters)\n",
    "\n",
    "\n",
    "#OVER-FITTING: using {'C': 50, 'kernel': 'rbf'}\n",
    "# so we omit the 'rbf' among the possible parameters. "
   ]
  },
  {
   "cell_type": "code",
   "execution_count": 54,
   "id": "finnish-jamaica",
   "metadata": {},
   "outputs": [
    {
     "data": {
      "image/png": "[encoded data removed]",
      "text/plain": [
       "<Figure size 432x288 with 1 Axes>"
      ]
     },
     "metadata": {
      "needs_background": "light"
     },
     "output_type": "display_data"
    },
    {
     "name": "stdout",
     "output_type": "stream",
     "text": [
      "AUC: 0.760\n"
     ]
    }
   ],
   "source": [
    "model = SVC(C=0.1, kernel='sigmoid',probability=True)\n",
    "\n",
    "fpr5,tpr5,AUC5=roc(model,X_train,y_train,X_test,y_test)"
   ]
  },
  {
   "cell_type": "markdown",
   "id": "comic-genius",
   "metadata": {},
   "source": [
    "## NEURAL NETWORK"
   ]
  },
  {
   "cell_type": "code",
   "execution_count": 39,
   "id": "governing-jefferson",
   "metadata": {},
   "outputs": [
    {
     "name": "stdout",
     "output_type": "stream",
     "text": [
      "Fitting 3 folds for each of 3 candidates, totalling 9 fits\n",
      "f1_train: 0.560905 using {'activation': 'relu', 'alpha': 0.001, 'hidden_layer_sizes': (20, 10, 5), 'learning_rate': 'adaptive', 'max_iter': 2000, 'solver': 'sgd'}\n",
      "f1         train 0.588   test 0.608\n",
      "precision  train 0.670   test 0.652\n",
      "\n",
      "[[506  92]\n",
      " [130 172]]\n"
     ]
    },
    {
     "data": {
      "text/plain": [
       "(0.588235294117647, 0.607773851590106)"
      ]
     },
     "execution_count": 39,
     "metadata": {},
     "output_type": "execute_result"
    }
   ],
   "source": [
    "# Multi-layer Perceptron classifier\n",
    "\n",
    "from sklearn.neural_network import MLPClassifier\n",
    "\n",
    "classifier = MLPClassifier()\n",
    "parameters = {\"hidden_layer_sizes\":[(14,7),(10, 5),(20, 10, 5),(50,10,5)], \n",
    "              \"max_iter\": [2000],\n",
    "              \"alpha\": [0.001,0.01,1],\n",
    "              \"activation\":['identity', 'logistic', 'tanh', 'relu'],\n",
    "              \"solver\":    ['lbfgs', 'sgd', 'adam'],\n",
    "              \"learning_rate\":['constant', 'invscaling', 'adaptive']}\n",
    "\n",
    "NN_f1_train,NN_f1_test=hyperp_search(classifier,parameters)\n",
    "\n",
    "#over fitting with: 'alpha': 0.1, 'hidden_layer_sizes': (100, 20, 5), 'max_iter': 2000\n",
    "#over fitting "
   ]
  },
  {
   "cell_type": "code",
   "execution_count": 41,
   "id": "valued-prototype",
   "metadata": {},
   "outputs": [
    {
     "data": {
      "image/png": "[encoded data removed]",
      "text/plain": [
       "<Figure size 432x288 with 1 Axes>"
      ]
     },
     "metadata": {
      "needs_background": "light"
     },
     "output_type": "display_data"
    },
    {
     "name": "stdout",
     "output_type": "stream",
     "text": [
      "AUC: 0.813\n"
     ]
    }
   ],
   "source": [
    "model_MLP=MLPClassifier(activation='relu',\n",
    "                        alpha= 0.001,\n",
    "                        hidden_layer_sizes= (20,10, 5),\n",
    "                        learning_rate= 'adaptive',\n",
    "                        max_iter= 2000,\n",
    "                        solver='sgd')\n",
    "\n",
    "fpr6,tpr6,AUC6=roc(model_MLP,X_train,y_train,X_test,y_test)"
   ]
  },
  {
   "cell_type": "markdown",
   "id": "based-cable",
   "metadata": {},
   "source": [
    "## RANDOM FOREST "
   ]
  },
  {
   "cell_type": "code",
   "execution_count": 41,
   "id": "diagnostic-yorkshire",
   "metadata": {},
   "outputs": [
    {
     "name": "stdout",
     "output_type": "stream",
     "text": [
      "Fitting 3 folds for each of 16 candidates, totalling 48 fits\n",
      "f1_train: 0.534211 using {'criterion': 'gini', 'max_depth': 7, 'min_samples_leaf': 4, 'min_samples_split': 6, 'n_estimators': 24}\n",
      "f1         train 0.626   test 0.581\n",
      "precision  train 0.806   test 0.726\n",
      "\n",
      "[[543  55]\n",
      " [156 146]]\n"
     ]
    },
    {
     "data": {
      "text/plain": [
       "(0.6256499133448874, 0.58051689860835)"
      ]
     },
     "execution_count": 41,
     "metadata": {},
     "output_type": "execute_result"
    }
   ],
   "source": [
    "from sklearn.ensemble import RandomForestClassifier\n",
    "\n",
    "\n",
    "classifier= RandomForestClassifier()\n",
    "parameters = {'n_estimators' :     np.arange(22,27,1),\n",
    "              'criterion' :        ['entropy', 'gini'],\n",
    "              'max_depth' :        np.arange(2,8 ,1), \n",
    "              'min_samples_split': np.arange(2,20,1),\n",
    "              'min_samples_leaf' : np.arange(2,40,1)\n",
    "             };\n",
    "\n",
    "RF_f1_train,RF_f1_test=hyperp_search(classifier,parameters)"
   ]
  },
  {
   "cell_type": "code",
   "execution_count": 45,
   "id": "fifty-liver",
   "metadata": {},
   "outputs": [
    {
     "data": {
      "image/png": "[encoded data removed]",
      "text/plain": [
       "<Figure size 432x288 with 1 Axes>"
      ]
     },
     "metadata": {
      "needs_background": "light"
     },
     "output_type": "display_data"
    },
    {
     "name": "stdout",
     "output_type": "stream",
     "text": [
      "AUC: 0.825\n"
     ]
    }
   ],
   "source": [
    "rand_forest=RandomForestClassifier(criterion= 'gini', max_depth= 7, min_samples_leaf= 4, min_samples_split= 6, n_estimators= 24)\n",
    "fpr7,tpr7,AUC7=roc(rand_forest,X_train,y_train,X_test,y_test)"
   ]
  },
  {
   "cell_type": "code",
   "execution_count": 46,
   "id": "statutory-stone",
   "metadata": {},
   "outputs": [
    {
     "data": {
      "text/plain": [
       "<matplotlib.lines.Line2D at 0x1bfd213ecc0>"
      ]
     },
     "execution_count": 46,
     "metadata": {},
     "output_type": "execute_result"
    },
    {
     "data": {
      "image/png": "[encoded data removed]",
      "text/plain": [
       "<Figure size 2880x576 with 1 Axes>"
      ]
     },
     "metadata": {
      "needs_background": "light"
     },
     "output_type": "display_data"
    }
   ],
   "source": [
    "fig, axes = plt.subplots(figsize=[40,8])\n",
    "graph=sns.barplot(x=X_train.columns, y=rand_forest.feature_importances_, palette=\"Blues_d\")\n",
    "graph.axhline(0.05)"
   ]
  },
  {
   "cell_type": "markdown",
   "id": "twenty-amino",
   "metadata": {},
   "source": [
    "## ADA BOOST "
   ]
  },
  {
   "cell_type": "code",
   "execution_count": 690,
   "id": "divided-mexico",
   "metadata": {},
   "outputs": [
    {
     "name": "stdout",
     "output_type": "stream",
     "text": [
      "Fitting 3 folds for each of 40 candidates, totalling 120 fits\n",
      "f1_train: 0.551411 using {'algorithm': 'SAMME.R', 'learning_rate': 0.01, 'n_estimators': 3000}\n",
      "f1         train 0.587   test 0.557\n",
      "precision  train 0.673   test 0.633\n",
      "\n",
      "[[511  87]\n",
      " [152 150]]\n"
     ]
    },
    {
     "data": {
      "text/plain": [
       "(0.5873902633679169, 0.5565862708719852)"
      ]
     },
     "execution_count": 690,
     "metadata": {},
     "output_type": "execute_result"
    }
   ],
   "source": [
    "from sklearn.ensemble import AdaBoostClassifier\n",
    "\n",
    "\n",
    "classifier= AdaBoostClassifier()\n",
    "parameters = {'n_estimators'  : [2000,3000,5000,6000],\n",
    "              'learning_rate' : [0.0001, 0.01, 0.1, 1, 10],\n",
    "              'algorithm': ['SAMME', 'SAMME.R']}\n",
    "\n",
    "ADAB_f1_train,ADAB_f1_test=hyperp_search(classifier,parameters)"
   ]
  },
  {
   "cell_type": "code",
   "execution_count": 691,
   "id": "iraqi-fight",
   "metadata": {},
   "outputs": [
    {
     "data": {
      "image/png": "[encoded data removed]",
      "text/plain": [
       "<Figure size 432x288 with 1 Axes>"
      ]
     },
     "metadata": {
      "needs_background": "light"
     },
     "output_type": "display_data"
    },
    {
     "name": "stdout",
     "output_type": "stream",
     "text": [
      "AUC: 0.804\n"
     ]
    }
   ],
   "source": [
    "AdaBoost_clf=AdaBoostClassifier(learning_rate= 0.01, n_estimators= 3000,algorithm='SAMME.R')\n",
    "fpr8,tpr8,AUC8=roc(AdaBoost_clf,X_train,y_train,X_test,y_test)"
   ]
  },
  {
   "cell_type": "markdown",
   "id": "disabled-aside",
   "metadata": {},
   "source": [
    "## ROC CURVE COMPARISON "
   ]
  },
  {
   "cell_type": "code",
   "execution_count": 583,
   "id": "polish-kidney",
   "metadata": {},
   "outputs": [
    {
     "data": {
      "image/png": "[encoded data removed]",
      "text/plain": [
       "<Figure size 432x288 with 1 Axes>"
      ]
     },
     "metadata": {
      "needs_background": "light"
     },
     "output_type": "display_data"
    }
   ],
   "source": [
    "plt.plot(fpr1, tpr1, label= \"KNN\")\n",
    "plt.plot(fpr2, tpr2, label= \"Tree\") \n",
    "plt.plot(fpr3, tpr3, label= \"NBaies\")   \n",
    "plt.plot(fpr4, tpr4, label= \"Logistic\")\n",
    "plt.plot(fpr5, tpr5, label= \"SVM\")\n",
    "plt.plot(fpr6, tpr6, label= \"NeuralNet\")\n",
    "plt.plot(fpr7, tpr7, label= \"RanForest\")\n",
    "plt.plot([0, 1], [0, 1], color='darkblue', linestyle='--')\n",
    "plt.xlabel('False Positive Rate')\n",
    "plt.ylabel('True Positive Rate')\n",
    "plt.title('Receiver Operating Characteristic (ROC) Curve')\n",
    "plt.legend()\n",
    "plt.show()\n"
   ]
  },
  {
   "cell_type": "code",
   "execution_count": 152,
   "id": "challenging-separate",
   "metadata": {},
   "outputs": [],
   "source": [
    "F1_TRAIN=[knn_f1_train,tree_f1_train,logi_f1_train,SV_f1_train,NN_f1_train,RF_f1_train,ADAB_f1_train]\n",
    "F1_TEST= [knn_f1_test, tree_f1_test, logi_f1_test, SV_f1_test, NN_f1_test, RF_f1_test,ADAB_f1_test]\n",
    "data = {'Name': ['knn','tree','Logistic','SVM','Neural Network','Random Forest','ADABOOST']}\n",
    "data['f1_train']=F1_TRAIN\n",
    "data['f1_test']=F1_TEST\n",
    "\n",
    "data=pd.DataFrame(data)"
   ]
  },
  {
   "cell_type": "code",
   "execution_count": 153,
   "id": "hourly-queue",
   "metadata": {},
   "outputs": [
    {
     "data": {
      "text/html": [
       "<div>\n",
       "<style scoped>\n",
       "    .dataframe tbody tr th:only-of-type {\n",
       "        vertical-align: middle;\n",
       "    }\n",
       "\n",
       "    .dataframe tbody tr th {\n",
       "        vertical-align: top;\n",
       "    }\n",
       "\n",
       "    .dataframe thead th {\n",
       "        text-align: right;\n",
       "    }\n",
       "</style>\n",
       "<table border=\"1\" class=\"dataframe\">\n",
       "  <thead>\n",
       "    <tr style=\"text-align: right;\">\n",
       "      <th></th>\n",
       "      <th>Name</th>\n",
       "      <th>f1_train</th>\n",
       "      <th>f1_test</th>\n",
       "    </tr>\n",
       "  </thead>\n",
       "  <tbody>\n",
       "    <tr>\n",
       "      <th>0</th>\n",
       "      <td>knn</td>\n",
       "      <td>0.596091</td>\n",
       "      <td>0.553271</td>\n",
       "    </tr>\n",
       "    <tr>\n",
       "      <th>1</th>\n",
       "      <td>tree</td>\n",
       "      <td>0.589212</td>\n",
       "      <td>0.578947</td>\n",
       "    </tr>\n",
       "    <tr>\n",
       "      <th>2</th>\n",
       "      <td>Logistic</td>\n",
       "      <td>0.541292</td>\n",
       "      <td>0.595588</td>\n",
       "    </tr>\n",
       "    <tr>\n",
       "      <th>3</th>\n",
       "      <td>SVM</td>\n",
       "      <td>0.557803</td>\n",
       "      <td>0.574257</td>\n",
       "    </tr>\n",
       "    <tr>\n",
       "      <th>4</th>\n",
       "      <td>Neural Network</td>\n",
       "      <td>0.588000</td>\n",
       "      <td>0.608000</td>\n",
       "    </tr>\n",
       "    <tr>\n",
       "      <th>5</th>\n",
       "      <td>Random Forest</td>\n",
       "      <td>0.626000</td>\n",
       "      <td>0.581000</td>\n",
       "    </tr>\n",
       "    <tr>\n",
       "      <th>6</th>\n",
       "      <td>ADABOOST</td>\n",
       "      <td>0.587000</td>\n",
       "      <td>0.557000</td>\n",
       "    </tr>\n",
       "  </tbody>\n",
       "</table>\n",
       "</div>"
      ],
      "text/plain": [
       "             Name  f1_train   f1_test\n",
       "0             knn  0.596091  0.553271\n",
       "1            tree  0.589212  0.578947\n",
       "2        Logistic  0.541292  0.595588\n",
       "3             SVM  0.557803  0.574257\n",
       "4  Neural Network  0.588000  0.608000\n",
       "5   Random Forest  0.626000  0.581000\n",
       "6        ADABOOST  0.587000  0.557000"
      ]
     },
     "execution_count": 153,
     "metadata": {},
     "output_type": "execute_result"
    }
   ],
   "source": [
    "data"
   ]
  },
  {
   "cell_type": "markdown",
   "id": "legal-honey",
   "metadata": {},
   "source": [
    "## OVER SAMPLING \n",
    "\n",
    "We oversample the train data and not the test data since if train data is unbalanced, our validation data will most likely show the same trait and be unbalanced."
   ]
  },
  {
   "cell_type": "code",
   "execution_count": 473,
   "id": "ranging-season",
   "metadata": {},
   "outputs": [
    {
     "name": "stdout",
     "output_type": "stream",
     "text": [
      "1394\n",
      "706\n"
     ]
    }
   ],
   "source": [
    "print(len(y_train[y_train==0]))\n",
    "print(len(y_train[y_train==1]))"
   ]
  },
  {
   "cell_type": "code",
   "execution_count": 474,
   "id": "correct-virus",
   "metadata": {},
   "outputs": [
    {
     "data": {
      "text/plain": [
       "0    1394\n",
       "1    1394\n",
       "Name: failure, dtype: int64"
      ]
     },
     "execution_count": 474,
     "metadata": {},
     "output_type": "execute_result"
    }
   ],
   "source": [
    " from sklearn.utils import resample\n",
    "\n",
    "df_train=pd.concat([X_train,y_train], axis = 1)\n",
    "\n",
    "#Down-sample Majority Class\n",
    "#1) Separate majority and minority classes\n",
    "\n",
    "df_majority = df_train[df_train.failure==0] \n",
    "df_minority = df_train[df_train.failure==1] \n",
    "#2) Oversample minority class\n",
    "df_minority_oversampled = resample(df_minority, \n",
    "                                   replace=True,\n",
    "                                   n_samples=1394,    # number of samples into the minority class \n",
    "                                   random_state=123)  # reproducible results\n",
    " \n",
    "#3) Combine oversampled minority class with majority class\n",
    "df_train_oversampled = pd.concat([df_minority_oversampled, df_majority])\n",
    " \n",
    "#4) Display new class counts\n",
    "df_train_oversampled.failure.value_counts()"
   ]
  },
  {
   "cell_type": "code",
   "execution_count": 475,
   "id": "demonstrated-climb",
   "metadata": {},
   "outputs": [],
   "source": [
    "y_train=df_train_oversampled['failure']\n",
    "X_train=df_train_oversampled.loc[:, df_downsampled.columns!='failure']"
   ]
  },
  {
   "cell_type": "code",
   "execution_count": 476,
   "id": "accomplished-drove",
   "metadata": {},
   "outputs": [
    {
     "data": {
      "image/png": "[encoded data removed]",
      "text/plain": [
       "<Figure size 432x288 with 1 Axes>"
      ]
     },
     "metadata": {
      "needs_background": "light"
     },
     "output_type": "display_data"
    }
   ],
   "source": [
    "#Visualize Class Counts\n",
    "sns.countplot(y=y_train[:]) \n",
    "plt.xlabel(\"count of each class\")\n",
    "plt.ylabel(\"classes\")\n",
    "plt.title(\"TRAIN SET\")\n",
    "plt.show()"
   ]
  },
  {
   "cell_type": "code",
   "execution_count": 477,
   "id": "coupled-blogger",
   "metadata": {},
   "outputs": [
    {
     "data": {
      "image/png": "[encoded data removed]",
      "text/plain": [
       "<Figure size 432x288 with 1 Axes>"
      ]
     },
     "metadata": {
      "needs_background": "light"
     },
     "output_type": "display_data"
    }
   ],
   "source": [
    "#Visualize Class Counts\n",
    "sns.countplot(y=y_test[:]) \n",
    "plt.xlabel(\"count of each class\")\n",
    "plt.ylabel(\"classes\")\n",
    "plt.title(\"TEST SET\")\n",
    "plt.show()"
   ]
  },
  {
   "cell_type": "markdown",
   "id": "amateur-australian",
   "metadata": {},
   "source": [
    "## KNN - OS"
   ]
  },
  {
   "cell_type": "code",
   "execution_count": 481,
   "id": "damaged-russia",
   "metadata": {},
   "outputs": [
    {
     "name": "stdout",
     "output_type": "stream",
     "text": [
      "Fitting 3 folds for each of 60 candidates, totalling 180 fits\n",
      "f1_train: 0.725642 using {'n_neighbors': 21}\n",
      "\n",
      "\n",
      "f1         train 0.754   test 0.612\n",
      "\n",
      "\n",
      "[[392 206]\n",
      " [ 78 224]]\n",
      "train\n",
      "0.1423222647340836\n"
     ]
    }
   ],
   "source": [
    "classifier = KNeighborsClassifier()\n",
    "parameters = {'n_neighbors':np.arange(20,80,1)}\n",
    "knn_f1_train,knn_f1_test = hyperp_search(classifier,parameters)\n",
    "\n",
    "print(\"train\")\n",
    "print(knn_f1_train-knn_f1_test)"
   ]
  },
  {
   "cell_type": "markdown",
   "id": "funded-martin",
   "metadata": {},
   "source": [
    "## TREE - OS"
   ]
  },
  {
   "cell_type": "code",
   "execution_count": 483,
   "id": "operational-muslim",
   "metadata": {},
   "outputs": [
    {
     "name": "stdout",
     "output_type": "stream",
     "text": [
      "Fitting 3 folds for each of 156 candidates, totalling 468 fits\n",
      "f1_train: 0.750961 using {'criterion': 'gini', 'max_depth': 5, 'min_samples_leaf': 2, 'min_samples_split': 6}\n",
      "\n",
      "\n",
      "f1         train 0.768   test 0.610\n",
      "\n",
      "\n",
      "[[337 261]\n",
      " [ 55 247]]\n",
      "\n",
      "train-test difference:\n",
      "0.157691024357691\n"
     ]
    }
   ],
   "source": [
    "classifier = DecisionTreeClassifier()\n",
    "parameters = { 'criterion': ['entropy','gini'], \n",
    "               'max_depth':          np.arange(3,6,2),\n",
    "               'min_samples_leaf':   [2,4,6],\n",
    "               'min_samples_split':  np.arange(2,15,1)}\n",
    "               \n",
    "tree_f1_train,tree_f1_test=hyperp_search(classifier,parameters)\n",
    "\n",
    "print(\"\\ntrain-test difference:\")\n",
    "print(tree_f1_train-tree_f1_test)"
   ]
  },
  {
   "cell_type": "markdown",
   "id": "instructional-limit",
   "metadata": {},
   "source": [
    "## LOGISTIC - OS"
   ]
  },
  {
   "cell_type": "code",
   "execution_count": 401,
   "id": "uniform-hampton",
   "metadata": {},
   "outputs": [
    {
     "name": "stdout",
     "output_type": "stream",
     "text": [
      "Fitting 3 folds for each of 3 candidates, totalling 9 fits\n",
      "f1_train: 0.724601 using {'C': 1, 'max_iter': 1000}\n",
      "\n",
      "\n",
      "f1         train 0.734   test 0.649\n",
      "\n",
      "\n",
      "[[413 185]\n",
      " [ 68 234]]\n"
     ]
    }
   ],
   "source": [
    "\n",
    "classifier = LogisticRegression()\n",
    "parameters = {\"C\":[0.15,0.01,1], \"max_iter\":[1000] }\n",
    "\n",
    "logi_f1_train,logi_f1_test=hyperp_search(classifier,parameters)"
   ]
  },
  {
   "cell_type": "markdown",
   "id": "convertible-fantasy",
   "metadata": {},
   "source": [
    "## SUPPORT VECTOR MACHINE "
   ]
  },
  {
   "cell_type": "code",
   "execution_count": 339,
   "id": "foster-peninsula",
   "metadata": {},
   "outputs": [
    {
     "name": "stdout",
     "output_type": "stream",
     "text": [
      "Fitting 3 folds for each of 18 candidates, totalling 54 fits\n",
      "f1_train: 0.731609 using {'C': 0.3, 'degree': 2, 'gamma': 1, 'kernel': 'rbf'}\n",
      "\n",
      "\n",
      "f1         train 0.794   test 0.575\n",
      "\n",
      "\n",
      "[[152 446]\n",
      " [  0 302]]\n"
     ]
    }
   ],
   "source": [
    "classifier = SVC()\n",
    "parameters = {\"kernel\":['linear','sigmoid','rbf'],\n",
    "              \"C\":[0.1,0.3],\n",
    "              \"degree\":[2,3,4],\n",
    "              \"gamma\": [1]}\n",
    "\n",
    "SV_f1_train,SV_f1_test=hyperp_search(classifier,parameters)"
   ]
  },
  {
   "cell_type": "markdown",
   "id": "reverse-bulgaria",
   "metadata": {},
   "source": [
    "## NEURAL NETWORKS - OS"
   ]
  },
  {
   "cell_type": "code",
   "execution_count": 349,
   "id": "living-consultancy",
   "metadata": {},
   "outputs": [
    {
     "name": "stdout",
     "output_type": "stream",
     "text": [
      "Fitting 3 folds for each of 4 candidates, totalling 12 fits\n",
      "f1_train: 0.748746 using {'activation': 'logistic', 'alpha': 0.01, 'hidden_layer_sizes': (6, 2), 'learning_rate': 'adaptive', 'max_iter': 500000}\n",
      "\n",
      "\n",
      "f1         train 0.765   test 0.636\n",
      "\n",
      "\n",
      "[[403 195]\n",
      " [ 70 232]]\n"
     ]
    }
   ],
   "source": [
    "from sklearn.neural_network import MLPClassifier\n",
    "\n",
    "classifier = MLPClassifier()\n",
    "parameters = {\"hidden_layer_sizes\":[(4,2),(6,2)], \n",
    "              \"max_iter\":     [500000],\n",
    "              \"alpha\":        [0.01],\n",
    "              \"activation\":   ['logistic', 'relu'],\n",
    "              \"learning_rate\":['adaptive']}\n",
    "NN_f1_train,NN_f1_test=hyperp_search(classifier,parameters)"
   ]
  },
  {
   "cell_type": "markdown",
   "id": "whole-italic",
   "metadata": {},
   "source": [
    "## RANDOM FOREST CLASSIFIER - OS"
   ]
  },
  {
   "cell_type": "code",
   "execution_count": 484,
   "id": "decimal-genealogy",
   "metadata": {},
   "outputs": [
    {
     "name": "stdout",
     "output_type": "stream",
     "text": [
      "Fitting 3 folds for each of 288 candidates, totalling 864 fits\n",
      "f1_train: 0.758807 using {'criterion': 'entropy', 'max_depth': 4, 'min_samples_leaf': 3, 'min_samples_split': 7, 'n_estimators': 8}\n",
      "\n",
      "\n",
      "f1         train 0.769   test 0.635\n",
      "\n",
      "\n",
      "[[360 238]\n",
      " [ 51 251]]\n"
     ]
    }
   ],
   "source": [
    "from sklearn.ensemble import RandomForestClassifier\n",
    "\n",
    "classifier= RandomForestClassifier()\n",
    "parameters = {'criterion' :        ['entropy', 'gini'],\n",
    "              'max_depth' :        np.arange(2,5,1),\n",
    "              'min_samples_leaf' : np.arange(3,11,1),\n",
    "              'min_samples_split': np.arange(7,9,1),\n",
    "              'n_estimators' :     np.arange(6,9,1), \n",
    "             };\n",
    "\n",
    "RF_f1_train,RF_f1_test=hyperp_search(classifier,parameters)"
   ]
  },
  {
   "cell_type": "markdown",
   "id": "minute-mayor",
   "metadata": {},
   "source": [
    "## ADABOOST"
   ]
  },
  {
   "cell_type": "code",
   "execution_count": 399,
   "id": "refined-soccer",
   "metadata": {},
   "outputs": [
    {
     "name": "stdout",
     "output_type": "stream",
     "text": [
      "Fitting 3 folds for each of 4 candidates, totalling 12 fits\n",
      "f1_train: 0.727805 using {'learning_rate': 0.001, 'n_estimators': 1500}\n",
      "\n",
      "\n",
      "f1         train 0.730   test 0.630\n",
      "\n",
      "\n",
      "[[339 259]\n",
      " [ 44 258]]\n"
     ]
    }
   ],
   "source": [
    "from sklearn.ensemble import AdaBoostClassifier\n",
    "\n",
    "\n",
    "classifier= AdaBoostClassifier()\n",
    "parameters = {'n_estimators'  : [1500,2000],\n",
    "              'learning_rate' : [0.001, 0.01]}\n",
    "\n",
    "ADAB_f1_train,ADAB_f1_test=hyperp_search(classifier,parameters)"
   ]
  },
  {
   "cell_type": "code",
   "execution_count": 402,
   "id": "closing-shakespeare",
   "metadata": {},
   "outputs": [],
   "source": [
    "F1_TRAIN=[knn_f1_train,tree_f1_train,logi_f1_train,SV_f1_train,NN_f1_train,RF_f1_train,ADAB_f1_train]\n",
    "F1_TEST= [knn_f1_test, tree_f1_test, logi_f1_test, SV_f1_test, NN_f1_test, RF_f1_test,ADAB_f1_test]\n",
    "data = {'Name': ['knn','tree','Logistic','SVM','Neural Network','Random Forest','ADABOOST']}\n",
    "data['f1_train']=F1_TRAIN\n",
    "data['f1_test']=F1_TEST\n",
    "\n",
    "data=pd.DataFrame(data)"
   ]
  },
  {
   "cell_type": "code",
   "execution_count": 403,
   "id": "congressional-sound",
   "metadata": {},
   "outputs": [
    {
     "data": {
      "text/html": [
       "<div>\n",
       "<style scoped>\n",
       "    .dataframe tbody tr th:only-of-type {\n",
       "        vertical-align: middle;\n",
       "    }\n",
       "\n",
       "    .dataframe tbody tr th {\n",
       "        vertical-align: top;\n",
       "    }\n",
       "\n",
       "    .dataframe thead th {\n",
       "        text-align: right;\n",
       "    }\n",
       "</style>\n",
       "<table border=\"1\" class=\"dataframe\">\n",
       "  <thead>\n",
       "    <tr style=\"text-align: right;\">\n",
       "      <th></th>\n",
       "      <th>Name</th>\n",
       "      <th>f1_train</th>\n",
       "      <th>f1_test</th>\n",
       "    </tr>\n",
       "  </thead>\n",
       "  <tbody>\n",
       "    <tr>\n",
       "      <th>0</th>\n",
       "      <td>knn</td>\n",
       "      <td>0.801488</td>\n",
       "      <td>0.593220</td>\n",
       "    </tr>\n",
       "    <tr>\n",
       "      <th>1</th>\n",
       "      <td>tree</td>\n",
       "      <td>0.758204</td>\n",
       "      <td>0.610390</td>\n",
       "    </tr>\n",
       "    <tr>\n",
       "      <th>2</th>\n",
       "      <td>Logistic</td>\n",
       "      <td>0.733964</td>\n",
       "      <td>0.649098</td>\n",
       "    </tr>\n",
       "    <tr>\n",
       "      <th>3</th>\n",
       "      <td>SVM</td>\n",
       "      <td>0.794302</td>\n",
       "      <td>0.575238</td>\n",
       "    </tr>\n",
       "    <tr>\n",
       "      <th>4</th>\n",
       "      <td>Neural Network</td>\n",
       "      <td>0.765424</td>\n",
       "      <td>0.636488</td>\n",
       "    </tr>\n",
       "    <tr>\n",
       "      <th>5</th>\n",
       "      <td>Random Forest</td>\n",
       "      <td>0.762668</td>\n",
       "      <td>0.637865</td>\n",
       "    </tr>\n",
       "    <tr>\n",
       "      <th>6</th>\n",
       "      <td>ADABOOST</td>\n",
       "      <td>0.729540</td>\n",
       "      <td>0.630037</td>\n",
       "    </tr>\n",
       "  </tbody>\n",
       "</table>\n",
       "</div>"
      ],
      "text/plain": [
       "             Name  f1_train   f1_test\n",
       "0             knn  0.801488  0.593220\n",
       "1            tree  0.758204  0.610390\n",
       "2        Logistic  0.733964  0.649098\n",
       "3             SVM  0.794302  0.575238\n",
       "4  Neural Network  0.765424  0.636488\n",
       "5   Random Forest  0.762668  0.637865\n",
       "6        ADABOOST  0.729540  0.630037"
      ]
     },
     "execution_count": 403,
     "metadata": {},
     "output_type": "execute_result"
    }
   ],
   "source": [
    "data"
   ]
  },
  {
   "cell_type": "code",
   "execution_count": null,
   "id": "laden-pressing",
   "metadata": {},
   "outputs": [],
   "source": []
  }
 ],
 "metadata": {
  "kernelspec": {
   "display_name": "Python 3",
   "language": "python",
   "name": "python3"
  },
  "language_info": {
   "codemirror_mode": {
    "name": "ipython",
    "version": 3
   },
   "file_extension": ".py",
   "mimetype": "text/x-python",
   "name": "python",
   "nbconvert_exporter": "python",
   "pygments_lexer": "ipython3",
   "version": "3.7.1"
  }
 },
 "nbformat": 4,
 "nbformat_minor": 5
}
