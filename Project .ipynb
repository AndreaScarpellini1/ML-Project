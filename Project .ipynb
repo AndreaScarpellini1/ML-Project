{
 "cells": [
  {
   "cell_type": "markdown",
   "id": "92f9b0d8",
   "metadata": {},
   "source": [
    "# ML PROJECT \n",
    "---\n",
    "\n",
    "Authors\n",
    "-  Andrea Scarpellini \n",
    "-  Martina Scarpellini \n",
    "\n",
    "Supervised Binary classification project.\n"
   ]
  },
  {
   "cell_type": "markdown",
   "id": "alone-anderson",
   "metadata": {},
   "source": [
    "## DATASET EXPLORATION\n"
   ]
  },
  {
   "cell_type": "code",
   "execution_count": 219,
   "id": "divine-ministry",
   "metadata": {},
   "outputs": [],
   "source": [
    "import pandas as pd\n",
    "import numpy as np\n",
    "\n",
    "%matplotlib inline\n",
    "import seaborn as sns\n",
    "import matplotlib.pyplot as plt"
   ]
  },
  {
   "cell_type": "markdown",
   "id": "d4ba23d3",
   "metadata": {},
   "source": [
    "At first, we imported the dataset and printed it. \n",
    "It has 3000 rows and 16 columns."
   ]
  },
  {
   "cell_type": "code",
   "execution_count": 220,
   "id": "451d6660",
   "metadata": {},
   "outputs": [
    {
     "name": "stdout",
     "output_type": "stream",
     "text": [
      "(3000, 16)\n"
     ]
    }
   ],
   "source": [
    "df = pd.read_csv('tyres_train.csv')\n",
    "print(df.shape)"
   ]
  },
  {
   "cell_type": "code",
   "execution_count": 221,
   "id": "proper-certification",
   "metadata": {
    "scrolled": true
   },
   "outputs": [
    {
     "data": {
      "text/html": [
       "<div>\n",
       "<style scoped>\n",
       "    .dataframe tbody tr th:only-of-type {\n",
       "        vertical-align: middle;\n",
       "    }\n",
       "\n",
       "    .dataframe tbody tr th {\n",
       "        vertical-align: top;\n",
       "    }\n",
       "\n",
       "    .dataframe thead th {\n",
       "        text-align: right;\n",
       "    }\n",
       "</style>\n",
       "<table border=\"1\" class=\"dataframe\">\n",
       "  <thead>\n",
       "    <tr style=\"text-align: right;\">\n",
       "      <th></th>\n",
       "      <th>vulc</th>\n",
       "      <th>perc_nat_rubber</th>\n",
       "      <th>wiring_strength</th>\n",
       "      <th>weather</th>\n",
       "      <th>perc_imp</th>\n",
       "      <th>temperature</th>\n",
       "      <th>tread_type</th>\n",
       "      <th>tyre_season</th>\n",
       "      <th>elevation</th>\n",
       "      <th>month</th>\n",
       "      <th>tread_depth</th>\n",
       "      <th>tyre_quality</th>\n",
       "      <th>perc_exp_comp</th>\n",
       "      <th>diameter</th>\n",
       "      <th>add_layers</th>\n",
       "      <th>failure</th>\n",
       "    </tr>\n",
       "  </thead>\n",
       "  <tbody>\n",
       "    <tr>\n",
       "      <th>0</th>\n",
       "      <td>17.990</td>\n",
       "      <td>26</td>\n",
       "      <td>1</td>\n",
       "      <td>0.16</td>\n",
       "      <td>0.01</td>\n",
       "      <td>-8.12</td>\n",
       "      <td>0</td>\n",
       "      <td>1</td>\n",
       "      <td>332.5</td>\n",
       "      <td>8</td>\n",
       "      <td>0</td>\n",
       "      <td>1</td>\n",
       "      <td>5.13</td>\n",
       "      <td>55.0</td>\n",
       "      <td>1</td>\n",
       "      <td>0</td>\n",
       "    </tr>\n",
       "    <tr>\n",
       "      <th>1</th>\n",
       "      <td>20.704</td>\n",
       "      <td>36</td>\n",
       "      <td>1</td>\n",
       "      <td>0.30</td>\n",
       "      <td>0.01</td>\n",
       "      <td>-4.52</td>\n",
       "      <td>2</td>\n",
       "      <td>0</td>\n",
       "      <td>328.0</td>\n",
       "      <td>11</td>\n",
       "      <td>1</td>\n",
       "      <td>0</td>\n",
       "      <td>6.15</td>\n",
       "      <td>NaN</td>\n",
       "      <td>1</td>\n",
       "      <td>0</td>\n",
       "    </tr>\n",
       "    <tr>\n",
       "      <th>2</th>\n",
       "      <td>19.156</td>\n",
       "      <td>34</td>\n",
       "      <td>1</td>\n",
       "      <td>0.30</td>\n",
       "      <td>0.01</td>\n",
       "      <td>-1.08</td>\n",
       "      <td>0</td>\n",
       "      <td>0</td>\n",
       "      <td>247.0</td>\n",
       "      <td>0</td>\n",
       "      <td>1</td>\n",
       "      <td>0</td>\n",
       "      <td>6.36</td>\n",
       "      <td>NaN</td>\n",
       "      <td>1</td>\n",
       "      <td>0</td>\n",
       "    </tr>\n",
       "    <tr>\n",
       "      <th>3</th>\n",
       "      <td>16.802</td>\n",
       "      <td>35</td>\n",
       "      <td>1</td>\n",
       "      <td>0.19</td>\n",
       "      <td>0.02</td>\n",
       "      <td>7.44</td>\n",
       "      <td>1</td>\n",
       "      <td>0</td>\n",
       "      <td>408.0</td>\n",
       "      <td>7</td>\n",
       "      <td>3</td>\n",
       "      <td>1</td>\n",
       "      <td>6.62</td>\n",
       "      <td>54.5</td>\n",
       "      <td>1</td>\n",
       "      <td>0</td>\n",
       "    </tr>\n",
       "    <tr>\n",
       "      <th>4</th>\n",
       "      <td>17.140</td>\n",
       "      <td>23</td>\n",
       "      <td>2</td>\n",
       "      <td>0.39</td>\n",
       "      <td>0.01</td>\n",
       "      <td>30.52</td>\n",
       "      <td>0</td>\n",
       "      <td>1</td>\n",
       "      <td>308.0</td>\n",
       "      <td>2</td>\n",
       "      <td>2</td>\n",
       "      <td>0</td>\n",
       "      <td>6.15</td>\n",
       "      <td>76.3</td>\n",
       "      <td>1</td>\n",
       "      <td>0</td>\n",
       "    </tr>\n",
       "  </tbody>\n",
       "</table>\n",
       "</div>"
      ],
      "text/plain": [
       "     vulc  perc_nat_rubber  wiring_strength  weather  perc_imp  temperature  \\\n",
       "0  17.990               26                1     0.16      0.01        -8.12   \n",
       "1  20.704               36                1     0.30      0.01        -4.52   \n",
       "2  19.156               34                1     0.30      0.01        -1.08   \n",
       "3  16.802               35                1     0.19      0.02         7.44   \n",
       "4  17.140               23                2     0.39      0.01        30.52   \n",
       "\n",
       "   tread_type  tyre_season  elevation  month  tread_depth  tyre_quality  \\\n",
       "0           0            1      332.5      8            0             1   \n",
       "1           2            0      328.0     11            1             0   \n",
       "2           0            0      247.0      0            1             0   \n",
       "3           1            0      408.0      7            3             1   \n",
       "4           0            1      308.0      2            2             0   \n",
       "\n",
       "   perc_exp_comp  diameter  add_layers  failure  \n",
       "0           5.13      55.0           1        0  \n",
       "1           6.15       NaN           1        0  \n",
       "2           6.36       NaN           1        0  \n",
       "3           6.62      54.5           1        0  \n",
       "4           6.15      76.3           1        0  "
      ]
     },
     "execution_count": 221,
     "metadata": {},
     "output_type": "execute_result"
    }
   ],
   "source": [
    "df.head()"
   ]
  },
  {
   "cell_type": "markdown",
   "id": "characteristic-cooper",
   "metadata": {},
   "source": [
    "### CLASS COUNTS"
   ]
  },
  {
   "cell_type": "code",
   "execution_count": 222,
   "id": "indonesian-tragedy",
   "metadata": {},
   "outputs": [
    {
     "data": {
      "image/png": "[encoded data removed]",
      "text/plain": [
       "<Figure size 432x288 with 1 Axes>"
      ]
     },
     "metadata": {
      "needs_background": "light"
     },
     "output_type": "display_data"
    }
   ],
   "source": [
    "#Visualize Class Counts\n",
    "sns.countplot(y=df.failure ,data=df) \n",
    "plt.xlabel(\"count of each class\")\n",
    "plt.ylabel(\"classes\")\n",
    "plt.show()"
   ]
  },
  {
   "cell_type": "markdown",
   "id": "53f28ace",
   "metadata": {},
   "source": [
    " Since the upper barchart shows us an imbalanced dataset, our analysis will be characterized as follow:\n",
    "- Classification with original training data set \n",
    "- Classification with oversampled training data set\n"
   ]
  },
  {
   "cell_type": "markdown",
   "id": "5f033897",
   "metadata": {},
   "source": [
    "### MISSING VALUES"
   ]
  },
  {
   "cell_type": "markdown",
   "id": "4526df3f",
   "metadata": {},
   "source": [
    "We wanted to look for missing values in our dataset.\n",
    "We noticed that the coloumn 'diameter' was the only one with at least one missing value\n",
    "(because it was the only one that gave 'true' as output)."
   ]
  },
  {
   "cell_type": "code",
   "execution_count": 223,
   "id": "royal-baghdad",
   "metadata": {
    "scrolled": false
   },
   "outputs": [
    {
     "data": {
      "text/plain": [
       "vulc               False\n",
       "perc_nat_rubber    False\n",
       "wiring_strength    False\n",
       "weather            False\n",
       "perc_imp           False\n",
       "temperature        False\n",
       "tread_type         False\n",
       "tyre_season        False\n",
       "elevation          False\n",
       "month              False\n",
       "tread_depth        False\n",
       "tyre_quality       False\n",
       "perc_exp_comp      False\n",
       "diameter            True\n",
       "add_layers         False\n",
       "failure            False\n",
       "dtype: bool"
      ]
     },
     "execution_count": 223,
     "metadata": {},
     "output_type": "execute_result"
    }
   ],
   "source": [
    "#in which column of our dataset is there at least a missing values?\n",
    "df.isna().any()"
   ]
  },
  {
   "cell_type": "code",
   "execution_count": 224,
   "id": "third-holocaust",
   "metadata": {
    "scrolled": true
   },
   "outputs": [
    {
     "name": "stdout",
     "output_type": "stream",
     "text": [
      "NaN value in diameter: 2110\n",
      "Perc of NaN: 70.33333333333334 %\n",
      "\n",
      "Divided in:\n",
      "1407 failure 0\n",
      "703 failure 1\n"
     ]
    }
   ],
   "source": [
    "#percentage of NaN values in \"diameter\"\n",
    "a=df['diameter'].isna().sum();\n",
    "print(\"NaN value in diameter:\",a)\n",
    "print(\"Perc of NaN:\", a/len(df)*100,\"%\")\n",
    "print(\"\\nDivided in:\")\n",
    "print(df[df['failure']==0]['diameter'].isna().sum(),\"failure 0\")\n",
    "print(df[df['failure']==1]['diameter'].isna().sum(),\"failure 1\")\n"
   ]
  },
  {
   "cell_type": "markdown",
   "id": "bfca6b13",
   "metadata": {},
   "source": [
    "We searched the percentage of Nan values in the diameter.\n",
    "We found that it was more than 70%.\n",
    "We decided to omit the diameter attribute from our analysis.\n",
    "\n",
    "We listed all the attributes:\n",
    "Attributes: \n",
    "- vulc            Numerical \n",
    "- perc_nat_rubber Numerical\n",
    "- weather         Numerical\n",
    "- perc_imp        Numerical\n",
    "- temperature     Numerical \n",
    "- elevation       Numerical\n",
    "- perc_exp_comp   Numerical\n",
    "- diameter        Numerical\n",
    "- tread_type      Categorical \n",
    "- tyre_season     Categorical \n",
    "- month           Categorical \n",
    "- tread_depth     Categorical \n",
    "- wiring_strenght Categorical\n",
    "- tyre_quality    Categorical \n",
    "- add_layers      Categorical\n",
    "\n",
    "\n",
    "Categorical attributes assume a finite number of distinct values, in most cases limited to less than a hundred, representing a qualitative property of\n",
    "an entity to which they refer.\n",
    "Numerical attributes assume a finite or infinite number of values and lend themselves to subtraction or division operations.\n",
    "\n",
    "Numerical attributes are one that may take on any value within a finite or infinite interval. "
   ]
  },
  {
   "cell_type": "markdown",
   "id": "fd1ce57d",
   "metadata": {},
   "source": [
    "We identified the datatype of our data.\n",
    "Some of the data are integers and some others are float. "
   ]
  },
  {
   "cell_type": "code",
   "execution_count": 225,
   "id": "engaged-france",
   "metadata": {},
   "outputs": [
    {
     "name": "stdout",
     "output_type": "stream",
     "text": [
      "vulc               float64\n",
      "perc_nat_rubber      int64\n",
      "wiring_strength      int64\n",
      "weather            float64\n",
      "perc_imp           float64\n",
      "temperature        float64\n",
      "tread_type           int64\n",
      "tyre_season          int64\n",
      "elevation          float64\n",
      "month                int64\n",
      "tread_depth          int64\n",
      "tyre_quality         int64\n",
      "perc_exp_comp      float64\n",
      "diameter           float64\n",
      "add_layers           int64\n",
      "failure              int64\n",
      "dtype: object\n"
     ]
    }
   ],
   "source": [
    "#come trattiamo le variabili categoriche \n",
    "print(df.dtypes)"
   ]
  },
  {
   "cell_type": "code",
   "execution_count": 226,
   "id": "narrative-plenty",
   "metadata": {},
   "outputs": [
    {
     "name": "stdout",
     "output_type": "stream",
     "text": [
      "(3000, 7)\n",
      "(3000, 7)\n"
     ]
    }
   ],
   "source": [
    "cat=df[[\"tyre_season\",\"month\", \"tread_depth\",\"wiring_strength\",\"tyre_quality\",\"tread_type\",\"add_layers\" ]]\n",
    "num=df[[\"vulc\",\"perc_nat_rubber\",\"weather\",\"perc_imp\",\"temperature\", \"elevation\", \"perc_exp_comp\"]]\n",
    "\n",
    "print(cat.shape)\n",
    "print(num.shape)"
   ]
  },
  {
   "cell_type": "markdown",
   "id": "ee301972",
   "metadata": {},
   "source": [
    "### CATEGORICAL DATA"
   ]
  },
  {
   "cell_type": "code",
   "execution_count": 227,
   "id": "binary-evaluation",
   "metadata": {},
   "outputs": [
    {
     "data": {
      "text/html": [
       "<div>\n",
       "<style scoped>\n",
       "    .dataframe tbody tr th:only-of-type {\n",
       "        vertical-align: middle;\n",
       "    }\n",
       "\n",
       "    .dataframe tbody tr th {\n",
       "        vertical-align: top;\n",
       "    }\n",
       "\n",
       "    .dataframe thead th {\n",
       "        text-align: right;\n",
       "    }\n",
       "</style>\n",
       "<table border=\"1\" class=\"dataframe\">\n",
       "  <thead>\n",
       "    <tr style=\"text-align: right;\">\n",
       "      <th></th>\n",
       "      <th>tyre_season</th>\n",
       "      <th>month</th>\n",
       "      <th>tread_depth</th>\n",
       "      <th>wiring_strength</th>\n",
       "      <th>tyre_quality</th>\n",
       "      <th>tread_type</th>\n",
       "      <th>add_layers</th>\n",
       "    </tr>\n",
       "  </thead>\n",
       "  <tbody>\n",
       "    <tr>\n",
       "      <th>0</th>\n",
       "      <td>1</td>\n",
       "      <td>8</td>\n",
       "      <td>0</td>\n",
       "      <td>1</td>\n",
       "      <td>1</td>\n",
       "      <td>0</td>\n",
       "      <td>1</td>\n",
       "    </tr>\n",
       "    <tr>\n",
       "      <th>1</th>\n",
       "      <td>0</td>\n",
       "      <td>11</td>\n",
       "      <td>1</td>\n",
       "      <td>1</td>\n",
       "      <td>0</td>\n",
       "      <td>2</td>\n",
       "      <td>1</td>\n",
       "    </tr>\n",
       "    <tr>\n",
       "      <th>2</th>\n",
       "      <td>0</td>\n",
       "      <td>0</td>\n",
       "      <td>1</td>\n",
       "      <td>1</td>\n",
       "      <td>0</td>\n",
       "      <td>0</td>\n",
       "      <td>1</td>\n",
       "    </tr>\n",
       "    <tr>\n",
       "      <th>3</th>\n",
       "      <td>0</td>\n",
       "      <td>7</td>\n",
       "      <td>3</td>\n",
       "      <td>1</td>\n",
       "      <td>1</td>\n",
       "      <td>1</td>\n",
       "      <td>1</td>\n",
       "    </tr>\n",
       "    <tr>\n",
       "      <th>4</th>\n",
       "      <td>1</td>\n",
       "      <td>2</td>\n",
       "      <td>2</td>\n",
       "      <td>2</td>\n",
       "      <td>0</td>\n",
       "      <td>0</td>\n",
       "      <td>1</td>\n",
       "    </tr>\n",
       "  </tbody>\n",
       "</table>\n",
       "</div>"
      ],
      "text/plain": [
       "   tyre_season  month  tread_depth  wiring_strength  tyre_quality  tread_type  \\\n",
       "0            1      8            0                1             1           0   \n",
       "1            0     11            1                1             0           2   \n",
       "2            0      0            1                1             0           0   \n",
       "3            0      7            3                1             1           1   \n",
       "4            1      2            2                2             0           0   \n",
       "\n",
       "   add_layers  \n",
       "0           1  \n",
       "1           1  \n",
       "2           1  \n",
       "3           1  \n",
       "4           1  "
      ]
     },
     "execution_count": 227,
     "metadata": {},
     "output_type": "execute_result"
    }
   ],
   "source": [
    "cat.head()"
   ]
  },
  {
   "cell_type": "code",
   "execution_count": 228,
   "id": "liquid-minister",
   "metadata": {},
   "outputs": [
    {
     "data": {
      "image/png": "[encoded data removed]",
      "text/plain": [
       "<Figure size 1152x576 with 8 Axes>"
      ]
     },
     "metadata": {
      "needs_background": "light"
     },
     "output_type": "display_data"
    }
   ],
   "source": [
    "cat_plot=df[[\"tyre_season\",\"month\",\"tread_depth\",\"wiring_strength\",\"tyre_quality\",\"tread_type\",\"add_layers\",\"failure\"]]\n",
    "fig, axes = plt.subplots(2, 4,figsize=[16,8])\n",
    "axes = axes.flatten()\n",
    "fig.tight_layout(h_pad=10)\n",
    "i=0\n",
    "for x in cat.columns:\n",
    "    sns.histplot(data=cat_plot, x=x, hue=\"failure\",stat ='probability' , ax=axes[i], binwidth=1/4 ,bins=len(set(cat_plot[x])))\n",
    "    i=i+1\n",
    "plt.show()"
   ]
  },
  {
   "cell_type": "markdown",
   "id": "external-sculpture",
   "metadata": {},
   "source": [
    "We can observe a peak of 0 labeled observations in correspondence of \"month\" = 8.This could be a noise-affected attribute."
   ]
  },
  {
   "cell_type": "markdown",
   "id": "96e1acad",
   "metadata": {},
   "source": [
    "So let's say how many 0 observation we have in september."
   ]
  },
  {
   "cell_type": "code",
   "execution_count": 229,
   "id": "fleet-institute",
   "metadata": {},
   "outputs": [
    {
     "name": "stdout",
     "output_type": "stream",
     "text": [
      "655\n",
      "69\n"
     ]
    }
   ],
   "source": [
    "#try to correct month 8\n",
    "print(((df['month']==8) & (df['failure']==0)).sum())\n",
    "print(((df['month']==8) & (df['failure']==1)).sum())\n",
    "\n",
    "#too many items to delete o change the labels --> so i wont consider the month column "
   ]
  },
  {
   "cell_type": "markdown",
   "id": "paperback-going",
   "metadata": {},
   "source": [
    "### ENTROPY  e  GINI \n",
    "\n",
    "We can measure homogeneity and heterogeneity of the data. In this way we can better understand how the failure distribution behave for each categorical attribute."
   ]
  },
  {
   "cell_type": "code",
   "execution_count": 230,
   "id": "abstract-finder",
   "metadata": {},
   "outputs": [],
   "source": [
    "import collections\n",
    "def CountFrequency(arr):\n",
    "    return collections.Counter(arr)\n",
    "\n",
    "def entropy(x):\n",
    "    e=0\n",
    "    for i in range(0,len(set(x))):\n",
    "        e=e+CountFrequency(x)[i]/len(x) * np.log2( CountFrequency(x)[i]/len(x) )\n",
    "    return -e \n",
    "\n",
    "#gini function \n",
    "def gini(x):\n",
    "    tot=0\n",
    "    for i in range(0,len(set(x))):\n",
    "        tot=tot+ (CountFrequency(x)[i]/len(x))**2\n",
    "    return 1-tot \n"
   ]
  },
  {
   "cell_type": "code",
   "execution_count": 231,
   "id": "recent-extreme",
   "metadata": {},
   "outputs": [
    {
     "name": "stdout",
     "output_type": "stream",
     "text": [
      "GINI --> 0.5 MAX ETEROGENETY\n",
      "GINI --> 0.0 MAX HOMOGENEITY**\n",
      "EI   --> 1   MAX ETEROGENETY\n",
      "EI   --> 0.0 MAX HOMOGENEITY**\n",
      "\n",
      "\n",
      "--> tyre_season :\n",
      "\n",
      "tyre_season = 0\n",
      "Gini index: 0.474  || Entropy index: 0.962\n",
      "tyre_season = 1\n",
      "Gini index: 0.416  || Entropy index: 0.875\n",
      "##\n",
      "\n",
      "\n",
      "--> month :\n",
      "\n",
      "month = 0\n",
      "Gini index: 0.48  || Entropy index: 0.97\n",
      "month = 1\n",
      "Gini index: 0.491  || Entropy index: 0.987\n",
      "month = 2\n",
      "Gini index: 0.486  || Entropy index: 0.98\n",
      "month = 3\n",
      "Gini index: 0.482  || Entropy index: 0.973\n",
      "month = 4\n",
      "Gini index: 0.487  || Entropy index: 0.981\n",
      "month = 5\n",
      "Gini index: 0.492  || Entropy index: 0.988\n",
      "month = 6\n",
      "Gini index: 0.489  || Entropy index: 0.983\n",
      "month = 7\n",
      "Gini index: 0.442  || Entropy index: 0.915\n",
      "month = 8\n",
      "Gini index: 0.172  || Entropy index: 0.454\n",
      "month = 9\n",
      "Gini index: 0.476  || Entropy index: 0.965\n",
      "month = 10\n",
      "Gini index: 0.474  || Entropy index: 0.962\n",
      "month = 11\n",
      "Gini index: 0.499  || Entropy index: 0.999\n",
      "##\n",
      "\n",
      "\n",
      "--> tread_depth :\n",
      "\n",
      "tread_depth = 0\n",
      "Gini index: 0.321  || Entropy index: 0.724\n",
      "tread_depth = 1\n",
      "Gini index: 0.487  || Entropy index: 0.982\n",
      "tread_depth = 2\n",
      "Gini index: 0.482  || Entropy index: 0.973\n",
      "tread_depth = 3\n",
      "Gini index: 0.492  || Entropy index: 0.989\n",
      "##\n",
      "\n",
      "\n",
      "--> wiring_strength :\n",
      "\n",
      "wiring_strength = 0\n",
      "Gini index: 0.457  || Entropy index: 0.937\n",
      "wiring_strength = 1\n",
      "Gini index: 0.427  || Entropy index: 0.892\n",
      "wiring_strength = 2\n",
      "Gini index: 0.485  || Entropy index: 0.979\n",
      "##\n",
      "\n",
      "\n",
      "--> tyre_quality :\n",
      "\n",
      "tyre_quality = 0\n",
      "Gini index: 0.492  || Entropy index: 0.989\n",
      "tyre_quality = 1\n",
      "Gini index: 0.197  || Entropy index: 0.503\n",
      "##\n",
      "\n",
      "\n",
      "--> tread_type :\n",
      "\n",
      "tread_type = 0\n",
      "Gini index: 0.311  || Entropy index: 0.708\n",
      "tread_type = 1\n",
      "Gini index: 0.468  || Entropy index: 0.954\n",
      "tread_type = 2\n",
      "Gini index: 0.491  || Entropy index: 0.986\n",
      "tread_type = 3\n",
      "Gini index: 0.473  || Entropy index: 0.961\n",
      "tread_type = 4\n",
      "Gini index: 0.496  || Entropy index: 0.995\n",
      "##\n",
      "\n",
      "\n",
      "--> add_layers :\n",
      "\n",
      "add_layers = 0\n",
      "Gini index: 0.45  || Entropy index: 0.926\n",
      "add_layers = 1\n",
      "Gini index: 0.444  || Entropy index: 0.917\n",
      "add_layers = 2\n",
      "Gini index: 0.49  || Entropy index: 0.985\n",
      "##\n",
      "\n",
      "\n"
     ]
    }
   ],
   "source": [
    "categories=['tyre_season','month','tread_depth','wiring_strength','tyre_quality','tread_type','add_layers'];\n",
    "\n",
    "print(\"GINI --> 0.5 MAX ETEROGENETY\\nGINI --> 0.0 MAX HOMOGENEITY**\")\n",
    "print(\"EI   --> 1   MAX ETEROGENETY\\nEI   --> 0.0 MAX HOMOGENEITY**\\n\\n\")\n",
    "#gini index for categories:\n",
    "for j in categories:\n",
    "    print(\"-->\",j,\":\\n\")\n",
    "    for i in set(df[j]):\n",
    "        lis=(np.array([df[df[j]==i]['failure']])).astype(int)\n",
    "        print(j ,\"=\",i) \n",
    "        print('Gini index:', round(gini(lis[0]),3), \" || Entropy index:\", round(entropy(lis[0]),3))\n",
    "    \n",
    "    print(\"##\")\n",
    "    print(\"\\n\")\n"
   ]
  },
  {
   "cell_type": "markdown",
   "id": "angry-priest",
   "metadata": {},
   "source": [
    "The high difference between the target distrbution in september is highlighted also by the gini and entropy indexes  "
   ]
  },
  {
   "cell_type": "markdown",
   "id": "regulation-stylus",
   "metadata": {},
   "source": [
    "### DUMMIES\n",
    "To properly treat the categorical variables, we first need to define N-1 binary variables Dj1,Dj2....DjN-1, called dummies varibles."
   ]
  },
  {
   "cell_type": "code",
   "execution_count": 232,
   "id": "spectacular-kuwait",
   "metadata": {},
   "outputs": [
    {
     "data": {
      "text/plain": [
       "tyre_season        object\n",
       "month              object\n",
       "tread_depth        object\n",
       "wiring_strength    object\n",
       "tyre_quality       object\n",
       "tread_type         object\n",
       "add_layers         object\n",
       "dtype: object"
      ]
     },
     "execution_count": 232,
     "metadata": {},
     "output_type": "execute_result"
    }
   ],
   "source": [
    "#categorical variables have the \"object\" type\n",
    "#Categorical variables must be changed in the pre-processing section\n",
    "#since machine learning models require numeric input variables\n",
    "cat = cat.astype(str)\n",
    "cat.dtypes"
   ]
  },
  {
   "cell_type": "code",
   "execution_count": 233,
   "id": "everyday-innocent",
   "metadata": {},
   "outputs": [
    {
     "data": {
      "text/html": [
       "<div>\n",
       "<style scoped>\n",
       "    .dataframe tbody tr th:only-of-type {\n",
       "        vertical-align: middle;\n",
       "    }\n",
       "\n",
       "    .dataframe tbody tr th {\n",
       "        vertical-align: top;\n",
       "    }\n",
       "\n",
       "    .dataframe thead th {\n",
       "        text-align: right;\n",
       "    }\n",
       "</style>\n",
       "<table border=\"1\" class=\"dataframe\">\n",
       "  <thead>\n",
       "    <tr style=\"text-align: right;\">\n",
       "      <th></th>\n",
       "      <th>tyre_season_0</th>\n",
       "      <th>tyre_season_1</th>\n",
       "      <th>tread_depth_0</th>\n",
       "      <th>tread_depth_1</th>\n",
       "      <th>tread_depth_2</th>\n",
       "      <th>tread_depth_3</th>\n",
       "      <th>wiring_strength_0</th>\n",
       "      <th>wiring_strength_1</th>\n",
       "      <th>wiring_strength_2</th>\n",
       "      <th>tyre_quality_0</th>\n",
       "      <th>...</th>\n",
       "      <th>month_10</th>\n",
       "      <th>month_11</th>\n",
       "      <th>month_2</th>\n",
       "      <th>month_3</th>\n",
       "      <th>month_4</th>\n",
       "      <th>month_5</th>\n",
       "      <th>month_6</th>\n",
       "      <th>month_7</th>\n",
       "      <th>month_8</th>\n",
       "      <th>month_9</th>\n",
       "    </tr>\n",
       "  </thead>\n",
       "  <tbody>\n",
       "    <tr>\n",
       "      <th>2995</th>\n",
       "      <td>0</td>\n",
       "      <td>1</td>\n",
       "      <td>0</td>\n",
       "      <td>1</td>\n",
       "      <td>0</td>\n",
       "      <td>0</td>\n",
       "      <td>0</td>\n",
       "      <td>0</td>\n",
       "      <td>1</td>\n",
       "      <td>0</td>\n",
       "      <td>...</td>\n",
       "      <td>1</td>\n",
       "      <td>0</td>\n",
       "      <td>0</td>\n",
       "      <td>0</td>\n",
       "      <td>0</td>\n",
       "      <td>0</td>\n",
       "      <td>0</td>\n",
       "      <td>0</td>\n",
       "      <td>0</td>\n",
       "      <td>0</td>\n",
       "    </tr>\n",
       "    <tr>\n",
       "      <th>2996</th>\n",
       "      <td>0</td>\n",
       "      <td>1</td>\n",
       "      <td>0</td>\n",
       "      <td>1</td>\n",
       "      <td>0</td>\n",
       "      <td>0</td>\n",
       "      <td>0</td>\n",
       "      <td>1</td>\n",
       "      <td>0</td>\n",
       "      <td>1</td>\n",
       "      <td>...</td>\n",
       "      <td>0</td>\n",
       "      <td>0</td>\n",
       "      <td>0</td>\n",
       "      <td>0</td>\n",
       "      <td>0</td>\n",
       "      <td>0</td>\n",
       "      <td>1</td>\n",
       "      <td>0</td>\n",
       "      <td>0</td>\n",
       "      <td>0</td>\n",
       "    </tr>\n",
       "    <tr>\n",
       "      <th>2997</th>\n",
       "      <td>1</td>\n",
       "      <td>0</td>\n",
       "      <td>0</td>\n",
       "      <td>0</td>\n",
       "      <td>0</td>\n",
       "      <td>1</td>\n",
       "      <td>0</td>\n",
       "      <td>1</td>\n",
       "      <td>0</td>\n",
       "      <td>0</td>\n",
       "      <td>...</td>\n",
       "      <td>0</td>\n",
       "      <td>0</td>\n",
       "      <td>0</td>\n",
       "      <td>0</td>\n",
       "      <td>0</td>\n",
       "      <td>0</td>\n",
       "      <td>0</td>\n",
       "      <td>0</td>\n",
       "      <td>1</td>\n",
       "      <td>0</td>\n",
       "    </tr>\n",
       "    <tr>\n",
       "      <th>2998</th>\n",
       "      <td>1</td>\n",
       "      <td>0</td>\n",
       "      <td>1</td>\n",
       "      <td>0</td>\n",
       "      <td>0</td>\n",
       "      <td>0</td>\n",
       "      <td>1</td>\n",
       "      <td>0</td>\n",
       "      <td>0</td>\n",
       "      <td>1</td>\n",
       "      <td>...</td>\n",
       "      <td>0</td>\n",
       "      <td>1</td>\n",
       "      <td>0</td>\n",
       "      <td>0</td>\n",
       "      <td>0</td>\n",
       "      <td>0</td>\n",
       "      <td>0</td>\n",
       "      <td>0</td>\n",
       "      <td>0</td>\n",
       "      <td>0</td>\n",
       "    </tr>\n",
       "    <tr>\n",
       "      <th>2999</th>\n",
       "      <td>1</td>\n",
       "      <td>0</td>\n",
       "      <td>0</td>\n",
       "      <td>1</td>\n",
       "      <td>0</td>\n",
       "      <td>0</td>\n",
       "      <td>0</td>\n",
       "      <td>0</td>\n",
       "      <td>1</td>\n",
       "      <td>1</td>\n",
       "      <td>...</td>\n",
       "      <td>0</td>\n",
       "      <td>0</td>\n",
       "      <td>1</td>\n",
       "      <td>0</td>\n",
       "      <td>0</td>\n",
       "      <td>0</td>\n",
       "      <td>0</td>\n",
       "      <td>0</td>\n",
       "      <td>0</td>\n",
       "      <td>0</td>\n",
       "    </tr>\n",
       "  </tbody>\n",
       "</table>\n",
       "<p>5 rows × 31 columns</p>\n",
       "</div>"
      ],
      "text/plain": [
       "      tyre_season_0  tyre_season_1  tread_depth_0  tread_depth_1  \\\n",
       "2995              0              1              0              1   \n",
       "2996              0              1              0              1   \n",
       "2997              1              0              0              0   \n",
       "2998              1              0              1              0   \n",
       "2999              1              0              0              1   \n",
       "\n",
       "      tread_depth_2  tread_depth_3  wiring_strength_0  wiring_strength_1  \\\n",
       "2995              0              0                  0                  0   \n",
       "2996              0              0                  0                  1   \n",
       "2997              0              1                  0                  1   \n",
       "2998              0              0                  1                  0   \n",
       "2999              0              0                  0                  0   \n",
       "\n",
       "      wiring_strength_2  tyre_quality_0  ...  month_10  month_11  month_2  \\\n",
       "2995                  1               0  ...         1         0        0   \n",
       "2996                  0               1  ...         0         0        0   \n",
       "2997                  0               0  ...         0         0        0   \n",
       "2998                  0               1  ...         0         1        0   \n",
       "2999                  1               1  ...         0         0        1   \n",
       "\n",
       "      month_3  month_4  month_5  month_6  month_7  month_8  month_9  \n",
       "2995        0        0        0        0        0        0        0  \n",
       "2996        0        0        0        1        0        0        0  \n",
       "2997        0        0        0        0        0        1        0  \n",
       "2998        0        0        0        0        0        0        0  \n",
       "2999        0        0        0        0        0        0        0  \n",
       "\n",
       "[5 rows x 31 columns]"
      ]
     },
     "execution_count": 233,
     "metadata": {},
     "output_type": "execute_result"
    }
   ],
   "source": [
    "selection_categorical=['tyre_season','tread_depth','wiring_strength','tyre_quality','tread_type','add_layers','month'];\n",
    "dummies = pd.get_dummies(cat[selection_categorical]) \n",
    "dummies.tail()"
   ]
  },
  {
   "cell_type": "markdown",
   "id": "3d9a0b90",
   "metadata": {},
   "source": [
    "### NUMERICAL DATA"
   ]
  },
  {
   "cell_type": "code",
   "execution_count": 234,
   "id": "extreme-earthquake",
   "metadata": {},
   "outputs": [
    {
     "data": {
      "text/html": [
       "<div>\n",
       "<style scoped>\n",
       "    .dataframe tbody tr th:only-of-type {\n",
       "        vertical-align: middle;\n",
       "    }\n",
       "\n",
       "    .dataframe tbody tr th {\n",
       "        vertical-align: top;\n",
       "    }\n",
       "\n",
       "    .dataframe thead th {\n",
       "        text-align: right;\n",
       "    }\n",
       "</style>\n",
       "<table border=\"1\" class=\"dataframe\">\n",
       "  <thead>\n",
       "    <tr style=\"text-align: right;\">\n",
       "      <th></th>\n",
       "      <th>vulc</th>\n",
       "      <th>perc_nat_rubber</th>\n",
       "      <th>weather</th>\n",
       "      <th>perc_imp</th>\n",
       "      <th>temperature</th>\n",
       "      <th>elevation</th>\n",
       "      <th>perc_exp_comp</th>\n",
       "    </tr>\n",
       "  </thead>\n",
       "  <tbody>\n",
       "    <tr>\n",
       "      <th>0</th>\n",
       "      <td>17.990</td>\n",
       "      <td>26</td>\n",
       "      <td>0.16</td>\n",
       "      <td>0.01</td>\n",
       "      <td>-8.12</td>\n",
       "      <td>332.5</td>\n",
       "      <td>5.13</td>\n",
       "    </tr>\n",
       "    <tr>\n",
       "      <th>1</th>\n",
       "      <td>20.704</td>\n",
       "      <td>36</td>\n",
       "      <td>0.30</td>\n",
       "      <td>0.01</td>\n",
       "      <td>-4.52</td>\n",
       "      <td>328.0</td>\n",
       "      <td>6.15</td>\n",
       "    </tr>\n",
       "    <tr>\n",
       "      <th>2</th>\n",
       "      <td>19.156</td>\n",
       "      <td>34</td>\n",
       "      <td>0.30</td>\n",
       "      <td>0.01</td>\n",
       "      <td>-1.08</td>\n",
       "      <td>247.0</td>\n",
       "      <td>6.36</td>\n",
       "    </tr>\n",
       "    <tr>\n",
       "      <th>3</th>\n",
       "      <td>16.802</td>\n",
       "      <td>35</td>\n",
       "      <td>0.19</td>\n",
       "      <td>0.02</td>\n",
       "      <td>7.44</td>\n",
       "      <td>408.0</td>\n",
       "      <td>6.62</td>\n",
       "    </tr>\n",
       "    <tr>\n",
       "      <th>4</th>\n",
       "      <td>17.140</td>\n",
       "      <td>23</td>\n",
       "      <td>0.39</td>\n",
       "      <td>0.01</td>\n",
       "      <td>30.52</td>\n",
       "      <td>308.0</td>\n",
       "      <td>6.15</td>\n",
       "    </tr>\n",
       "  </tbody>\n",
       "</table>\n",
       "</div>"
      ],
      "text/plain": [
       "     vulc  perc_nat_rubber  weather  perc_imp  temperature  elevation  \\\n",
       "0  17.990               26     0.16      0.01        -8.12      332.5   \n",
       "1  20.704               36     0.30      0.01        -4.52      328.0   \n",
       "2  19.156               34     0.30      0.01        -1.08      247.0   \n",
       "3  16.802               35     0.19      0.02         7.44      408.0   \n",
       "4  17.140               23     0.39      0.01        30.52      308.0   \n",
       "\n",
       "   perc_exp_comp  \n",
       "0           5.13  \n",
       "1           6.15  \n",
       "2           6.36  \n",
       "3           6.62  \n",
       "4           6.15  "
      ]
     },
     "execution_count": 234,
     "metadata": {},
     "output_type": "execute_result"
    }
   ],
   "source": [
    "num.head()"
   ]
  },
  {
   "cell_type": "code",
   "execution_count": 235,
   "id": "electoral-surrey",
   "metadata": {},
   "outputs": [
    {
     "data": {
      "image/png": "[encoded data removed]",
      "text/plain": [
       "<Figure size 1080x504 with 8 Axes>"
      ]
     },
     "metadata": {
      "needs_background": "light"
     },
     "output_type": "display_data"
    }
   ],
   "source": [
    "fig, axes = plt.subplots(2, 4,figsize=[15,7])\n",
    "axes = axes.flatten()\n",
    "fig.tight_layout(h_pad=10)\n",
    "\n",
    "i=0\n",
    "for x in num.columns:\n",
    "    plt.sca(axes[i]) # set the current Axes\n",
    "    plt.hist(num[x],density=True)\n",
    "    plt.xticks(rotation = 90) # Rotates X-Axis Ticks by 45-degrees\n",
    "    plt.title(x)\n",
    "    i+=1\n",
    "plt.show()"
   ]
  },
  {
   "cell_type": "code",
   "execution_count": 236,
   "id": "pleased-saskatchewan",
   "metadata": {},
   "outputs": [
    {
     "data": {
      "text/plain": [
       "array([[<AxesSubplot:title={'center':'vulc'}>,\n",
       "        <AxesSubplot:title={'center':'logvulc'}>,\n",
       "        <AxesSubplot:title={'center':'weather'}>,\n",
       "        <AxesSubplot:title={'center':'logweather'}>,\n",
       "        <AxesSubplot:title={'center':'perc_imp'}>],\n",
       "       [<AxesSubplot:title={'center':'logpercimp'}>,\n",
       "        <AxesSubplot:title={'center':'elevation'}>,\n",
       "        <AxesSubplot:title={'center':'logelevation'}>,\n",
       "        <AxesSubplot:title={'center':'logtemperature'}>,\n",
       "        <AxesSubplot:title={'center':'temperature'}>]], dtype=object)"
      ]
     },
     "execution_count": 236,
     "metadata": {},
     "output_type": "execute_result"
    },
    {
     "data": {
      "image/png": "[encoded data removed]",
      "text/plain": [
       "<Figure size 1080x504 with 10 Axes>"
      ]
     },
     "metadata": {
      "needs_background": "light"
     },
     "output_type": "display_data"
    }
   ],
   "source": [
    "import math\n",
    "pd.options.mode.chained_assignment = None # no warning on creating a new column\n",
    "\n",
    "num['logvulc']=num['vulc'].apply(lambda x: math.log(x+1))\n",
    "num['logweather']=num['weather'].apply(lambda x: math.log(x+1))\n",
    "num['logpercimp']=num['perc_imp'].apply(lambda x: math.log(x+1))\n",
    "num['logelevation']=num['elevation'].apply(lambda x: math.log(x+1))\n",
    "num['logtemperature']=(num['temperature']+273.15).apply(lambda x: math.log(x+1))\n",
    "num[['vulc','logvulc',\n",
    "     'weather','logweather',\n",
    "     'perc_imp','logpercimp',\n",
    "     'elevation','logelevation',\n",
    "     'logtemperature','temperature']].hist(layout=(2,5), figsize=(15,7))"
   ]
  },
  {
   "cell_type": "code",
   "execution_count": 237,
   "id": "competent-coating",
   "metadata": {},
   "outputs": [
    {
     "data": {
      "image/png": "[encoded data removed]",
      "text/plain": [
       "<Figure size 1440x576 with 8 Axes>"
      ]
     },
     "metadata": {
      "needs_background": "light"
     },
     "output_type": "display_data"
    }
   ],
   "source": [
    "X0 = num[df['failure']==0]\n",
    "X1 = num[df['failure']==1]\n",
    "\n",
    "fig, axes = plt.subplots(ncols=4, nrows=2, figsize=(20,8))\n",
    "fig.tight_layout()\n",
    "\n",
    "for i, ax in zip(range(cat.columns.size), axes.flat):\n",
    "    sns.histplot(X0.iloc[:,i], color=\"blue\", ax=ax, stat='density', element=\"step\",  alpha=0.3)\n",
    "    sns.histplot(X1.iloc[:,i], color=\"red\", ax=ax,stat='density', element=\"step\",  alpha=0.3)\n",
    "plt.show()\n",
    "\n",
    "##provare ad applicare quache trasf"
   ]
  },
  {
   "cell_type": "markdown",
   "id": "median-population",
   "metadata": {},
   "source": [
    "The log transformation distributions are quite similar to the orginal one so we kept the originals one. \n",
    "Since we do not exclude any numerical features except diameter and we do not apply any \n",
    "numerical transformation let's consider the columns of interest as follows:"
   ]
  },
  {
   "cell_type": "code",
   "execution_count": 238,
   "id": "subject-ceiling",
   "metadata": {},
   "outputs": [],
   "source": [
    "#at the end let's take the column of interest \n",
    "num=df[[\"vulc\", \"perc_nat_rubber\",\"weather\",\"perc_imp\",\"temperature\",\"elevation\",\"perc_exp_comp\"]]"
   ]
  },
  {
   "cell_type": "markdown",
   "id": "acf85595",
   "metadata": {},
   "source": [
    "### ANALISI PCA \n",
    "The purpose of this method is to obtain a projective transformation that replaces a subset of the original numerical attributes with a lower number of new attributes obtained\n",
    "as their linear combination, without this change causing a loss of information."
   ]
  },
  {
   "cell_type": "code",
   "execution_count": 239,
   "id": "pending-entity",
   "metadata": {},
   "outputs": [
    {
     "data": {
      "text/plain": [
       "<AxesSubplot:>"
      ]
     },
     "execution_count": 239,
     "metadata": {},
     "output_type": "execute_result"
    },
    {
     "data": {
      "image/png": "[encoded data removed]",
      "text/plain": [
       "<Figure size 432x288 with 1 Axes>"
      ]
     },
     "metadata": {
      "needs_background": "light"
     },
     "output_type": "display_data"
    }
   ],
   "source": [
    "num.boxplot(rot=90)\n",
    "\n",
    "#elevation has totally different numbers --> standardization "
   ]
  },
  {
   "cell_type": "markdown",
   "id": "robust-grave",
   "metadata": {},
   "source": [
    "to properly apply PCA analysis standardization is required "
   ]
  },
  {
   "cell_type": "code",
   "execution_count": 240,
   "id": "piano-turner",
   "metadata": {},
   "outputs": [
    {
     "data": {
      "text/html": [
       "<div>\n",
       "<style scoped>\n",
       "    .dataframe tbody tr th:only-of-type {\n",
       "        vertical-align: middle;\n",
       "    }\n",
       "\n",
       "    .dataframe tbody tr th {\n",
       "        vertical-align: top;\n",
       "    }\n",
       "\n",
       "    .dataframe thead th {\n",
       "        text-align: right;\n",
       "    }\n",
       "</style>\n",
       "<table border=\"1\" class=\"dataframe\">\n",
       "  <thead>\n",
       "    <tr style=\"text-align: right;\">\n",
       "      <th></th>\n",
       "      <th>vulc</th>\n",
       "      <th>perc_nat_rubber</th>\n",
       "      <th>weather</th>\n",
       "      <th>perc_imp</th>\n",
       "      <th>temperature</th>\n",
       "      <th>elevation</th>\n",
       "      <th>perc_exp_comp</th>\n",
       "    </tr>\n",
       "  </thead>\n",
       "  <tbody>\n",
       "    <tr>\n",
       "      <th>2995</th>\n",
       "      <td>-0.231083</td>\n",
       "      <td>-0.456093</td>\n",
       "      <td>0.584065</td>\n",
       "      <td>-0.319087</td>\n",
       "      <td>1.702514</td>\n",
       "      <td>-0.586827</td>\n",
       "      <td>-0.271809</td>\n",
       "    </tr>\n",
       "    <tr>\n",
       "      <th>2996</th>\n",
       "      <td>-0.698653</td>\n",
       "      <td>-0.253355</td>\n",
       "      <td>-0.343773</td>\n",
       "      <td>-1.020379</td>\n",
       "      <td>0.164930</td>\n",
       "      <td>-1.480129</td>\n",
       "      <td>0.045070</td>\n",
       "    </tr>\n",
       "    <tr>\n",
       "      <th>2997</th>\n",
       "      <td>-1.269567</td>\n",
       "      <td>0.354859</td>\n",
       "      <td>0.584065</td>\n",
       "      <td>-0.319087</td>\n",
       "      <td>-0.187726</td>\n",
       "      <td>-0.934222</td>\n",
       "      <td>-0.539937</td>\n",
       "    </tr>\n",
       "    <tr>\n",
       "      <th>2998</th>\n",
       "      <td>0.433093</td>\n",
       "      <td>1.165810</td>\n",
       "      <td>-1.380768</td>\n",
       "      <td>-1.020379</td>\n",
       "      <td>0.284834</td>\n",
       "      <td>-0.570284</td>\n",
       "      <td>0.240072</td>\n",
       "    </tr>\n",
       "    <tr>\n",
       "      <th>2999</th>\n",
       "      <td>1.315301</td>\n",
       "      <td>0.354859</td>\n",
       "      <td>-1.217032</td>\n",
       "      <td>-1.020379</td>\n",
       "      <td>0.912563</td>\n",
       "      <td>0.190677</td>\n",
       "      <td>0.508200</td>\n",
       "    </tr>\n",
       "  </tbody>\n",
       "</table>\n",
       "</div>"
      ],
      "text/plain": [
       "          vulc  perc_nat_rubber   weather  perc_imp  temperature  elevation  \\\n",
       "2995 -0.231083        -0.456093  0.584065 -0.319087     1.702514  -0.586827   \n",
       "2996 -0.698653        -0.253355 -0.343773 -1.020379     0.164930  -1.480129   \n",
       "2997 -1.269567         0.354859  0.584065 -0.319087    -0.187726  -0.934222   \n",
       "2998  0.433093         1.165810 -1.380768 -1.020379     0.284834  -0.570284   \n",
       "2999  1.315301         0.354859 -1.217032 -1.020379     0.912563   0.190677   \n",
       "\n",
       "      perc_exp_comp  \n",
       "2995      -0.271809  \n",
       "2996       0.045070  \n",
       "2997      -0.539937  \n",
       "2998       0.240072  \n",
       "2999       0.508200  "
      ]
     },
     "execution_count": 240,
     "metadata": {},
     "output_type": "execute_result"
    }
   ],
   "source": [
    "from sklearn.preprocessing import StandardScaler\n",
    "\n",
    "scaler = StandardScaler().fit(num) # No target\n",
    "scaled_num = pd.DataFrame(scaler.transform(num))\n",
    "scaled_num.columns = num.columns\n",
    "scaled_num.tail()"
   ]
  },
  {
   "cell_type": "code",
   "execution_count": 241,
   "id": "involved-april",
   "metadata": {},
   "outputs": [
    {
     "data": {
      "text/plain": [
       "<AxesSubplot:>"
      ]
     },
     "execution_count": 241,
     "metadata": {},
     "output_type": "execute_result"
    },
    {
     "data": {
      "image/png": "[encoded data removed]",
      "text/plain": [
       "<Figure size 432x288 with 1 Axes>"
      ]
     },
     "metadata": {
      "needs_background": "light"
     },
     "output_type": "display_data"
    }
   ],
   "source": [
    "scaled_num.boxplot(rot=90)\n",
    "#ok! "
   ]
  },
  {
   "cell_type": "code",
   "execution_count": 242,
   "id": "atomic-equation",
   "metadata": {},
   "outputs": [
    {
     "data": {
      "text/plain": [
       "PCA()"
      ]
     },
     "execution_count": 242,
     "metadata": {},
     "output_type": "execute_result"
    }
   ],
   "source": [
    "#PCA fit\n",
    "from sklearn.decomposition import PCA\n",
    "pca = PCA()\n",
    "pca.fit(scaled_num) "
   ]
  },
  {
   "cell_type": "code",
   "execution_count": 243,
   "id": "listed-linux",
   "metadata": {},
   "outputs": [
    {
     "data": {
      "text/html": [
       "<div>\n",
       "<style scoped>\n",
       "    .dataframe tbody tr th:only-of-type {\n",
       "        vertical-align: middle;\n",
       "    }\n",
       "\n",
       "    .dataframe tbody tr th {\n",
       "        vertical-align: top;\n",
       "    }\n",
       "\n",
       "    .dataframe thead th {\n",
       "        text-align: right;\n",
       "    }\n",
       "</style>\n",
       "<table border=\"1\" class=\"dataframe\">\n",
       "  <thead>\n",
       "    <tr style=\"text-align: right;\">\n",
       "      <th></th>\n",
       "      <th>PC1</th>\n",
       "      <th>PC2</th>\n",
       "      <th>PC3</th>\n",
       "      <th>PC4</th>\n",
       "      <th>PC5</th>\n",
       "      <th>PC6</th>\n",
       "      <th>PC7</th>\n",
       "    </tr>\n",
       "  </thead>\n",
       "  <tbody>\n",
       "    <tr>\n",
       "      <th>0</th>\n",
       "      <td>-2.039807</td>\n",
       "      <td>-1.005052</td>\n",
       "      <td>0.143276</td>\n",
       "      <td>0.280682</td>\n",
       "      <td>-0.055187</td>\n",
       "      <td>0.362670</td>\n",
       "      <td>0.070427</td>\n",
       "    </tr>\n",
       "    <tr>\n",
       "      <th>1</th>\n",
       "      <td>0.230444</td>\n",
       "      <td>1.339307</td>\n",
       "      <td>1.267905</td>\n",
       "      <td>-0.763265</td>\n",
       "      <td>0.159000</td>\n",
       "      <td>-0.653739</td>\n",
       "      <td>-0.277058</td>\n",
       "    </tr>\n",
       "    <tr>\n",
       "      <th>2</th>\n",
       "      <td>0.623754</td>\n",
       "      <td>0.939546</td>\n",
       "      <td>0.072528</td>\n",
       "      <td>-1.191816</td>\n",
       "      <td>0.466955</td>\n",
       "      <td>-0.734820</td>\n",
       "      <td>-0.208645</td>\n",
       "    </tr>\n",
       "    <tr>\n",
       "      <th>3</th>\n",
       "      <td>1.967707</td>\n",
       "      <td>1.162369</td>\n",
       "      <td>-1.581563</td>\n",
       "      <td>-0.294469</td>\n",
       "      <td>0.319924</td>\n",
       "      <td>-0.303452</td>\n",
       "      <td>0.923830</td>\n",
       "    </tr>\n",
       "    <tr>\n",
       "      <th>4</th>\n",
       "      <td>2.771142</td>\n",
       "      <td>0.328019</td>\n",
       "      <td>-2.985996</td>\n",
       "      <td>-0.799060</td>\n",
       "      <td>3.063998</td>\n",
       "      <td>3.395502</td>\n",
       "      <td>-0.162010</td>\n",
       "    </tr>\n",
       "    <tr>\n",
       "      <th>...</th>\n",
       "      <td>...</td>\n",
       "      <td>...</td>\n",
       "      <td>...</td>\n",
       "      <td>...</td>\n",
       "      <td>...</td>\n",
       "      <td>...</td>\n",
       "      <td>...</td>\n",
       "    </tr>\n",
       "    <tr>\n",
       "      <th>2995</th>\n",
       "      <td>0.625458</td>\n",
       "      <td>-0.250981</td>\n",
       "      <td>-0.783154</td>\n",
       "      <td>-0.636191</td>\n",
       "      <td>0.673647</td>\n",
       "      <td>1.360141</td>\n",
       "      <td>-0.495100</td>\n",
       "    </tr>\n",
       "    <tr>\n",
       "      <th>2996</th>\n",
       "      <td>-0.779224</td>\n",
       "      <td>-0.093864</td>\n",
       "      <td>-1.159095</td>\n",
       "      <td>-1.344233</td>\n",
       "      <td>0.107791</td>\n",
       "      <td>-0.019557</td>\n",
       "      <td>-0.391418</td>\n",
       "    </tr>\n",
       "    <tr>\n",
       "      <th>2997</th>\n",
       "      <td>-0.118266</td>\n",
       "      <td>-0.862350</td>\n",
       "      <td>-0.778459</td>\n",
       "      <td>-0.789547</td>\n",
       "      <td>-1.028185</td>\n",
       "      <td>0.076134</td>\n",
       "      <td>-0.574664</td>\n",
       "    </tr>\n",
       "    <tr>\n",
       "      <th>2998</th>\n",
       "      <td>-0.695504</td>\n",
       "      <td>1.737254</td>\n",
       "      <td>-0.289416</td>\n",
       "      <td>-0.992616</td>\n",
       "      <td>-0.390970</td>\n",
       "      <td>0.111279</td>\n",
       "      <td>0.471484</td>\n",
       "    </tr>\n",
       "    <tr>\n",
       "      <th>2999</th>\n",
       "      <td>-0.383800</td>\n",
       "      <td>2.064986</td>\n",
       "      <td>0.069821</td>\n",
       "      <td>-0.266022</td>\n",
       "      <td>0.816098</td>\n",
       "      <td>0.511576</td>\n",
       "      <td>0.301391</td>\n",
       "    </tr>\n",
       "  </tbody>\n",
       "</table>\n",
       "<p>3000 rows × 7 columns</p>\n",
       "</div>"
      ],
      "text/plain": [
       "           PC1       PC2       PC3       PC4       PC5       PC6       PC7\n",
       "0    -2.039807 -1.005052  0.143276  0.280682 -0.055187  0.362670  0.070427\n",
       "1     0.230444  1.339307  1.267905 -0.763265  0.159000 -0.653739 -0.277058\n",
       "2     0.623754  0.939546  0.072528 -1.191816  0.466955 -0.734820 -0.208645\n",
       "3     1.967707  1.162369 -1.581563 -0.294469  0.319924 -0.303452  0.923830\n",
       "4     2.771142  0.328019 -2.985996 -0.799060  3.063998  3.395502 -0.162010\n",
       "...        ...       ...       ...       ...       ...       ...       ...\n",
       "2995  0.625458 -0.250981 -0.783154 -0.636191  0.673647  1.360141 -0.495100\n",
       "2996 -0.779224 -0.093864 -1.159095 -1.344233  0.107791 -0.019557 -0.391418\n",
       "2997 -0.118266 -0.862350 -0.778459 -0.789547 -1.028185  0.076134 -0.574664\n",
       "2998 -0.695504  1.737254 -0.289416 -0.992616 -0.390970  0.111279  0.471484\n",
       "2999 -0.383800  2.064986  0.069821 -0.266022  0.816098  0.511576  0.301391\n",
       "\n",
       "[3000 rows x 7 columns]"
      ]
     },
     "execution_count": 243,
     "metadata": {},
     "output_type": "execute_result"
    }
   ],
   "source": [
    "#let's use the pca to transform the dataset\n",
    "num_pca = pd.DataFrame(pca.transform(scaled_num))\n",
    "num_pca.columns =['PC1','PC2','PC3','PC4','PC5','PC6','PC7']\n",
    "num_pca"
   ]
  },
  {
   "cell_type": "code",
   "execution_count": 244,
   "id": "armed-seminar",
   "metadata": {},
   "outputs": [
    {
     "data": {
      "text/html": [
       "<div>\n",
       "<style scoped>\n",
       "    .dataframe tbody tr th:only-of-type {\n",
       "        vertical-align: middle;\n",
       "    }\n",
       "\n",
       "    .dataframe tbody tr th {\n",
       "        vertical-align: top;\n",
       "    }\n",
       "\n",
       "    .dataframe thead th {\n",
       "        text-align: right;\n",
       "    }\n",
       "</style>\n",
       "<table border=\"1\" class=\"dataframe\">\n",
       "  <thead>\n",
       "    <tr style=\"text-align: right;\">\n",
       "      <th></th>\n",
       "      <th>vulc</th>\n",
       "      <th>perc_nat_rubber</th>\n",
       "      <th>weather</th>\n",
       "      <th>perc_imp</th>\n",
       "      <th>temperature</th>\n",
       "      <th>elevation</th>\n",
       "      <th>perc_exp_comp</th>\n",
       "    </tr>\n",
       "  </thead>\n",
       "  <tbody>\n",
       "    <tr>\n",
       "      <th>PC1</th>\n",
       "      <td>-0.080281</td>\n",
       "      <td>0.292608</td>\n",
       "      <td>0.509765</td>\n",
       "      <td>0.442437</td>\n",
       "      <td>0.469686</td>\n",
       "      <td>0.157051</td>\n",
       "      <td>0.455033</td>\n",
       "    </tr>\n",
       "    <tr>\n",
       "      <th>PC2</th>\n",
       "      <td>0.388180</td>\n",
       "      <td>0.472226</td>\n",
       "      <td>-0.373902</td>\n",
       "      <td>-0.496069</td>\n",
       "      <td>0.214217</td>\n",
       "      <td>0.262835</td>\n",
       "      <td>0.354203</td>\n",
       "    </tr>\n",
       "    <tr>\n",
       "      <th>PC3</th>\n",
       "      <td>0.796293</td>\n",
       "      <td>0.176996</td>\n",
       "      <td>0.232871</td>\n",
       "      <td>0.334312</td>\n",
       "      <td>-0.341043</td>\n",
       "      <td>0.047571</td>\n",
       "      <td>-0.223659</td>\n",
       "    </tr>\n",
       "    <tr>\n",
       "      <th>PC4</th>\n",
       "      <td>-0.104280</td>\n",
       "      <td>-0.256250</td>\n",
       "      <td>-0.006530</td>\n",
       "      <td>0.057527</td>\n",
       "      <td>-0.132234</td>\n",
       "      <td>0.945590</td>\n",
       "      <td>-0.092107</td>\n",
       "    </tr>\n",
       "    <tr>\n",
       "      <th>PC5</th>\n",
       "      <td>0.425614</td>\n",
       "      <td>-0.764839</td>\n",
       "      <td>-0.071712</td>\n",
       "      <td>0.003050</td>\n",
       "      <td>0.302535</td>\n",
       "      <td>-0.083554</td>\n",
       "      <td>0.360851</td>\n",
       "    </tr>\n",
       "    <tr>\n",
       "      <th>PC6</th>\n",
       "      <td>0.124018</td>\n",
       "      <td>0.013110</td>\n",
       "      <td>0.024990</td>\n",
       "      <td>-0.070775</td>\n",
       "      <td>0.705190</td>\n",
       "      <td>0.052928</td>\n",
       "      <td>-0.691896</td>\n",
       "    </tr>\n",
       "    <tr>\n",
       "      <th>PC7</th>\n",
       "      <td>-0.037241</td>\n",
       "      <td>0.096131</td>\n",
       "      <td>-0.735050</td>\n",
       "      <td>0.661871</td>\n",
       "      <td>0.104354</td>\n",
       "      <td>-0.008160</td>\n",
       "      <td>0.006628</td>\n",
       "    </tr>\n",
       "  </tbody>\n",
       "</table>\n",
       "</div>"
      ],
      "text/plain": [
       "         vulc  perc_nat_rubber   weather  perc_imp  temperature  elevation  \\\n",
       "PC1 -0.080281         0.292608  0.509765  0.442437     0.469686   0.157051   \n",
       "PC2  0.388180         0.472226 -0.373902 -0.496069     0.214217   0.262835   \n",
       "PC3  0.796293         0.176996  0.232871  0.334312    -0.341043   0.047571   \n",
       "PC4 -0.104280        -0.256250 -0.006530  0.057527    -0.132234   0.945590   \n",
       "PC5  0.425614        -0.764839 -0.071712  0.003050     0.302535  -0.083554   \n",
       "PC6  0.124018         0.013110  0.024990 -0.070775     0.705190   0.052928   \n",
       "PC7 -0.037241         0.096131 -0.735050  0.661871     0.104354  -0.008160   \n",
       "\n",
       "     perc_exp_comp  \n",
       "PC1       0.455033  \n",
       "PC2       0.354203  \n",
       "PC3      -0.223659  \n",
       "PC4      -0.092107  \n",
       "PC5       0.360851  \n",
       "PC6      -0.691896  \n",
       "PC7       0.006628  "
      ]
     },
     "execution_count": 244,
     "metadata": {},
     "output_type": "execute_result"
    }
   ],
   "source": [
    "pd.DataFrame(pca.components_,index=['PC1','PC2','PC3','PC4','PC5','PC6','PC7'],columns=num.columns)"
   ]
  },
  {
   "cell_type": "code",
   "execution_count": 245,
   "id": "incorporated-brook",
   "metadata": {},
   "outputs": [
    {
     "data": {
      "text/html": [
       "<div>\n",
       "<style scoped>\n",
       "    .dataframe tbody tr th:only-of-type {\n",
       "        vertical-align: middle;\n",
       "    }\n",
       "\n",
       "    .dataframe tbody tr th {\n",
       "        vertical-align: top;\n",
       "    }\n",
       "\n",
       "    .dataframe thead th {\n",
       "        text-align: right;\n",
       "    }\n",
       "</style>\n",
       "<table border=\"1\" class=\"dataframe\">\n",
       "  <thead>\n",
       "    <tr style=\"text-align: right;\">\n",
       "      <th></th>\n",
       "      <th>0</th>\n",
       "      <th>1</th>\n",
       "      <th>2</th>\n",
       "      <th>3</th>\n",
       "      <th>4</th>\n",
       "      <th>5</th>\n",
       "      <th>6</th>\n",
       "    </tr>\n",
       "  </thead>\n",
       "  <tbody>\n",
       "    <tr>\n",
       "      <th>0</th>\n",
       "      <td>2.611119</td>\n",
       "      <td>1.17498</td>\n",
       "      <td>1.042926</td>\n",
       "      <td>0.946682</td>\n",
       "      <td>0.7149</td>\n",
       "      <td>0.332083</td>\n",
       "      <td>0.179644</td>\n",
       "    </tr>\n",
       "  </tbody>\n",
       "</table>\n",
       "</div>"
      ],
      "text/plain": [
       "          0        1         2         3       4         5         6\n",
       "0  2.611119  1.17498  1.042926  0.946682  0.7149  0.332083  0.179644"
      ]
     },
     "execution_count": 245,
     "metadata": {},
     "output_type": "execute_result"
    }
   ],
   "source": [
    "pd.DataFrame(pca.explained_variance_).transpose()"
   ]
  },
  {
   "cell_type": "code",
   "execution_count": 246,
   "id": "dressed-blood",
   "metadata": {},
   "outputs": [
    {
     "name": "stdout",
     "output_type": "stream",
     "text": [
      "          0         1        2         3         4         5         6\n",
      "0  0.372893  0.167798  0.14894  0.135195  0.102095  0.047425  0.025655\n"
     ]
    },
    {
     "data": {
      "image/png": "[encoded data removed]",
      "text/plain": [
       "<Figure size 432x288 with 1 Axes>"
      ]
     },
     "metadata": {
      "needs_background": "light"
     },
     "output_type": "display_data"
    }
   ],
   "source": [
    "#VISUALIZE The percentage of variance explained by each of the selected components.\n",
    "explained_var=pd.DataFrame(pca.explained_variance_ratio_).transpose()\n",
    "print(explained_var)\n",
    "ax = sns.barplot( data=explained_var)"
   ]
  },
  {
   "cell_type": "code",
   "execution_count": 247,
   "id": "spatial-ceremony",
   "metadata": {},
   "outputs": [
    {
     "data": {
      "text/html": [
       "<div>\n",
       "<style scoped>\n",
       "    .dataframe tbody tr th:only-of-type {\n",
       "        vertical-align: middle;\n",
       "    }\n",
       "\n",
       "    .dataframe tbody tr th {\n",
       "        vertical-align: top;\n",
       "    }\n",
       "\n",
       "    .dataframe thead th {\n",
       "        text-align: right;\n",
       "    }\n",
       "</style>\n",
       "<table border=\"1\" class=\"dataframe\">\n",
       "  <thead>\n",
       "    <tr style=\"text-align: right;\">\n",
       "      <th></th>\n",
       "      <th>0</th>\n",
       "      <th>1</th>\n",
       "      <th>2</th>\n",
       "      <th>3</th>\n",
       "      <th>4</th>\n",
       "      <th>5</th>\n",
       "      <th>6</th>\n",
       "    </tr>\n",
       "  </thead>\n",
       "  <tbody>\n",
       "    <tr>\n",
       "      <th>0</th>\n",
       "      <td>0.372893</td>\n",
       "      <td>0.540691</td>\n",
       "      <td>0.689631</td>\n",
       "      <td>0.824826</td>\n",
       "      <td>0.92692</td>\n",
       "      <td>0.974345</td>\n",
       "      <td>1.0</td>\n",
       "    </tr>\n",
       "  </tbody>\n",
       "</table>\n",
       "</div>"
      ],
      "text/plain": [
       "          0         1         2         3        4         5    6\n",
       "0  0.372893  0.540691  0.689631  0.824826  0.92692  0.974345  1.0"
      ]
     },
     "execution_count": 247,
     "metadata": {},
     "output_type": "execute_result"
    }
   ],
   "source": [
    "cum_explained_var=np.cumsum(pca.explained_variance_ratio_)\n",
    "cum_explained_var= pd.DataFrame(cum_explained_var).transpose()\n",
    "cum_explained_var"
   ]
  },
  {
   "cell_type": "code",
   "execution_count": 248,
   "id": "authorized-roller",
   "metadata": {},
   "outputs": [
    {
     "data": {
      "text/plain": [
       "<matplotlib.lines.Line2D at 0x2b200af9438>"
      ]
     },
     "execution_count": 248,
     "metadata": {},
     "output_type": "execute_result"
    },
    {
     "data": {
      "image/png": "[encoded data removed]",
      "text/plain": [
       "<Figure size 432x288 with 1 Axes>"
      ]
     },
     "metadata": {
      "needs_background": "light"
     },
     "output_type": "display_data"
    }
   ],
   "source": [
    "ax = sns.barplot(data=cum_explained_var)\n",
    "ax.axhline(0.9)\n",
    "ax.axhline(0.8)"
   ]
  },
  {
   "cell_type": "code",
   "execution_count": 249,
   "id": "strange-people",
   "metadata": {},
   "outputs": [
    {
     "data": {
      "image/png": "[encoded data removed]",
      "text/plain": [
       "<Figure size 432x288 with 1 Axes>"
      ]
     },
     "metadata": {
      "needs_background": "light"
     },
     "output_type": "display_data"
    }
   ],
   "source": [
    "def myplot(score,coeff,labels=None):\n",
    "    xs = score[:,0]\n",
    "    ys = score[:,1]\n",
    "    n = coeff.shape[0]\n",
    "    scalex = 1.0/(xs.max() - xs.min())\n",
    "    scaley = 1.0/(ys.max() - ys.min())\n",
    "    plt.scatter(xs * scalex,ys * scaley)\n",
    "    for i in range(n):\n",
    "        plt.arrow(0, 0, coeff[i,0], coeff[i,1],color = 'r',alpha = 0.5)\n",
    "        if labels is None:\n",
    "            plt.text(coeff[i,0]* 1.15, coeff[i,1] * 1.15, \"Var\"+str(i+1), color = 'g', ha = 'center', va = 'center')\n",
    "        else:\n",
    "            plt.text(coeff[i,0]* 1.15, coeff[i,1] * 1.15, labels[i], color = 'g', ha = 'center', va = 'center')\n",
    "    plt.xlim(-1,1)\n",
    "    plt.ylim(-1,1)\n",
    "    plt.xlabel(\"PC{}\".format(1))\n",
    "    plt.ylabel(\"PC{}\".format(2))\n",
    "    plt.grid()\n",
    "\n",
    "#Call the function. Use only the 2 PCs.\n",
    "myplot(pca.transform(scaled_num)[:,0:2],np.transpose(pca.components_[0:2, :]), num.columns)\n",
    "plt.show()\n",
    "\n",
    "\n",
    "\n",
    "#perc_imp e wheater sono correlate? "
   ]
  },
  {
   "cell_type": "code",
   "execution_count": 250,
   "id": "three-mustang",
   "metadata": {},
   "outputs": [
    {
     "data": {
      "image/png": "[encoded data removed]",
      "text/plain": [
       "<Figure size 504x504 with 2 Axes>"
      ]
     },
     "metadata": {
      "needs_background": "light"
     },
     "output_type": "display_data"
    }
   ],
   "source": [
    "scaled_num['failure']=df['failure']\n",
    "plt.figure(figsize = (7,7))\n",
    "sns.heatmap(data=scaled_num.corr().round(2), cmap='coolwarm', linewidths=.5, annot=True, annot_kws={\"size\":12})\n",
    "plt.show()\n",
    "\n",
    "#We see that there is a numerical correlation between \"weather\" and \"perc_imp\"\n",
    "#but we can not rationally explain it."
   ]
  },
  {
   "cell_type": "markdown",
   "id": "heated-fluid",
   "metadata": {},
   "source": [
    "At the end of the PCA analysis we did not found any interest information to describe the data distribution in a convinient way. PCA was not useful to obtain a better interpretation of the data.  "
   ]
  },
  {
   "cell_type": "markdown",
   "id": "lyric-argentina",
   "metadata": {},
   "source": [
    "## CLASSIFICATION "
   ]
  },
  {
   "cell_type": "code",
   "execution_count": 251,
   "id": "neutral-finance",
   "metadata": {},
   "outputs": [
    {
     "data": {
      "text/html": [
       "<div>\n",
       "<style scoped>\n",
       "    .dataframe tbody tr th:only-of-type {\n",
       "        vertical-align: middle;\n",
       "    }\n",
       "\n",
       "    .dataframe tbody tr th {\n",
       "        vertical-align: top;\n",
       "    }\n",
       "\n",
       "    .dataframe thead th {\n",
       "        text-align: right;\n",
       "    }\n",
       "</style>\n",
       "<table border=\"1\" class=\"dataframe\">\n",
       "  <thead>\n",
       "    <tr style=\"text-align: right;\">\n",
       "      <th></th>\n",
       "      <th>vulc</th>\n",
       "      <th>perc_nat_rubber</th>\n",
       "      <th>weather</th>\n",
       "      <th>perc_imp</th>\n",
       "      <th>temperature</th>\n",
       "      <th>elevation</th>\n",
       "      <th>perc_exp_comp</th>\n",
       "    </tr>\n",
       "  </thead>\n",
       "  <tbody>\n",
       "    <tr>\n",
       "      <th>0</th>\n",
       "      <td>17.990</td>\n",
       "      <td>26</td>\n",
       "      <td>0.16</td>\n",
       "      <td>0.01</td>\n",
       "      <td>-8.12</td>\n",
       "      <td>332.5</td>\n",
       "      <td>5.13</td>\n",
       "    </tr>\n",
       "    <tr>\n",
       "      <th>1</th>\n",
       "      <td>20.704</td>\n",
       "      <td>36</td>\n",
       "      <td>0.30</td>\n",
       "      <td>0.01</td>\n",
       "      <td>-4.52</td>\n",
       "      <td>328.0</td>\n",
       "      <td>6.15</td>\n",
       "    </tr>\n",
       "    <tr>\n",
       "      <th>2</th>\n",
       "      <td>19.156</td>\n",
       "      <td>34</td>\n",
       "      <td>0.30</td>\n",
       "      <td>0.01</td>\n",
       "      <td>-1.08</td>\n",
       "      <td>247.0</td>\n",
       "      <td>6.36</td>\n",
       "    </tr>\n",
       "    <tr>\n",
       "      <th>3</th>\n",
       "      <td>16.802</td>\n",
       "      <td>35</td>\n",
       "      <td>0.19</td>\n",
       "      <td>0.02</td>\n",
       "      <td>7.44</td>\n",
       "      <td>408.0</td>\n",
       "      <td>6.62</td>\n",
       "    </tr>\n",
       "    <tr>\n",
       "      <th>4</th>\n",
       "      <td>17.140</td>\n",
       "      <td>23</td>\n",
       "      <td>0.39</td>\n",
       "      <td>0.01</td>\n",
       "      <td>30.52</td>\n",
       "      <td>308.0</td>\n",
       "      <td>6.15</td>\n",
       "    </tr>\n",
       "  </tbody>\n",
       "</table>\n",
       "</div>"
      ],
      "text/plain": [
       "     vulc  perc_nat_rubber  weather  perc_imp  temperature  elevation  \\\n",
       "0  17.990               26     0.16      0.01        -8.12      332.5   \n",
       "1  20.704               36     0.30      0.01        -4.52      328.0   \n",
       "2  19.156               34     0.30      0.01        -1.08      247.0   \n",
       "3  16.802               35     0.19      0.02         7.44      408.0   \n",
       "4  17.140               23     0.39      0.01        30.52      308.0   \n",
       "\n",
       "   perc_exp_comp  \n",
       "0           5.13  \n",
       "1           6.15  \n",
       "2           6.36  \n",
       "3           6.62  \n",
       "4           6.15  "
      ]
     },
     "execution_count": 251,
     "metadata": {},
     "output_type": "execute_result"
    }
   ],
   "source": [
    "num.head()"
   ]
  },
  {
   "cell_type": "code",
   "execution_count": 252,
   "id": "dimensional-equilibrium",
   "metadata": {},
   "outputs": [
    {
     "data": {
      "text/html": [
       "<div>\n",
       "<style scoped>\n",
       "    .dataframe tbody tr th:only-of-type {\n",
       "        vertical-align: middle;\n",
       "    }\n",
       "\n",
       "    .dataframe tbody tr th {\n",
       "        vertical-align: top;\n",
       "    }\n",
       "\n",
       "    .dataframe thead th {\n",
       "        text-align: right;\n",
       "    }\n",
       "</style>\n",
       "<table border=\"1\" class=\"dataframe\">\n",
       "  <thead>\n",
       "    <tr style=\"text-align: right;\">\n",
       "      <th></th>\n",
       "      <th>tyre_season_0</th>\n",
       "      <th>tyre_season_1</th>\n",
       "      <th>tread_depth_0</th>\n",
       "      <th>tread_depth_1</th>\n",
       "      <th>tread_depth_2</th>\n",
       "      <th>tread_depth_3</th>\n",
       "      <th>wiring_strength_0</th>\n",
       "      <th>wiring_strength_1</th>\n",
       "      <th>wiring_strength_2</th>\n",
       "      <th>tyre_quality_0</th>\n",
       "      <th>...</th>\n",
       "      <th>month_10</th>\n",
       "      <th>month_11</th>\n",
       "      <th>month_2</th>\n",
       "      <th>month_3</th>\n",
       "      <th>month_4</th>\n",
       "      <th>month_5</th>\n",
       "      <th>month_6</th>\n",
       "      <th>month_7</th>\n",
       "      <th>month_8</th>\n",
       "      <th>month_9</th>\n",
       "    </tr>\n",
       "  </thead>\n",
       "  <tbody>\n",
       "    <tr>\n",
       "      <th>2995</th>\n",
       "      <td>0</td>\n",
       "      <td>1</td>\n",
       "      <td>0</td>\n",
       "      <td>1</td>\n",
       "      <td>0</td>\n",
       "      <td>0</td>\n",
       "      <td>0</td>\n",
       "      <td>0</td>\n",
       "      <td>1</td>\n",
       "      <td>0</td>\n",
       "      <td>...</td>\n",
       "      <td>1</td>\n",
       "      <td>0</td>\n",
       "      <td>0</td>\n",
       "      <td>0</td>\n",
       "      <td>0</td>\n",
       "      <td>0</td>\n",
       "      <td>0</td>\n",
       "      <td>0</td>\n",
       "      <td>0</td>\n",
       "      <td>0</td>\n",
       "    </tr>\n",
       "    <tr>\n",
       "      <th>2996</th>\n",
       "      <td>0</td>\n",
       "      <td>1</td>\n",
       "      <td>0</td>\n",
       "      <td>1</td>\n",
       "      <td>0</td>\n",
       "      <td>0</td>\n",
       "      <td>0</td>\n",
       "      <td>1</td>\n",
       "      <td>0</td>\n",
       "      <td>1</td>\n",
       "      <td>...</td>\n",
       "      <td>0</td>\n",
       "      <td>0</td>\n",
       "      <td>0</td>\n",
       "      <td>0</td>\n",
       "      <td>0</td>\n",
       "      <td>0</td>\n",
       "      <td>1</td>\n",
       "      <td>0</td>\n",
       "      <td>0</td>\n",
       "      <td>0</td>\n",
       "    </tr>\n",
       "    <tr>\n",
       "      <th>2997</th>\n",
       "      <td>1</td>\n",
       "      <td>0</td>\n",
       "      <td>0</td>\n",
       "      <td>0</td>\n",
       "      <td>0</td>\n",
       "      <td>1</td>\n",
       "      <td>0</td>\n",
       "      <td>1</td>\n",
       "      <td>0</td>\n",
       "      <td>0</td>\n",
       "      <td>...</td>\n",
       "      <td>0</td>\n",
       "      <td>0</td>\n",
       "      <td>0</td>\n",
       "      <td>0</td>\n",
       "      <td>0</td>\n",
       "      <td>0</td>\n",
       "      <td>0</td>\n",
       "      <td>0</td>\n",
       "      <td>1</td>\n",
       "      <td>0</td>\n",
       "    </tr>\n",
       "    <tr>\n",
       "      <th>2998</th>\n",
       "      <td>1</td>\n",
       "      <td>0</td>\n",
       "      <td>1</td>\n",
       "      <td>0</td>\n",
       "      <td>0</td>\n",
       "      <td>0</td>\n",
       "      <td>1</td>\n",
       "      <td>0</td>\n",
       "      <td>0</td>\n",
       "      <td>1</td>\n",
       "      <td>...</td>\n",
       "      <td>0</td>\n",
       "      <td>1</td>\n",
       "      <td>0</td>\n",
       "      <td>0</td>\n",
       "      <td>0</td>\n",
       "      <td>0</td>\n",
       "      <td>0</td>\n",
       "      <td>0</td>\n",
       "      <td>0</td>\n",
       "      <td>0</td>\n",
       "    </tr>\n",
       "    <tr>\n",
       "      <th>2999</th>\n",
       "      <td>1</td>\n",
       "      <td>0</td>\n",
       "      <td>0</td>\n",
       "      <td>1</td>\n",
       "      <td>0</td>\n",
       "      <td>0</td>\n",
       "      <td>0</td>\n",
       "      <td>0</td>\n",
       "      <td>1</td>\n",
       "      <td>1</td>\n",
       "      <td>...</td>\n",
       "      <td>0</td>\n",
       "      <td>0</td>\n",
       "      <td>1</td>\n",
       "      <td>0</td>\n",
       "      <td>0</td>\n",
       "      <td>0</td>\n",
       "      <td>0</td>\n",
       "      <td>0</td>\n",
       "      <td>0</td>\n",
       "      <td>0</td>\n",
       "    </tr>\n",
       "  </tbody>\n",
       "</table>\n",
       "<p>5 rows × 31 columns</p>\n",
       "</div>"
      ],
      "text/plain": [
       "      tyre_season_0  tyre_season_1  tread_depth_0  tread_depth_1  \\\n",
       "2995              0              1              0              1   \n",
       "2996              0              1              0              1   \n",
       "2997              1              0              0              0   \n",
       "2998              1              0              1              0   \n",
       "2999              1              0              0              1   \n",
       "\n",
       "      tread_depth_2  tread_depth_3  wiring_strength_0  wiring_strength_1  \\\n",
       "2995              0              0                  0                  0   \n",
       "2996              0              0                  0                  1   \n",
       "2997              0              1                  0                  1   \n",
       "2998              0              0                  1                  0   \n",
       "2999              0              0                  0                  0   \n",
       "\n",
       "      wiring_strength_2  tyre_quality_0  ...  month_10  month_11  month_2  \\\n",
       "2995                  1               0  ...         1         0        0   \n",
       "2996                  0               1  ...         0         0        0   \n",
       "2997                  0               0  ...         0         0        0   \n",
       "2998                  0               1  ...         0         1        0   \n",
       "2999                  1               1  ...         0         0        1   \n",
       "\n",
       "      month_3  month_4  month_5  month_6  month_7  month_8  month_9  \n",
       "2995        0        0        0        0        0        0        0  \n",
       "2996        0        0        0        1        0        0        0  \n",
       "2997        0        0        0        0        0        1        0  \n",
       "2998        0        0        0        0        0        0        0  \n",
       "2999        0        0        0        0        0        0        0  \n",
       "\n",
       "[5 rows x 31 columns]"
      ]
     },
     "execution_count": 252,
     "metadata": {},
     "output_type": "execute_result"
    }
   ],
   "source": [
    "dummies.tail()"
   ]
  },
  {
   "cell_type": "markdown",
   "id": "informative-maine",
   "metadata": {},
   "source": [
    "### CREATION OF X AND Y "
   ]
  },
  {
   "cell_type": "code",
   "execution_count": 253,
   "id": "silent-mediterranean",
   "metadata": {},
   "outputs": [
    {
     "name": "stdout",
     "output_type": "stream",
     "text": [
      "(3000, 38)\n"
     ]
    },
    {
     "data": {
      "text/html": [
       "<div>\n",
       "<style scoped>\n",
       "    .dataframe tbody tr th:only-of-type {\n",
       "        vertical-align: middle;\n",
       "    }\n",
       "\n",
       "    .dataframe tbody tr th {\n",
       "        vertical-align: top;\n",
       "    }\n",
       "\n",
       "    .dataframe thead th {\n",
       "        text-align: right;\n",
       "    }\n",
       "</style>\n",
       "<table border=\"1\" class=\"dataframe\">\n",
       "  <thead>\n",
       "    <tr style=\"text-align: right;\">\n",
       "      <th></th>\n",
       "      <th>vulc</th>\n",
       "      <th>perc_nat_rubber</th>\n",
       "      <th>weather</th>\n",
       "      <th>perc_imp</th>\n",
       "      <th>temperature</th>\n",
       "      <th>elevation</th>\n",
       "      <th>perc_exp_comp</th>\n",
       "      <th>tyre_season_0</th>\n",
       "      <th>tyre_season_1</th>\n",
       "      <th>tread_depth_0</th>\n",
       "      <th>...</th>\n",
       "      <th>month_10</th>\n",
       "      <th>month_11</th>\n",
       "      <th>month_2</th>\n",
       "      <th>month_3</th>\n",
       "      <th>month_4</th>\n",
       "      <th>month_5</th>\n",
       "      <th>month_6</th>\n",
       "      <th>month_7</th>\n",
       "      <th>month_8</th>\n",
       "      <th>month_9</th>\n",
       "    </tr>\n",
       "  </thead>\n",
       "  <tbody>\n",
       "    <tr>\n",
       "      <th>2995</th>\n",
       "      <td>17.818</td>\n",
       "      <td>29</td>\n",
       "      <td>0.39</td>\n",
       "      <td>0.01</td>\n",
       "      <td>7.28</td>\n",
       "      <td>287.5</td>\n",
       "      <td>5.68</td>\n",
       "      <td>0</td>\n",
       "      <td>1</td>\n",
       "      <td>0</td>\n",
       "      <td>...</td>\n",
       "      <td>1</td>\n",
       "      <td>0</td>\n",
       "      <td>0</td>\n",
       "      <td>0</td>\n",
       "      <td>0</td>\n",
       "      <td>0</td>\n",
       "      <td>0</td>\n",
       "      <td>0</td>\n",
       "      <td>0</td>\n",
       "      <td>0</td>\n",
       "    </tr>\n",
       "    <tr>\n",
       "      <th>2996</th>\n",
       "      <td>17.076</td>\n",
       "      <td>30</td>\n",
       "      <td>0.22</td>\n",
       "      <td>0.00</td>\n",
       "      <td>-1.44</td>\n",
       "      <td>152.5</td>\n",
       "      <td>5.81</td>\n",
       "      <td>0</td>\n",
       "      <td>1</td>\n",
       "      <td>0</td>\n",
       "      <td>...</td>\n",
       "      <td>0</td>\n",
       "      <td>0</td>\n",
       "      <td>0</td>\n",
       "      <td>0</td>\n",
       "      <td>0</td>\n",
       "      <td>0</td>\n",
       "      <td>1</td>\n",
       "      <td>0</td>\n",
       "      <td>0</td>\n",
       "      <td>0</td>\n",
       "    </tr>\n",
       "    <tr>\n",
       "      <th>2997</th>\n",
       "      <td>16.170</td>\n",
       "      <td>33</td>\n",
       "      <td>0.39</td>\n",
       "      <td>0.01</td>\n",
       "      <td>-3.44</td>\n",
       "      <td>235.0</td>\n",
       "      <td>5.57</td>\n",
       "      <td>1</td>\n",
       "      <td>0</td>\n",
       "      <td>0</td>\n",
       "      <td>...</td>\n",
       "      <td>0</td>\n",
       "      <td>0</td>\n",
       "      <td>0</td>\n",
       "      <td>0</td>\n",
       "      <td>0</td>\n",
       "      <td>0</td>\n",
       "      <td>0</td>\n",
       "      <td>0</td>\n",
       "      <td>1</td>\n",
       "      <td>0</td>\n",
       "    </tr>\n",
       "    <tr>\n",
       "      <th>2998</th>\n",
       "      <td>18.872</td>\n",
       "      <td>37</td>\n",
       "      <td>0.03</td>\n",
       "      <td>0.00</td>\n",
       "      <td>-0.76</td>\n",
       "      <td>290.0</td>\n",
       "      <td>5.89</td>\n",
       "      <td>1</td>\n",
       "      <td>0</td>\n",
       "      <td>1</td>\n",
       "      <td>...</td>\n",
       "      <td>0</td>\n",
       "      <td>1</td>\n",
       "      <td>0</td>\n",
       "      <td>0</td>\n",
       "      <td>0</td>\n",
       "      <td>0</td>\n",
       "      <td>0</td>\n",
       "      <td>0</td>\n",
       "      <td>0</td>\n",
       "      <td>0</td>\n",
       "    </tr>\n",
       "    <tr>\n",
       "      <th>2999</th>\n",
       "      <td>20.272</td>\n",
       "      <td>33</td>\n",
       "      <td>0.06</td>\n",
       "      <td>0.00</td>\n",
       "      <td>2.80</td>\n",
       "      <td>405.0</td>\n",
       "      <td>6.00</td>\n",
       "      <td>1</td>\n",
       "      <td>0</td>\n",
       "      <td>0</td>\n",
       "      <td>...</td>\n",
       "      <td>0</td>\n",
       "      <td>0</td>\n",
       "      <td>1</td>\n",
       "      <td>0</td>\n",
       "      <td>0</td>\n",
       "      <td>0</td>\n",
       "      <td>0</td>\n",
       "      <td>0</td>\n",
       "      <td>0</td>\n",
       "      <td>0</td>\n",
       "    </tr>\n",
       "  </tbody>\n",
       "</table>\n",
       "<p>5 rows × 38 columns</p>\n",
       "</div>"
      ],
      "text/plain": [
       "        vulc  perc_nat_rubber  weather  perc_imp  temperature  elevation  \\\n",
       "2995  17.818               29     0.39      0.01         7.28      287.5   \n",
       "2996  17.076               30     0.22      0.00        -1.44      152.5   \n",
       "2997  16.170               33     0.39      0.01        -3.44      235.0   \n",
       "2998  18.872               37     0.03      0.00        -0.76      290.0   \n",
       "2999  20.272               33     0.06      0.00         2.80      405.0   \n",
       "\n",
       "      perc_exp_comp  tyre_season_0  tyre_season_1  tread_depth_0  ...  \\\n",
       "2995           5.68              0              1              0  ...   \n",
       "2996           5.81              0              1              0  ...   \n",
       "2997           5.57              1              0              0  ...   \n",
       "2998           5.89              1              0              1  ...   \n",
       "2999           6.00              1              0              0  ...   \n",
       "\n",
       "      month_10  month_11  month_2  month_3  month_4  month_5  month_6  \\\n",
       "2995         1         0        0        0        0        0        0   \n",
       "2996         0         0        0        0        0        0        1   \n",
       "2997         0         0        0        0        0        0        0   \n",
       "2998         0         1        0        0        0        0        0   \n",
       "2999         0         0        1        0        0        0        0   \n",
       "\n",
       "      month_7  month_8  month_9  \n",
       "2995        0        0        0  \n",
       "2996        0        0        0  \n",
       "2997        0        1        0  \n",
       "2998        0        0        0  \n",
       "2999        0        0        0  \n",
       "\n",
       "[5 rows x 38 columns]"
      ]
     },
     "execution_count": 253,
     "metadata": {},
     "output_type": "execute_result"
    }
   ],
   "source": [
    "X=pd.concat([num,dummies], axis = 1)\n",
    "print(X.shape)\n",
    "X.tail()"
   ]
  },
  {
   "cell_type": "code",
   "execution_count": 254,
   "id": "brief-emperor",
   "metadata": {},
   "outputs": [
    {
     "name": "stdout",
     "output_type": "stream",
     "text": [
      "3000\n"
     ]
    }
   ],
   "source": [
    "y=df['failure']\n",
    "print(len(y))"
   ]
  },
  {
   "cell_type": "markdown",
   "id": "twenty-content",
   "metadata": {},
   "source": [
    "### SPLIT DATA \n",
    "\n",
    " - TRAIN SET 70%\n",
    " - TEST SET 30% \n",
    " "
   ]
  },
  {
   "cell_type": "code",
   "execution_count": 255,
   "id": "soviet-produce",
   "metadata": {},
   "outputs": [
    {
     "name": "stdout",
     "output_type": "stream",
     "text": [
      "(2100, 38) (900, 38)\n"
     ]
    }
   ],
   "source": [
    "from sklearn.model_selection import train_test_split\n",
    "\n",
    "#SPLIT DATA INTO TRAIN AND TEST SET\n",
    "X_train, X_test, y_train, y_test = train_test_split(X, y, \n",
    "                                                    test_size =0.30,   \n",
    "                                                    stratify=y,        #preserve target propotions (probviamo non stratificata)\n",
    "                                                    random_state= 321) #fix random seed for replicability\n",
    "\n",
    "print( X_train.shape, X_test.shape)"
   ]
  },
  {
   "cell_type": "markdown",
   "id": "impressed-equity",
   "metadata": {},
   "source": [
    "### SCALER\n",
    "Only for the training set."
   ]
  },
  {
   "cell_type": "code",
   "execution_count": 256,
   "id": "acceptable-instruction",
   "metadata": {},
   "outputs": [
    {
     "data": {
      "text/html": [
       "<div>\n",
       "<style scoped>\n",
       "    .dataframe tbody tr th:only-of-type {\n",
       "        vertical-align: middle;\n",
       "    }\n",
       "\n",
       "    .dataframe tbody tr th {\n",
       "        vertical-align: top;\n",
       "    }\n",
       "\n",
       "    .dataframe thead th {\n",
       "        text-align: right;\n",
       "    }\n",
       "</style>\n",
       "<table border=\"1\" class=\"dataframe\">\n",
       "  <thead>\n",
       "    <tr style=\"text-align: right;\">\n",
       "      <th></th>\n",
       "      <th>vulc</th>\n",
       "      <th>perc_nat_rubber</th>\n",
       "      <th>weather</th>\n",
       "      <th>perc_imp</th>\n",
       "      <th>temperature</th>\n",
       "      <th>elevation</th>\n",
       "      <th>perc_exp_comp</th>\n",
       "      <th>tyre_season_0</th>\n",
       "      <th>tyre_season_1</th>\n",
       "      <th>tread_depth_0</th>\n",
       "      <th>...</th>\n",
       "      <th>month_10</th>\n",
       "      <th>month_11</th>\n",
       "      <th>month_2</th>\n",
       "      <th>month_3</th>\n",
       "      <th>month_4</th>\n",
       "      <th>month_5</th>\n",
       "      <th>month_6</th>\n",
       "      <th>month_7</th>\n",
       "      <th>month_8</th>\n",
       "      <th>month_9</th>\n",
       "    </tr>\n",
       "  </thead>\n",
       "  <tbody>\n",
       "    <tr>\n",
       "      <th>1478</th>\n",
       "      <td>-1.272006</td>\n",
       "      <td>0.538925</td>\n",
       "      <td>3.570635</td>\n",
       "      <td>1.802901</td>\n",
       "      <td>0.219643</td>\n",
       "      <td>-0.463013</td>\n",
       "      <td>1.196003</td>\n",
       "      <td>0</td>\n",
       "      <td>1</td>\n",
       "      <td>1</td>\n",
       "      <td>...</td>\n",
       "      <td>1</td>\n",
       "      <td>0</td>\n",
       "      <td>0</td>\n",
       "      <td>0</td>\n",
       "      <td>0</td>\n",
       "      <td>0</td>\n",
       "      <td>0</td>\n",
       "      <td>0</td>\n",
       "      <td>0</td>\n",
       "      <td>0</td>\n",
       "    </tr>\n",
       "    <tr>\n",
       "      <th>1575</th>\n",
       "      <td>0.580725</td>\n",
       "      <td>0.338475</td>\n",
       "      <td>-0.664065</td>\n",
       "      <td>-0.309088</td>\n",
       "      <td>-1.260420</td>\n",
       "      <td>0.804318</td>\n",
       "      <td>-1.124672</td>\n",
       "      <td>0</td>\n",
       "      <td>1</td>\n",
       "      <td>0</td>\n",
       "      <td>...</td>\n",
       "      <td>0</td>\n",
       "      <td>1</td>\n",
       "      <td>0</td>\n",
       "      <td>0</td>\n",
       "      <td>0</td>\n",
       "      <td>0</td>\n",
       "      <td>0</td>\n",
       "      <td>0</td>\n",
       "      <td>0</td>\n",
       "      <td>0</td>\n",
       "    </tr>\n",
       "    <tr>\n",
       "      <th>333</th>\n",
       "      <td>-0.755024</td>\n",
       "      <td>-1.064678</td>\n",
       "      <td>-1.269022</td>\n",
       "      <td>-1.013084</td>\n",
       "      <td>0.240787</td>\n",
       "      <td>3.226475</td>\n",
       "      <td>0.389873</td>\n",
       "      <td>0</td>\n",
       "      <td>1</td>\n",
       "      <td>1</td>\n",
       "      <td>...</td>\n",
       "      <td>1</td>\n",
       "      <td>0</td>\n",
       "      <td>0</td>\n",
       "      <td>0</td>\n",
       "      <td>0</td>\n",
       "      <td>0</td>\n",
       "      <td>0</td>\n",
       "      <td>0</td>\n",
       "      <td>0</td>\n",
       "      <td>0</td>\n",
       "    </tr>\n",
       "    <tr>\n",
       "      <th>1440</th>\n",
       "      <td>1.241596</td>\n",
       "      <td>-0.262876</td>\n",
       "      <td>0.545849</td>\n",
       "      <td>1.802901</td>\n",
       "      <td>1.904097</td>\n",
       "      <td>1.247718</td>\n",
       "      <td>1.391428</td>\n",
       "      <td>1</td>\n",
       "      <td>0</td>\n",
       "      <td>0</td>\n",
       "      <td>...</td>\n",
       "      <td>0</td>\n",
       "      <td>0</td>\n",
       "      <td>0</td>\n",
       "      <td>0</td>\n",
       "      <td>0</td>\n",
       "      <td>1</td>\n",
       "      <td>0</td>\n",
       "      <td>0</td>\n",
       "      <td>0</td>\n",
       "      <td>0</td>\n",
       "    </tr>\n",
       "    <tr>\n",
       "      <th>1023</th>\n",
       "      <td>-0.367924</td>\n",
       "      <td>-1.064678</td>\n",
       "      <td>-0.664065</td>\n",
       "      <td>-0.309088</td>\n",
       "      <td>-1.133558</td>\n",
       "      <td>0.483349</td>\n",
       "      <td>-1.149101</td>\n",
       "      <td>0</td>\n",
       "      <td>1</td>\n",
       "      <td>1</td>\n",
       "      <td>...</td>\n",
       "      <td>0</td>\n",
       "      <td>0</td>\n",
       "      <td>0</td>\n",
       "      <td>0</td>\n",
       "      <td>0</td>\n",
       "      <td>0</td>\n",
       "      <td>0</td>\n",
       "      <td>0</td>\n",
       "      <td>1</td>\n",
       "      <td>0</td>\n",
       "    </tr>\n",
       "  </tbody>\n",
       "</table>\n",
       "<p>5 rows × 38 columns</p>\n",
       "</div>"
      ],
      "text/plain": [
       "          vulc  perc_nat_rubber   weather  perc_imp  temperature  elevation  \\\n",
       "1478 -1.272006         0.538925  3.570635  1.802901     0.219643  -0.463013   \n",
       "1575  0.580725         0.338475 -0.664065 -0.309088    -1.260420   0.804318   \n",
       "333  -0.755024        -1.064678 -1.269022 -1.013084     0.240787   3.226475   \n",
       "1440  1.241596        -0.262876  0.545849  1.802901     1.904097   1.247718   \n",
       "1023 -0.367924        -1.064678 -0.664065 -0.309088    -1.133558   0.483349   \n",
       "\n",
       "      perc_exp_comp  tyre_season_0  tyre_season_1  tread_depth_0  ...  \\\n",
       "1478       1.196003              0              1              1  ...   \n",
       "1575      -1.124672              0              1              0  ...   \n",
       "333        0.389873              0              1              1  ...   \n",
       "1440       1.391428              1              0              0  ...   \n",
       "1023      -1.149101              0              1              1  ...   \n",
       "\n",
       "      month_10  month_11  month_2  month_3  month_4  month_5  month_6  \\\n",
       "1478         1         0        0        0        0        0        0   \n",
       "1575         0         1        0        0        0        0        0   \n",
       "333          1         0        0        0        0        0        0   \n",
       "1440         0         0        0        0        0        1        0   \n",
       "1023         0         0        0        0        0        0        0   \n",
       "\n",
       "      month_7  month_8  month_9  \n",
       "1478        0        0        0  \n",
       "1575        0        0        0  \n",
       "333         0        0        0  \n",
       "1440        0        0        0  \n",
       "1023        0        1        0  \n",
       "\n",
       "[5 rows x 38 columns]"
      ]
     },
     "execution_count": 256,
     "metadata": {},
     "output_type": "execute_result"
    }
   ],
   "source": [
    "from sklearn.preprocessing import StandardScaler\n",
    "\n",
    "scaler = StandardScaler().fit(X_train[num.columns]) \n",
    "X_train[num.columns] = scaler.transform(X_train[num.columns])\n",
    "#scaled_train_num.columns =num.columns\n",
    "\n",
    "X_train.head()"
   ]
  },
  {
   "cell_type": "code",
   "execution_count": 257,
   "id": "focal-installation",
   "metadata": {
    "scrolled": true
   },
   "outputs": [
    {
     "data": {
      "text/html": [
       "<div>\n",
       "<style scoped>\n",
       "    .dataframe tbody tr th:only-of-type {\n",
       "        vertical-align: middle;\n",
       "    }\n",
       "\n",
       "    .dataframe tbody tr th {\n",
       "        vertical-align: top;\n",
       "    }\n",
       "\n",
       "    .dataframe thead th {\n",
       "        text-align: right;\n",
       "    }\n",
       "</style>\n",
       "<table border=\"1\" class=\"dataframe\">\n",
       "  <thead>\n",
       "    <tr style=\"text-align: right;\">\n",
       "      <th></th>\n",
       "      <th>vulc</th>\n",
       "      <th>perc_nat_rubber</th>\n",
       "      <th>weather</th>\n",
       "      <th>perc_imp</th>\n",
       "      <th>temperature</th>\n",
       "      <th>elevation</th>\n",
       "      <th>perc_exp_comp</th>\n",
       "      <th>tyre_season_0</th>\n",
       "      <th>tyre_season_1</th>\n",
       "      <th>tread_depth_0</th>\n",
       "      <th>...</th>\n",
       "      <th>month_10</th>\n",
       "      <th>month_11</th>\n",
       "      <th>month_2</th>\n",
       "      <th>month_3</th>\n",
       "      <th>month_4</th>\n",
       "      <th>month_5</th>\n",
       "      <th>month_6</th>\n",
       "      <th>month_7</th>\n",
       "      <th>month_8</th>\n",
       "      <th>month_9</th>\n",
       "    </tr>\n",
       "  </thead>\n",
       "  <tbody>\n",
       "    <tr>\n",
       "      <th>364</th>\n",
       "      <td>-1.459189</td>\n",
       "      <td>-0.062426</td>\n",
       "      <td>-0.939045</td>\n",
       "      <td>-1.013084</td>\n",
       "      <td>-0.372382</td>\n",
       "      <td>-1.128113</td>\n",
       "      <td>0.927293</td>\n",
       "      <td>1</td>\n",
       "      <td>0</td>\n",
       "      <td>1</td>\n",
       "      <td>...</td>\n",
       "      <td>0</td>\n",
       "      <td>0</td>\n",
       "      <td>0</td>\n",
       "      <td>0</td>\n",
       "      <td>0</td>\n",
       "      <td>0</td>\n",
       "      <td>0</td>\n",
       "      <td>0</td>\n",
       "      <td>0</td>\n",
       "      <td>0</td>\n",
       "    </tr>\n",
       "    <tr>\n",
       "      <th>2163</th>\n",
       "      <td>-0.244409</td>\n",
       "      <td>-1.465579</td>\n",
       "      <td>-0.664065</td>\n",
       "      <td>-0.309088</td>\n",
       "      <td>-1.056030</td>\n",
       "      <td>-0.099028</td>\n",
       "      <td>-1.149101</td>\n",
       "      <td>0</td>\n",
       "      <td>1</td>\n",
       "      <td>1</td>\n",
       "      <td>...</td>\n",
       "      <td>0</td>\n",
       "      <td>0</td>\n",
       "      <td>0</td>\n",
       "      <td>0</td>\n",
       "      <td>0</td>\n",
       "      <td>0</td>\n",
       "      <td>0</td>\n",
       "      <td>0</td>\n",
       "      <td>1</td>\n",
       "      <td>0</td>\n",
       "    </tr>\n",
       "    <tr>\n",
       "      <th>12</th>\n",
       "      <td>-0.278789</td>\n",
       "      <td>-1.465579</td>\n",
       "      <td>-0.664065</td>\n",
       "      <td>-0.309088</td>\n",
       "      <td>-0.851641</td>\n",
       "      <td>-0.565591</td>\n",
       "      <td>-0.562825</td>\n",
       "      <td>0</td>\n",
       "      <td>1</td>\n",
       "      <td>1</td>\n",
       "      <td>...</td>\n",
       "      <td>0</td>\n",
       "      <td>0</td>\n",
       "      <td>0</td>\n",
       "      <td>0</td>\n",
       "      <td>0</td>\n",
       "      <td>0</td>\n",
       "      <td>0</td>\n",
       "      <td>0</td>\n",
       "      <td>1</td>\n",
       "      <td>0</td>\n",
       "    </tr>\n",
       "    <tr>\n",
       "      <th>606</th>\n",
       "      <td>0.333694</td>\n",
       "      <td>-1.866480</td>\n",
       "      <td>0.490853</td>\n",
       "      <td>0.394908</td>\n",
       "      <td>3.856371</td>\n",
       "      <td>1.611703</td>\n",
       "      <td>1.122718</td>\n",
       "      <td>0</td>\n",
       "      <td>1</td>\n",
       "      <td>0</td>\n",
       "      <td>...</td>\n",
       "      <td>0</td>\n",
       "      <td>0</td>\n",
       "      <td>0</td>\n",
       "      <td>0</td>\n",
       "      <td>0</td>\n",
       "      <td>1</td>\n",
       "      <td>0</td>\n",
       "      <td>0</td>\n",
       "      <td>0</td>\n",
       "      <td>0</td>\n",
       "    </tr>\n",
       "    <tr>\n",
       "      <th>2939</th>\n",
       "      <td>-0.552561</td>\n",
       "      <td>0.138024</td>\n",
       "      <td>-0.609069</td>\n",
       "      <td>-0.309088</td>\n",
       "      <td>-0.111609</td>\n",
       "      <td>-0.486176</td>\n",
       "      <td>-0.367399</td>\n",
       "      <td>1</td>\n",
       "      <td>0</td>\n",
       "      <td>0</td>\n",
       "      <td>...</td>\n",
       "      <td>0</td>\n",
       "      <td>0</td>\n",
       "      <td>0</td>\n",
       "      <td>0</td>\n",
       "      <td>0</td>\n",
       "      <td>0</td>\n",
       "      <td>1</td>\n",
       "      <td>0</td>\n",
       "      <td>0</td>\n",
       "      <td>0</td>\n",
       "    </tr>\n",
       "  </tbody>\n",
       "</table>\n",
       "<p>5 rows × 38 columns</p>\n",
       "</div>"
      ],
      "text/plain": [
       "          vulc  perc_nat_rubber   weather  perc_imp  temperature  elevation  \\\n",
       "364  -1.459189        -0.062426 -0.939045 -1.013084    -0.372382  -1.128113   \n",
       "2163 -0.244409        -1.465579 -0.664065 -0.309088    -1.056030  -0.099028   \n",
       "12   -0.278789        -1.465579 -0.664065 -0.309088    -0.851641  -0.565591   \n",
       "606   0.333694        -1.866480  0.490853  0.394908     3.856371   1.611703   \n",
       "2939 -0.552561         0.138024 -0.609069 -0.309088    -0.111609  -0.486176   \n",
       "\n",
       "      perc_exp_comp  tyre_season_0  tyre_season_1  tread_depth_0  ...  \\\n",
       "364        0.927293              1              0              1  ...   \n",
       "2163      -1.149101              0              1              1  ...   \n",
       "12        -0.562825              0              1              1  ...   \n",
       "606        1.122718              0              1              0  ...   \n",
       "2939      -0.367399              1              0              0  ...   \n",
       "\n",
       "      month_10  month_11  month_2  month_3  month_4  month_5  month_6  \\\n",
       "364          0         0        0        0        0        0        0   \n",
       "2163         0         0        0        0        0        0        0   \n",
       "12           0         0        0        0        0        0        0   \n",
       "606          0         0        0        0        0        1        0   \n",
       "2939         0         0        0        0        0        0        1   \n",
       "\n",
       "      month_7  month_8  month_9  \n",
       "364         0        0        0  \n",
       "2163        0        1        0  \n",
       "12          0        1        0  \n",
       "606         0        0        0  \n",
       "2939        0        0        0  \n",
       "\n",
       "[5 rows x 38 columns]"
      ]
     },
     "execution_count": 257,
     "metadata": {},
     "output_type": "execute_result"
    }
   ],
   "source": [
    "#Now lets's apply the scaler to the test set \n",
    "X_test[num.columns] = scaler.transform(X_test[num.columns])\n",
    "X_test.head()"
   ]
  },
  {
   "cell_type": "code",
   "execution_count": 258,
   "id": "distant-titanium",
   "metadata": {},
   "outputs": [],
   "source": [
    "#Save the scaler\n",
    "import pickle\n",
    "pickle.dump(scaler, open('scaler_NOT_OVERSAMPLED.pkl', 'wb'))"
   ]
  },
  {
   "cell_type": "code",
   "execution_count": 259,
   "id": "natural-dover",
   "metadata": {},
   "outputs": [
    {
     "name": "stderr",
     "output_type": "stream",
     "text": [
      "C:\\Users\\scrpa\\miniconda3\\envs\\myenv\\lib\\site-packages\\ipykernel_launcher.py:1: UserWarning: Boolean Series key will be reindexed to match DataFrame index.\n",
      "  \"\"\"Entry point for launching an IPython kernel.\n",
      "C:\\Users\\scrpa\\miniconda3\\envs\\myenv\\lib\\site-packages\\ipykernel_launcher.py:2: UserWarning: Boolean Series key will be reindexed to match DataFrame index.\n",
      "  \n"
     ]
    },
    {
     "data": {
      "image/png": "[encoded data removed]",
      "text/plain": [
       "<Figure size 1440x576 with 8 Axes>"
      ]
     },
     "metadata": {
      "needs_background": "light"
     },
     "output_type": "display_data"
    }
   ],
   "source": [
    "X0 = X_train[df['failure']==0]\n",
    "X1 = X_train[df['failure']==1]\n",
    "\n",
    "fig, axes = plt.subplots(ncols=4, nrows=2, figsize=(20,8))\n",
    "fig.tight_layout()\n",
    "\n",
    "for i, ax in zip(range(num.columns.size), axes.flat):\n",
    "    sns.histplot(X0.iloc[:,i], color=\"blue\", ax=ax, stat='density', element=\"step\",  alpha=0.3)\n",
    "    sns.histplot(X1.iloc[:,i], color=\"red\", ax=ax,stat='density', element=\"step\",  alpha=0.3)\n",
    "plt.show()"
   ]
  },
  {
   "cell_type": "markdown",
   "id": "diverse-front",
   "metadata": {},
   "source": [
    "---\n",
    "### DATA DISCRETIZATION\n",
    "\n",
    "In order to make learning algorithms more efficient we perfrom also a data discretization of some numerical attributes. \n",
    "\n",
    "The general purpose of data reduction methods is to obtain a decrease in the number of distinct values assumed by one or more attributes. Data discretization is the primary reduction method. On the one hand, it reduces continuous attributes to categorical attributes characterized by a limited number of distinct values. On the other hand, its aim is to significantly reduce the number of\n",
    "distinct values assumed by the categorical attributes\n",
    "\n",
    "\n",
    "\n",
    "(do not run the following cells to the optimal analysis--> skip to the \"model\" section)"
   ]
  },
  {
   "cell_type": "code",
   "execution_count": 43,
   "id": "minute-difference",
   "metadata": {},
   "outputs": [],
   "source": [
    "from sklearn.preprocessing import KBinsDiscretizer\n",
    "\n",
    "sel=['vulc','temperature','elevation','perc_nat_rubber','perc_exp_comp']\n",
    "# transform the dataset with KBinsDiscretizer\n",
    "enc = KBinsDiscretizer(n_bins=10, encode=\"ordinal\")\n",
    "for  i in sel:\n",
    "    X_train[i] = enc.fit_transform((np.array(X_train[i])).reshape(-1, 1))\n",
    "    X_test[i]=   enc.fit_transform((np.array(X_test[i])).reshape(-1, 1))"
   ]
  },
  {
   "cell_type": "code",
   "execution_count": 44,
   "id": "thorough-destination",
   "metadata": {},
   "outputs": [
    {
     "name": "stderr",
     "output_type": "stream",
     "text": [
      "C:\\Users\\scrpa\\miniconda3\\envs\\myenv\\lib\\site-packages\\ipykernel_launcher.py:1: UserWarning: Boolean Series key will be reindexed to match DataFrame index.\n",
      "  \"\"\"Entry point for launching an IPython kernel.\n",
      "C:\\Users\\scrpa\\miniconda3\\envs\\myenv\\lib\\site-packages\\ipykernel_launcher.py:2: UserWarning: Boolean Series key will be reindexed to match DataFrame index.\n",
      "  \n"
     ]
    },
    {
     "data": {
      "image/png": "[encoded data removed]",
      "text/plain": [
       "<Figure size 1440x576 with 8 Axes>"
      ]
     },
     "metadata": {
      "needs_background": "light"
     },
     "output_type": "display_data"
    },
    {
     "name": "stdout",
     "output_type": "stream",
     "text": [
      "Result of the data discretization\n"
     ]
    }
   ],
   "source": [
    "X0 = X_train[df['failure']==0]\n",
    "X1 = X_train[df['failure']==1]\n",
    "\n",
    "fig, axes = plt.subplots(ncols=4, nrows=2, figsize=(20,8))\n",
    "fig.tight_layout()\n",
    "\n",
    "for i, ax in zip(range(num.columns.size), axes.flat):\n",
    "    sns.histplot(X0.iloc[:,i], color=\"blue\", ax=ax, stat='density', element=\"step\",  alpha=0.3)\n",
    "    sns.histplot(X1.iloc[:,i], color=\"red\", ax=ax,stat='density', element=\"step\",  alpha=0.3)\n",
    "plt.show()\n",
    "\n",
    "print(\"Result of the data discretization\")"
   ]
  },
  {
   "cell_type": "markdown",
   "id": "modern-kentucky",
   "metadata": {},
   "source": [
    "The results afeter the discretization does not change so much.\n",
    "\n",
    "---"
   ]
  },
  {
   "cell_type": "markdown",
   "id": "tamil-consensus",
   "metadata": {},
   "source": [
    "### MODELS"
   ]
  },
  {
   "cell_type": "code",
   "execution_count": 260,
   "id": "adapted-hunger",
   "metadata": {},
   "outputs": [],
   "source": [
    "from sklearn.model_selection import GridSearchCV\n",
    "from sklearn.metrics import confusion_matrix\n",
    "from sklearn.metrics import classification_report\n",
    "from sklearn import metrics \n",
    "from sklearn.metrics import f1_score\n",
    "from sklearn.metrics import precision_score"
   ]
  },
  {
   "cell_type": "code",
   "execution_count": 261,
   "id": "armed-commodity",
   "metadata": {},
   "outputs": [],
   "source": [
    "#funzioni \n",
    "\n",
    "\n",
    "def hyperp_search(classifier, parameters):\n",
    "    gs = GridSearchCV(classifier, parameters, cv=3, scoring = 'f1', verbose=10, n_jobs=-1)\n",
    "    gs = gs.fit(X_train, y_train)\n",
    "    print(\"f1_train: %f using %s\" % (gs.best_score_, gs.best_params_))\n",
    "\n",
    "    best_model = gs.best_estimator_\n",
    "    y_pred = best_model.predict(X_test)\n",
    "    y_pred_train = best_model.predict(X_train)\n",
    "    print(\"\\n\")\n",
    "    print(\"f1         train %.3f   test %.3f\" % (f1_score(y_train, y_pred_train), f1_score(y_test, y_pred) ))  \n",
    "    print(\"\\n\")\n",
    "    print(confusion_matrix(y_test, y_pred))\n",
    "    return ( f1_score(y_train, y_pred_train),f1_score(y_test, y_pred) )\n",
    "\n",
    "def roc(model,X_train,y_train,X_test,y_test):\n",
    "    model.fit(X_train, y_train)\n",
    "    y_pred = model.predict(X_test)\n",
    "\n",
    "    y_probs = model.predict_proba(X_test) #predict_proba gives the probabilities for the target (0 and 1 in your case) \n",
    "\n",
    "    fpr, tpr, thresholds1=metrics.roc_curve(y_test,  y_probs[:,1])\n",
    "\n",
    "    import matplotlib.pyplot as plt\n",
    "    plt.plot(fpr, tpr, label='ROC')\n",
    "    plt.plot([0, 1], [0, 1], color='darkblue', linestyle='--')\n",
    "    plt.xlabel('False Positive Rate')\n",
    "    plt.ylabel('True Positive Rate')\n",
    "    plt.title('Receiver Operating Characteristic (ROC) Curve')\n",
    "    plt.legend()\n",
    "    plt.show()\n",
    "\n",
    "    auc = metrics.roc_auc_score(y_test, y_probs[:,1])\n",
    "    print('AUC: %.3f' % auc)\n",
    "    return (fpr, tpr ,auc)"
   ]
  },
  {
   "cell_type": "markdown",
   "id": "annual-anatomy",
   "metadata": {},
   "source": [
    "## KNN "
   ]
  },
  {
   "cell_type": "code",
   "execution_count": 262,
   "id": "champion-adrian",
   "metadata": {},
   "outputs": [
    {
     "name": "stdout",
     "output_type": "stream",
     "text": [
      "Fitting 3 folds for each of 499 candidates, totalling 1497 fits\n",
      "f1_train: 0.550428 using {'n_neighbors': 21}\n",
      "\n",
      "\n",
      "f1         train 0.585   test 0.527\n",
      "\n",
      "\n",
      "[[517  81]\n",
      " [165 137]]\n"
     ]
    }
   ],
   "source": [
    "from sklearn.neighbors import KNeighborsClassifier\n",
    "\n",
    "classifier = KNeighborsClassifier()\n",
    "parameters = {'n_neighbors':np.arange(1,500,1)}\n",
    "knn_f1_train,knn_f1_test = hyperp_search(classifier,parameters)"
   ]
  },
  {
   "cell_type": "markdown",
   "id": "vertical-valuable",
   "metadata": {},
   "source": [
    "## TREE "
   ]
  },
  {
   "cell_type": "code",
   "execution_count": 263,
   "id": "published-phrase",
   "metadata": {},
   "outputs": [
    {
     "name": "stdout",
     "output_type": "stream",
     "text": [
      "Fitting 3 folds for each of 14440 candidates, totalling 43320 fits\n",
      "f1_train: 0.555800 using {'criterion': 'gini', 'max_depth': 40, 'min_samples_leaf': 7, 'min_samples_split': 18}\n",
      "\n",
      "\n",
      "f1         train 0.786   test 0.569\n",
      "\n",
      "\n",
      "[[465 133]\n",
      " [129 173]]\n"
     ]
    }
   ],
   "source": [
    "#Tree\n",
    "from sklearn.tree import DecisionTreeClassifier\n",
    "classifier = DecisionTreeClassifier()\n",
    "parameters = {'criterion': ['entropy','gini'], \n",
    "              'max_depth':          np.arange(5,100,5),\n",
    "              'min_samples_split':  np.arange(5,100,1),\n",
    "              'min_samples_leaf':   [2,4,6,7]}\n",
    "\n",
    "tree_f1_train,tree_f1_test=hyperp_search(classifier,parameters)"
   ]
  },
  {
   "cell_type": "markdown",
   "id": "authentic-major",
   "metadata": {},
   "source": [
    "## Naive Bayes "
   ]
  },
  {
   "cell_type": "code",
   "execution_count": 264,
   "id": "sunset-payment",
   "metadata": {},
   "outputs": [
    {
     "data": {
      "image/png": "[encoded data removed]",
      "text/plain": [
       "<Figure size 432x288 with 1 Axes>"
      ]
     },
     "metadata": {
      "needs_background": "light"
     },
     "output_type": "display_data"
    },
    {
     "name": "stdout",
     "output_type": "stream",
     "text": [
      "AUC: 0.744\n"
     ]
    }
   ],
   "source": [
    "# Naive Bayes\n",
    "from sklearn.naive_bayes import GaussianNB #or alternative NB implementations\n",
    "\n",
    "model = GaussianNB()\n",
    "\n",
    "model.fit(X_train, y_train)\n",
    "y_pred=model.predict(X_test)\n",
    "\n",
    "\n",
    "\n",
    "y_probs = model.predict_proba(X_test) \n",
    "fpr3,tpr3,AUC3=roc(model,X_train,y_train,X_test,y_test)"
   ]
  },
  {
   "cell_type": "markdown",
   "id": "split-exercise",
   "metadata": {},
   "source": [
    "## Logistic"
   ]
  },
  {
   "cell_type": "code",
   "execution_count": 265,
   "id": "developed-inflation",
   "metadata": {},
   "outputs": [
    {
     "name": "stdout",
     "output_type": "stream",
     "text": [
      "Fitting 3 folds for each of 9 candidates, totalling 27 fits\n",
      "f1_train: 0.563489 using {'C': 5, 'max_iter': 2000}\n",
      "\n",
      "\n",
      "f1         train 0.577   test 0.623\n",
      "\n",
      "\n",
      "[[513  85]\n",
      " [127 175]]\n"
     ]
    }
   ],
   "source": [
    "# Logistic\n",
    "\n",
    "from sklearn.linear_model import LogisticRegression\n",
    "\n",
    "classifier = LogisticRegression()\n",
    "parameters = {\"C\":np.arange(1,10,1), \"max_iter\":[2000] }\n",
    "\n",
    "\n",
    "logi_f1_train,logi_f1_test=hyperp_search(classifier,parameters)"
   ]
  },
  {
   "cell_type": "markdown",
   "id": "relevant-strike",
   "metadata": {},
   "source": [
    "## SUPPORT VECTOR MACHINE "
   ]
  },
  {
   "cell_type": "code",
   "execution_count": 266,
   "id": "expanded-taylor",
   "metadata": {},
   "outputs": [
    {
     "name": "stdout",
     "output_type": "stream",
     "text": [
      "Fitting 3 folds for each of 18 candidates, totalling 54 fits\n",
      "f1_train: 0.540987 using {'C': 1, 'degree': 2, 'gamma': 1, 'kernel': 'linear'}\n",
      "\n",
      "\n",
      "f1         train 0.548   test 0.593\n",
      "\n",
      "\n",
      "[[535  63]\n",
      " [148 154]]\n"
     ]
    }
   ],
   "source": [
    "from sklearn.svm import SVC\n",
    "\n",
    "classifier = SVC()\n",
    "parameters = {\"kernel\":['linear','sigmoid','rbf'],\n",
    "              \"C\":[0.001,0.3,1],\n",
    "              \"degree\":[2,3],\n",
    "              \"gamma\":[1]}\n",
    "\n",
    "SV_f1_train,SV_f1_test=hyperp_search(classifier,parameters)\n",
    "\n",
    "\n",
    "#OVER-FITTING: using {'C': 50, 'kernel': 'rbf'}\n",
    "# so we omit the 'rbf' among the possible parameters. "
   ]
  },
  {
   "cell_type": "markdown",
   "id": "comic-genius",
   "metadata": {},
   "source": [
    "## NEURAL NETWORK"
   ]
  },
  {
   "cell_type": "code",
   "execution_count": 267,
   "id": "governing-jefferson",
   "metadata": {},
   "outputs": [
    {
     "name": "stdout",
     "output_type": "stream",
     "text": [
      "Fitting 3 folds for each of 24 candidates, totalling 72 fits\n",
      "f1_train: 0.571338 using {'activation': 'logistic', 'alpha': 0.01, 'hidden_layer_sizes': (10, 5), 'learning_rate': 'invscaling', 'max_iter': 3000}\n",
      "\n",
      "\n",
      "f1         train 0.740   test 0.574\n",
      "\n",
      "\n",
      "[[483 115]\n",
      " [134 168]]\n"
     ]
    }
   ],
   "source": [
    "# Multi-layer Perceptron classifier\n",
    "\n",
    "from sklearn.neural_network import MLPClassifier\n",
    "\n",
    "classifier = MLPClassifier()\n",
    "parameters = {\"hidden_layer_sizes\":[(9,6),(10, 5)], \n",
    "              \"alpha\": [0.01,1,10],\n",
    "              \"activation\":['logistic', 'relu'],\n",
    "              \"learning_rate\":['constant','invscaling'], #'adaptive'],\n",
    "              \"max_iter\": [3000]}\n",
    "\n",
    "\n",
    "\n",
    "NN_f1_train,NN_f1_test=hyperp_search(classifier,parameters)\n",
    "\n",
    "#over fitting with: 'alpha': 0.1, 'hidden_layer_sizes': (100, 20, 5), 'max_iter': 2000\n",
    "#over fitting "
   ]
  },
  {
   "cell_type": "markdown",
   "id": "based-cable",
   "metadata": {},
   "source": [
    "## RANDOM FOREST "
   ]
  },
  {
   "cell_type": "code",
   "execution_count": 268,
   "id": "optical-column",
   "metadata": {},
   "outputs": [
    {
     "name": "stdout",
     "output_type": "stream",
     "text": [
      "Fitting 3 folds for each of 600 candidates, totalling 1800 fits\n",
      "f1_train: 0.555948 using {'criterion': 'entropy', 'max_depth': 9, 'min_samples_leaf': 2, 'min_samples_split': 6, 'n_estimators': 10}\n",
      "\n",
      "\n",
      "f1         train 0.720   test 0.587\n",
      "\n",
      "\n",
      "[[532  66]\n",
      " [149 153]]\n"
     ]
    }
   ],
   "source": [
    " from sklearn.ensemble import RandomForestClassifier\n",
    "\n",
    "\n",
    "classifier= RandomForestClassifier()\n",
    "parameters = {'n_estimators' :     [8,10,100],\n",
    "              'criterion' :        ['entropy', 'gini'],\n",
    "              'max_depth' :        np.arange(5,10,1), \n",
    "              'min_samples_split': np.arange(5,10,1),\n",
    "              'min_samples_leaf' : [2,4,6,8,]\n",
    "             };\n",
    "\n",
    "\n",
    "RF_f1_train,RF_f1_test=hyperp_search(classifier,parameters)"
   ]
  },
  {
   "cell_type": "markdown",
   "id": "twenty-amino",
   "metadata": {},
   "source": [
    "## ADA BOOST "
   ]
  },
  {
   "cell_type": "code",
   "execution_count": 269,
   "id": "divided-mexico",
   "metadata": {},
   "outputs": [
    {
     "name": "stdout",
     "output_type": "stream",
     "text": [
      "Fitting 3 folds for each of 2 candidates, totalling 6 fits\n",
      "f1_train: 0.546213 using {'learning_rate': 0.01, 'n_estimators': 7000}\n",
      "\n",
      "\n",
      "f1         train 0.620   test 0.588\n",
      "\n",
      "\n",
      "[[497 101]\n",
      " [134 168]]\n"
     ]
    }
   ],
   "source": [
    "from sklearn.ensemble import AdaBoostClassifier\n",
    "\n",
    "\n",
    "classifier= AdaBoostClassifier()\n",
    "parameters = {'n_estimators'  : [7000],\n",
    "              'learning_rate' : [0.01,0.1]}\n",
    "\n",
    "ADAB_f1_train,ADAB_f1_test=hyperp_search(classifier,parameters)"
   ]
  },
  {
   "cell_type": "code",
   "execution_count": 270,
   "id": "challenging-separate",
   "metadata": {},
   "outputs": [],
   "source": [
    "F1_TRAIN=[knn_f1_train,tree_f1_train,logi_f1_train,SV_f1_train,NN_f1_train,RF_f1_train,ADAB_f1_train]\n",
    "F1_TEST= [knn_f1_test, tree_f1_test, logi_f1_test, SV_f1_test, NN_f1_test, RF_f1_test,ADAB_f1_test]\n",
    "data = {'Name': ['knn','tree','Logistic','SVM','Neural Network','Random Forest','ADABOOST']}\n",
    "data['f1_train']=F1_TRAIN\n",
    "data['f1_test']=F1_TEST\n",
    "\n",
    "data_no_oversampling=pd.DataFrame(data)"
   ]
  },
  {
   "cell_type": "code",
   "execution_count": 271,
   "id": "hourly-queue",
   "metadata": {},
   "outputs": [
    {
     "data": {
      "text/html": [
       "<div>\n",
       "<style scoped>\n",
       "    .dataframe tbody tr th:only-of-type {\n",
       "        vertical-align: middle;\n",
       "    }\n",
       "\n",
       "    .dataframe tbody tr th {\n",
       "        vertical-align: top;\n",
       "    }\n",
       "\n",
       "    .dataframe thead th {\n",
       "        text-align: right;\n",
       "    }\n",
       "</style>\n",
       "<table border=\"1\" class=\"dataframe\">\n",
       "  <thead>\n",
       "    <tr style=\"text-align: right;\">\n",
       "      <th></th>\n",
       "      <th>Name</th>\n",
       "      <th>f1_train</th>\n",
       "      <th>f1_test</th>\n",
       "    </tr>\n",
       "  </thead>\n",
       "  <tbody>\n",
       "    <tr>\n",
       "      <th>0</th>\n",
       "      <td>knn</td>\n",
       "      <td>0.585204</td>\n",
       "      <td>0.526923</td>\n",
       "    </tr>\n",
       "    <tr>\n",
       "      <th>1</th>\n",
       "      <td>tree</td>\n",
       "      <td>0.785714</td>\n",
       "      <td>0.569079</td>\n",
       "    </tr>\n",
       "    <tr>\n",
       "      <th>2</th>\n",
       "      <td>Logistic</td>\n",
       "      <td>0.576985</td>\n",
       "      <td>0.622776</td>\n",
       "    </tr>\n",
       "    <tr>\n",
       "      <th>3</th>\n",
       "      <td>SVM</td>\n",
       "      <td>0.547969</td>\n",
       "      <td>0.593449</td>\n",
       "    </tr>\n",
       "    <tr>\n",
       "      <th>4</th>\n",
       "      <td>Neural Network</td>\n",
       "      <td>0.740192</td>\n",
       "      <td>0.574359</td>\n",
       "    </tr>\n",
       "    <tr>\n",
       "      <th>5</th>\n",
       "      <td>Random Forest</td>\n",
       "      <td>0.720131</td>\n",
       "      <td>0.587332</td>\n",
       "    </tr>\n",
       "    <tr>\n",
       "      <th>6</th>\n",
       "      <td>ADABOOST</td>\n",
       "      <td>0.619718</td>\n",
       "      <td>0.588441</td>\n",
       "    </tr>\n",
       "  </tbody>\n",
       "</table>\n",
       "</div>"
      ],
      "text/plain": [
       "             Name  f1_train   f1_test\n",
       "0             knn  0.585204  0.526923\n",
       "1            tree  0.785714  0.569079\n",
       "2        Logistic  0.576985  0.622776\n",
       "3             SVM  0.547969  0.593449\n",
       "4  Neural Network  0.740192  0.574359\n",
       "5   Random Forest  0.720131  0.587332\n",
       "6        ADABOOST  0.619718  0.588441"
      ]
     },
     "execution_count": 271,
     "metadata": {},
     "output_type": "execute_result"
    }
   ],
   "source": [
    "data_no_oversampling"
   ]
  },
  {
   "cell_type": "markdown",
   "id": "legal-honey",
   "metadata": {},
   "source": [
    "## OVER SAMPLING \n",
    "\n",
    "We oversample the train data and not the test data since if train data is unbalanced, our validation data will most likely show the same trait and be unbalanced."
   ]
  },
  {
   "cell_type": "code",
   "execution_count": 272,
   "id": "ranging-season",
   "metadata": {},
   "outputs": [
    {
     "name": "stdout",
     "output_type": "stream",
     "text": [
      "1394\n",
      "706\n"
     ]
    }
   ],
   "source": [
    "print(len(y_train[y_train==0]))\n",
    "print(len(y_train[y_train==1]))"
   ]
  },
  {
   "cell_type": "code",
   "execution_count": 273,
   "id": "correct-virus",
   "metadata": {},
   "outputs": [
    {
     "data": {
      "text/plain": [
       "0    1394\n",
       "1    1394\n",
       "Name: failure, dtype: int64"
      ]
     },
     "execution_count": 273,
     "metadata": {},
     "output_type": "execute_result"
    }
   ],
   "source": [
    " from sklearn.utils import resample\n",
    "\n",
    "df_train=pd.concat([X_train,y_train], axis = 1)\n",
    "\n",
    "#Down-sample Majority Class\n",
    "#1) Separate majority and minority classes\n",
    "\n",
    "df_majority = df_train[df_train.failure==0] \n",
    "df_minority = df_train[df_train.failure==1] \n",
    "#2) Oversample minority class\n",
    "df_minority_oversampled = resample(df_minority, \n",
    "                                   replace=True,\n",
    "                                   n_samples=len(y_train[y_train==0]),    # number of samples into the minority class \n",
    "                                   random_state=123)                      # reproducible results\n",
    " \n",
    "#3) Combine oversampled minority class with majority class\n",
    "df_train_oversampled = pd.concat([df_minority_oversampled, df_majority])\n",
    " \n",
    "#4) Display new class counts\n",
    "df_train_oversampled.failure.value_counts()"
   ]
  },
  {
   "cell_type": "code",
   "execution_count": 274,
   "id": "demonstrated-climb",
   "metadata": {},
   "outputs": [],
   "source": [
    "y_train=df_train_oversampled['failure']\n",
    "X_train=df_train_oversampled.loc[:, df_train_oversampled.columns!='failure']"
   ]
  },
  {
   "cell_type": "code",
   "execution_count": 275,
   "id": "accomplished-drove",
   "metadata": {},
   "outputs": [
    {
     "data": {
      "image/png": "[encoded data removed]",
      "text/plain": [
       "<Figure size 432x288 with 1 Axes>"
      ]
     },
     "metadata": {
      "needs_background": "light"
     },
     "output_type": "display_data"
    }
   ],
   "source": [
    "#Visualize Class Counts\n",
    "sns.countplot(y=y_train[:]) \n",
    "plt.xlabel(\"count of each class\")\n",
    "plt.ylabel(\"classes\")\n",
    "plt.title(\"TRAIN SET\")\n",
    "plt.show()"
   ]
  },
  {
   "cell_type": "code",
   "execution_count": 276,
   "id": "coupled-blogger",
   "metadata": {},
   "outputs": [
    {
     "data": {
      "image/png": "[encoded data removed]",
      "text/plain": [
       "<Figure size 432x288 with 1 Axes>"
      ]
     },
     "metadata": {
      "needs_background": "light"
     },
     "output_type": "display_data"
    }
   ],
   "source": [
    "#Visualize Class Counts\n",
    "sns.countplot(y=y_test[:]) \n",
    "plt.xlabel(\"count of each class\")\n",
    "plt.ylabel(\"classes\")\n",
    "plt.title(\"TEST SET\")\n",
    "plt.show()"
   ]
  },
  {
   "cell_type": "markdown",
   "id": "amateur-australian",
   "metadata": {},
   "source": [
    "## KNN - OS"
   ]
  },
  {
   "cell_type": "code",
   "execution_count": 277,
   "id": "damaged-russia",
   "metadata": {},
   "outputs": [
    {
     "name": "stdout",
     "output_type": "stream",
     "text": [
      "Fitting 3 folds for each of 8 candidates, totalling 24 fits\n",
      "f1_train: 0.753678 using {'n_neighbors': 3}\n",
      "\n",
      "\n",
      "f1         train 0.892   test 0.566\n",
      "\n",
      "\n",
      "[[406 192]\n",
      " [107 195]]\n",
      "DIfference between train-test\n",
      "0.3261978732540225\n"
     ]
    }
   ],
   "source": [
    "from sklearn.neighbors import KNeighborsClassifier\n",
    "classifier = KNeighborsClassifier()\n",
    "parameters = {'n_neighbors':np.arange(2,10,1)}\n",
    "knn_f1_train,knn_f1_test = hyperp_search(classifier,parameters)\n",
    "\n",
    "print(\"DIfference between train-test\")\n",
    "print(knn_f1_train-knn_f1_test)"
   ]
  },
  {
   "cell_type": "markdown",
   "id": "funded-martin",
   "metadata": {},
   "source": [
    "## TREE - OS"
   ]
  },
  {
   "cell_type": "code",
   "execution_count": 278,
   "id": "operational-muslim",
   "metadata": {},
   "outputs": [
    {
     "name": "stdout",
     "output_type": "stream",
     "text": [
      "Fitting 3 folds for each of 40 candidates, totalling 120 fits\n",
      "f1_train: 0.736549 using {'criterion': 'entropy', 'max_depth': 5, 'min_samples_leaf': 4, 'min_samples_split': 16}\n",
      "\n",
      "\n",
      "f1         train 0.765   test 0.609\n",
      "\n",
      "\n",
      "[[336 262]\n",
      " [ 55 247]]\n",
      "0.15552604214767096\n"
     ]
    }
   ],
   "source": [
    "from sklearn.tree import DecisionTreeClassifier\n",
    "classifier = DecisionTreeClassifier()\n",
    "parameters = {'criterion': ['entropy','gini'], \n",
    "              'max_depth':         [3,4,5,6],\n",
    "              'min_samples_split':  np.arange(4,24,4),\n",
    "              'min_samples_leaf':   [4]}\n",
    "\n",
    "tree_f1_train,tree_f1_test=hyperp_search(classifier,parameters)\n",
    "print(tree_f1_train-tree_f1_test)"
   ]
  },
  {
   "cell_type": "markdown",
   "id": "instructional-limit",
   "metadata": {},
   "source": [
    "## LOGISTIC - OS"
   ]
  },
  {
   "cell_type": "code",
   "execution_count": 279,
   "id": "uniform-hampton",
   "metadata": {},
   "outputs": [
    {
     "name": "stdout",
     "output_type": "stream",
     "text": [
      "Fitting 3 folds for each of 3 candidates, totalling 9 fits\n",
      "f1_train: 0.723685 using {'C': 0.15, 'max_iter': 1000}\n",
      "\n",
      "\n",
      "f1         train 0.732   test 0.642\n",
      "\n",
      "\n",
      "[[407 191]\n",
      " [ 69 233]]\n",
      "0.09005654632448878\n"
     ]
    }
   ],
   "source": [
    "from sklearn.linear_model import LogisticRegression\n",
    "classifier = LogisticRegression()\n",
    "parameters = {\"C\":[0.15,0.01,1], \"max_iter\":[1000] }\n",
    "\n",
    "logi_f1_train,logi_f1_test=hyperp_search(classifier,parameters)\n",
    "print(logi_f1_train-logi_f1_test)"
   ]
  },
  {
   "cell_type": "markdown",
   "id": "convertible-fantasy",
   "metadata": {},
   "source": [
    "## SUPPORT VECTOR MACHINE  OS"
   ]
  },
  {
   "cell_type": "code",
   "execution_count": 280,
   "id": "foster-peninsula",
   "metadata": {},
   "outputs": [
    {
     "name": "stdout",
     "output_type": "stream",
     "text": [
      "Fitting 3 folds for each of 27 candidates, totalling 81 fits\n",
      "f1_train: 0.732469 using {'C': 0.3, 'degree': 2, 'gamma': 1, 'kernel': 'linear'}\n",
      "\n",
      "\n",
      "f1         train 0.746   test 0.643\n",
      "\n",
      "\n",
      "[[400 198]\n",
      " [ 65 237]]\n",
      "0.10296609275806534\n"
     ]
    }
   ],
   "source": [
    "from sklearn.svm import SVC\n",
    "classifier = SVC()\n",
    "parameters = {\"kernel\":['linear','sigmoid','rbf'],\n",
    "              \"C\":[0.001,0.01,0.3],\n",
    "              \"degree\":[2,3,4],\n",
    "              \"gamma\": [1]}\n",
    "\n",
    "SV_f1_train,SV_f1_test=hyperp_search(classifier,parameters)\n",
    "print(SV_f1_train-SV_f1_test)"
   ]
  },
  {
   "cell_type": "markdown",
   "id": "reverse-bulgaria",
   "metadata": {},
   "source": [
    "## NEURAL NETWORKS - OS "
   ]
  },
  {
   "cell_type": "code",
   "execution_count": 281,
   "id": "living-consultancy",
   "metadata": {},
   "outputs": [
    {
     "name": "stdout",
     "output_type": "stream",
     "text": [
      "Fitting 3 folds for each of 24 candidates, totalling 72 fits\n",
      "f1_train: 0.783095 using {'activation': 'relu', 'alpha': 0.01, 'hidden_layer_sizes': (10, 5), 'learning_rate': 'invscaling', 'max_iter': 3000}\n",
      "\n",
      "\n",
      "f1         train 0.853   test 0.579\n",
      "\n",
      "\n",
      "[[444 154]\n",
      " [116 186]]\n",
      "0.2732519657938629\n"
     ]
    }
   ],
   "source": [
    "from sklearn.neural_network import MLPClassifier\n",
    "\n",
    "classifier = MLPClassifier()\n",
    "parameters = {\"hidden_layer_sizes\":[(9,6),(10, 5)], \n",
    "              \"alpha\": [0.01,1,10],\n",
    "              \"activation\":['logistic', 'relu'],\n",
    "              \"learning_rate\":['constant','invscaling'], #'adaptive'],\n",
    "              \"max_iter\": [3000]}\n",
    "\n",
    "NN_f1_train,NN_f1_test=hyperp_search(classifier,parameters)\n",
    "print(NN_f1_train-NN_f1_test)"
   ]
  },
  {
   "cell_type": "markdown",
   "id": "whole-italic",
   "metadata": {},
   "source": [
    "## RANDOM FOREST CLASSIFIER - OS "
   ]
  },
  {
   "cell_type": "code",
   "execution_count": 282,
   "id": "decimal-genealogy",
   "metadata": {},
   "outputs": [
    {
     "name": "stdout",
     "output_type": "stream",
     "text": [
      "Fitting 3 folds for each of 3920 candidates, totalling 11760 fits\n",
      "f1_train: 0.762042 using {'criterion': 'entropy', 'max_depth': 4, 'min_samples_leaf': 5, 'min_samples_split': 10, 'n_estimators': 9}\n",
      "\n",
      "\n",
      "f1         train 0.755   test 0.643\n",
      "\n",
      "\n",
      "[[383 215]\n",
      " [ 57 245]]\n"
     ]
    }
   ],
   "source": [
    "from sklearn.ensemble import RandomForestClassifier\n",
    "\n",
    "classifier= RandomForestClassifier()\n",
    "parameters = {'criterion' :        ['entropy', 'gini'],\n",
    "              'max_depth' :        np.arange(4,5,1),\n",
    "              'min_samples_leaf' : np.arange(5,30,5),\n",
    "              'min_samples_split': np.arange(10,500,10),\n",
    "              'n_estimators' :     np.arange(2,10,1), \n",
    "             };\n",
    "\n",
    "RF_f1_train,RF_f1_test=hyperp_search(classifier,parameters)"
   ]
  },
  {
   "cell_type": "markdown",
   "id": "minute-mayor",
   "metadata": {},
   "source": [
    "## ADABOOST OS"
   ]
  },
  {
   "cell_type": "code",
   "execution_count": 283,
   "id": "refined-soccer",
   "metadata": {},
   "outputs": [
    {
     "name": "stdout",
     "output_type": "stream",
     "text": [
      "Fitting 3 folds for each of 12 candidates, totalling 36 fits\n",
      "f1_train: 0.734872 using {'learning_rate': 0.01, 'n_estimators': 6000}\n",
      "\n",
      "\n",
      "f1         train 0.773   test 0.645\n",
      "\n",
      "\n",
      "[[415 183]\n",
      " [ 71 231]]\n",
      "0.12808193668528856\n"
     ]
    }
   ],
   "source": [
    "from sklearn.ensemble import AdaBoostClassifier\n",
    "\n",
    "\n",
    "classifier= AdaBoostClassifier()\n",
    "parameters = {'n_estimators'  : [1000,2000,3000,4000,5000,6000],\n",
    "              'learning_rate' : [0.001, 0.01]}\n",
    "\n",
    "ADAB_f1_train,ADAB_f1_test=hyperp_search(classifier,parameters)\n",
    "print(ADAB_f1_train - ADAB_f1_test)"
   ]
  },
  {
   "cell_type": "code",
   "execution_count": 284,
   "id": "closing-shakespeare",
   "metadata": {},
   "outputs": [],
   "source": [
    "F1_TRAIN=[knn_f1_train,tree_f1_train,logi_f1_train,SV_f1_train,NN_f1_train,RF_f1_train,ADAB_f1_train]\n",
    "F1_TEST= [knn_f1_test, tree_f1_test, logi_f1_test, SV_f1_test, NN_f1_test, RF_f1_test,ADAB_f1_test]\n",
    "data = {'Name': ['knn','tree','Logistic','SVM','Neural Network','Random Forest','ADABOOST']}\n",
    "data['f1_train']=F1_TRAIN\n",
    "data['f1_test']=F1_TEST\n",
    "\n",
    "data_oversampling=pd.DataFrame(data)"
   ]
  },
  {
   "cell_type": "code",
   "execution_count": 285,
   "id": "congressional-sound",
   "metadata": {},
   "outputs": [
    {
     "data": {
      "text/html": [
       "<div>\n",
       "<style scoped>\n",
       "    .dataframe tbody tr th:only-of-type {\n",
       "        vertical-align: middle;\n",
       "    }\n",
       "\n",
       "    .dataframe tbody tr th {\n",
       "        vertical-align: top;\n",
       "    }\n",
       "\n",
       "    .dataframe thead th {\n",
       "        text-align: right;\n",
       "    }\n",
       "</style>\n",
       "<table border=\"1\" class=\"dataframe\">\n",
       "  <thead>\n",
       "    <tr style=\"text-align: right;\">\n",
       "      <th></th>\n",
       "      <th>Name</th>\n",
       "      <th>f1_train</th>\n",
       "      <th>f1_test</th>\n",
       "    </tr>\n",
       "  </thead>\n",
       "  <tbody>\n",
       "    <tr>\n",
       "      <th>0</th>\n",
       "      <td>knn</td>\n",
       "      <td>0.892236</td>\n",
       "      <td>0.566038</td>\n",
       "    </tr>\n",
       "    <tr>\n",
       "      <th>1</th>\n",
       "      <td>tree</td>\n",
       "      <td>0.764651</td>\n",
       "      <td>0.609125</td>\n",
       "    </tr>\n",
       "    <tr>\n",
       "      <th>2</th>\n",
       "      <td>Logistic</td>\n",
       "      <td>0.731930</td>\n",
       "      <td>0.641873</td>\n",
       "    </tr>\n",
       "    <tr>\n",
       "      <th>3</th>\n",
       "      <td>SVM</td>\n",
       "      <td>0.746114</td>\n",
       "      <td>0.643148</td>\n",
       "    </tr>\n",
       "    <tr>\n",
       "      <th>4</th>\n",
       "      <td>Neural Network</td>\n",
       "      <td>0.852691</td>\n",
       "      <td>0.579439</td>\n",
       "    </tr>\n",
       "    <tr>\n",
       "      <th>5</th>\n",
       "      <td>Random Forest</td>\n",
       "      <td>0.755203</td>\n",
       "      <td>0.643045</td>\n",
       "    </tr>\n",
       "    <tr>\n",
       "      <th>6</th>\n",
       "      <td>ADABOOST</td>\n",
       "      <td>0.773333</td>\n",
       "      <td>0.645251</td>\n",
       "    </tr>\n",
       "  </tbody>\n",
       "</table>\n",
       "</div>"
      ],
      "text/plain": [
       "             Name  f1_train   f1_test\n",
       "0             knn  0.892236  0.566038\n",
       "1            tree  0.764651  0.609125\n",
       "2        Logistic  0.731930  0.641873\n",
       "3             SVM  0.746114  0.643148\n",
       "4  Neural Network  0.852691  0.579439\n",
       "5   Random Forest  0.755203  0.643045\n",
       "6        ADABOOST  0.773333  0.645251"
      ]
     },
     "execution_count": 285,
     "metadata": {},
     "output_type": "execute_result"
    }
   ],
   "source": [
    "data_oversampling"
   ]
  },
  {
   "cell_type": "markdown",
   "id": "wicked-discrimination",
   "metadata": {},
   "source": [
    "## OVERSAMPLING WITH ANOTHER METHOD\n",
    "\n",
    "Scikit-learn’s imblearn has a class named SMOTETomek that combines the concepts of under-sampling and oversampling techniques, theoretically providing a good compromise between the pros and cons of each."
   ]
  },
  {
   "cell_type": "code",
   "execution_count": 286,
   "id": "brilliant-draft",
   "metadata": {},
   "outputs": [],
   "source": [
    "#same process \n",
    "X=pd.concat([num,dummies], axis = 1)\n",
    "y=df['failure']\n",
    "\n",
    "from sklearn.model_selection import train_test_split\n",
    "X_train, X_test, y_train, y_test = train_test_split(X, y, \n",
    "                                                    test_size =0.25,   \n",
    "                                                    stratify=y,        #preserve target propotions (probviamo non stratificata)\n",
    "                                                    random_state= 321) #fix random seed for replicability\n",
    "# same scaler\n",
    "X_train[num.columns] = scaler.transform(X_train[num.columns])\n",
    "X_test[num.columns] = scaler.transform(X_test[num.columns])"
   ]
  },
  {
   "cell_type": "code",
   "execution_count": 287,
   "id": "dated-healthcare",
   "metadata": {},
   "outputs": [],
   "source": [
    "from imblearn.combine import SMOTETomek\n",
    "smt = SMOTETomek()\n",
    "\n",
    "X_train, y_train= smt.fit_resample(X_train, y_train)"
   ]
  },
  {
   "cell_type": "code",
   "execution_count": 288,
   "id": "supposed-meter",
   "metadata": {},
   "outputs": [
    {
     "data": {
      "image/png": "[encoded data removed]",
      "text/plain": [
       "<Figure size 432x288 with 1 Axes>"
      ]
     },
     "metadata": {
      "needs_background": "light"
     },
     "output_type": "display_data"
    }
   ],
   "source": [
    "#Visualize Class Counts\n",
    "sns.countplot(y=y_train[:]) \n",
    "plt.xlabel(\"count of each class\")\n",
    "plt.ylabel(\"classes\")\n",
    "plt.title(\"TRAIN SET\")\n",
    "plt.show()"
   ]
  },
  {
   "cell_type": "code",
   "execution_count": 289,
   "id": "featured-trainer",
   "metadata": {},
   "outputs": [
    {
     "data": {
      "image/png": "[encoded data removed]",
      "text/plain": [
       "<Figure size 432x288 with 1 Axes>"
      ]
     },
     "metadata": {
      "needs_background": "light"
     },
     "output_type": "display_data"
    }
   ],
   "source": [
    "#Visualize Class Counts\n",
    "sns.countplot(y=y_test[:]) \n",
    "plt.xlabel(\"count of each class\")\n",
    "plt.ylabel(\"classes\")\n",
    "plt.title(\"TEST SET\")\n",
    "plt.show()"
   ]
  },
  {
   "cell_type": "markdown",
   "id": "incredible-gilbert",
   "metadata": {},
   "source": [
    "### SUPPORT VECTOR MACHINE OS 2 "
   ]
  },
  {
   "cell_type": "code",
   "execution_count": 290,
   "id": "handy-schedule",
   "metadata": {},
   "outputs": [
    {
     "name": "stdout",
     "output_type": "stream",
     "text": [
      "Fitting 3 folds for each of 27 candidates, totalling 81 fits\n",
      "f1_train: 0.774358 using {'C': 0.01, 'degree': 2, 'gamma': 1, 'kernel': 'linear'}\n",
      "\n",
      "\n",
      "f1         train 0.798   test 0.629\n",
      "\n",
      "\n",
      "[[342 156]\n",
      " [ 65 187]]\n",
      "0.16985789080029923\n"
     ]
    }
   ],
   "source": [
    "from sklearn.svm import SVC\n",
    "classifier = SVC()\n",
    "parameters = {\"kernel\":['linear','sigmoid','rbf'],\n",
    "              \"C\":[0.001,0.01,0.3],\n",
    "              \"degree\":[2,3,4],\n",
    "              \"gamma\": [1]}\n",
    "\n",
    "SV_f1_train,SV_f1_test=hyperp_search(classifier,parameters)\n",
    "print(SV_f1_train-SV_f1_test)"
   ]
  },
  {
   "cell_type": "markdown",
   "id": "exempt-stress",
   "metadata": {},
   "source": [
    "### NEURAL NETWORKS - OS 2"
   ]
  },
  {
   "cell_type": "code",
   "execution_count": 291,
   "id": "alternate-geometry",
   "metadata": {},
   "outputs": [
    {
     "name": "stdout",
     "output_type": "stream",
     "text": [
      "Fitting 3 folds for each of 2 candidates, totalling 6 fits\n",
      "f1_train: 0.726281 using {'activation': 'logistic', 'alpha': 0.1, 'hidden_layer_sizes': (12, 6), 'learning_rate': 'invscaling', 'max_iter': 2000}\n",
      "\n",
      "\n",
      "f1         train 0.828   test 0.605\n",
      "\n",
      "\n",
      "[[409  89]\n",
      " [104 148]]\n"
     ]
    }
   ],
   "source": [
    "from sklearn.neural_network import MLPClassifier\n",
    "\n",
    "classifier = MLPClassifier()\n",
    "parameters = {\"hidden_layer_sizes\":[(12,6)], \n",
    "              \"max_iter\": [2000],\n",
    "              \"alpha\":    [0.1],\n",
    "              \"activation\":['logistic', 'relu'],\n",
    "              \"learning_rate\":['invscaling']}\n",
    "\n",
    "NN_f1_train,NN_f1_test=hyperp_search(classifier,parameters)\n"
   ]
  },
  {
   "cell_type": "markdown",
   "id": "stock-wednesday",
   "metadata": {},
   "source": [
    "### RANDOM FOREST CLASSIFIER - OS 2"
   ]
  },
  {
   "cell_type": "code",
   "execution_count": 292,
   "id": "matched-nelson",
   "metadata": {},
   "outputs": [
    {
     "name": "stdout",
     "output_type": "stream",
     "text": [
      "Fitting 3 folds for each of 640 candidates, totalling 1920 fits\n",
      "f1_train: 0.769472 using {'criterion': 'gini', 'max_depth': 4, 'min_samples_leaf': 10, 'min_samples_split': 20, 'n_estimators': 9}\n",
      "\n",
      "\n",
      "f1         train 0.782   test 0.632\n",
      "\n",
      "\n",
      "[[289 209]\n",
      " [ 39 213]]\n"
     ]
    }
   ],
   "source": [
    "from sklearn.ensemble import RandomForestClassifier\n",
    "\n",
    "classifier= RandomForestClassifier()\n",
    "parameters = {'criterion' :        ['entropy', 'gini'],\n",
    "              'max_depth' :        np.arange(3,5,1),\n",
    "              'min_samples_leaf' : np.arange(5,30,5),\n",
    "              'min_samples_split': np.arange(10,50,10),\n",
    "              'n_estimators' :     np.arange(2,10,1), \n",
    "             };\n",
    "\n",
    "RF_f1_train,RF_f1_test=hyperp_search(classifier,parameters)"
   ]
  },
  {
   "cell_type": "markdown",
   "id": "supreme-stopping",
   "metadata": {},
   "source": [
    "### ADABOOST OS 2 "
   ]
  },
  {
   "cell_type": "code",
   "execution_count": 293,
   "id": "eleven-trace",
   "metadata": {},
   "outputs": [
    {
     "name": "stdout",
     "output_type": "stream",
     "text": [
      "Fitting 3 folds for each of 1 candidates, totalling 3 fits\n",
      "f1_train: 0.755811 using {'learning_rate': 0.01, 'n_estimators': 5000}\n",
      "\n",
      "\n",
      "f1         train 0.802   test 0.618\n",
      "\n",
      "\n",
      "[[361 137]\n",
      " [ 78 174]]\n"
     ]
    }
   ],
   "source": [
    "from sklearn.ensemble import AdaBoostClassifier\n",
    "\n",
    "\n",
    "classifier= AdaBoostClassifier()\n",
    "parameters = {'n_estimators'  : [5000],\n",
    "              'learning_rate' : [0.01]}\n",
    "\n",
    "ADAB_f1_train,ADAB_f1_test=hyperp_search(classifier,parameters)"
   ]
  },
  {
   "cell_type": "markdown",
   "id": "southern-laundry",
   "metadata": {},
   "source": [
    "Since that the reults does not change so much we take in to consideration the oversampling method showed during the course."
   ]
  },
  {
   "cell_type": "markdown",
   "id": "biblical-genetics",
   "metadata": {},
   "source": [
    "---"
   ]
  },
  {
   "cell_type": "markdown",
   "id": "driven-banks",
   "metadata": {},
   "source": [
    "### Considerations\n",
    "The following tabs show the F1 scores of all the algorithms we used. T he first one refers to the analysis with no oversampled data, while the second one refers to the analysis conducted whit an oversampled train set."
   ]
  },
  {
   "cell_type": "code",
   "execution_count": 294,
   "id": "italian-coach",
   "metadata": {},
   "outputs": [
    {
     "data": {
      "text/html": [
       "<div>\n",
       "<style scoped>\n",
       "    .dataframe tbody tr th:only-of-type {\n",
       "        vertical-align: middle;\n",
       "    }\n",
       "\n",
       "    .dataframe tbody tr th {\n",
       "        vertical-align: top;\n",
       "    }\n",
       "\n",
       "    .dataframe thead th {\n",
       "        text-align: right;\n",
       "    }\n",
       "</style>\n",
       "<table border=\"1\" class=\"dataframe\">\n",
       "  <thead>\n",
       "    <tr style=\"text-align: right;\">\n",
       "      <th></th>\n",
       "      <th>Name</th>\n",
       "      <th>f1_train</th>\n",
       "      <th>f1_test</th>\n",
       "    </tr>\n",
       "  </thead>\n",
       "  <tbody>\n",
       "    <tr>\n",
       "      <th>0</th>\n",
       "      <td>knn</td>\n",
       "      <td>0.585204</td>\n",
       "      <td>0.526923</td>\n",
       "    </tr>\n",
       "    <tr>\n",
       "      <th>1</th>\n",
       "      <td>tree</td>\n",
       "      <td>0.785714</td>\n",
       "      <td>0.569079</td>\n",
       "    </tr>\n",
       "    <tr>\n",
       "      <th>2</th>\n",
       "      <td>Logistic</td>\n",
       "      <td>0.576985</td>\n",
       "      <td>0.622776</td>\n",
       "    </tr>\n",
       "    <tr>\n",
       "      <th>3</th>\n",
       "      <td>SVM</td>\n",
       "      <td>0.547969</td>\n",
       "      <td>0.593449</td>\n",
       "    </tr>\n",
       "    <tr>\n",
       "      <th>4</th>\n",
       "      <td>Neural Network</td>\n",
       "      <td>0.740192</td>\n",
       "      <td>0.574359</td>\n",
       "    </tr>\n",
       "    <tr>\n",
       "      <th>5</th>\n",
       "      <td>Random Forest</td>\n",
       "      <td>0.720131</td>\n",
       "      <td>0.587332</td>\n",
       "    </tr>\n",
       "    <tr>\n",
       "      <th>6</th>\n",
       "      <td>ADABOOST</td>\n",
       "      <td>0.619718</td>\n",
       "      <td>0.588441</td>\n",
       "    </tr>\n",
       "  </tbody>\n",
       "</table>\n",
       "</div>"
      ],
      "text/plain": [
       "             Name  f1_train   f1_test\n",
       "0             knn  0.585204  0.526923\n",
       "1            tree  0.785714  0.569079\n",
       "2        Logistic  0.576985  0.622776\n",
       "3             SVM  0.547969  0.593449\n",
       "4  Neural Network  0.740192  0.574359\n",
       "5   Random Forest  0.720131  0.587332\n",
       "6        ADABOOST  0.619718  0.588441"
      ]
     },
     "execution_count": 294,
     "metadata": {},
     "output_type": "execute_result"
    }
   ],
   "source": [
    "data_no_oversampling "
   ]
  },
  {
   "cell_type": "code",
   "execution_count": 295,
   "id": "dominant-vietnamese",
   "metadata": {},
   "outputs": [
    {
     "data": {
      "text/html": [
       "<div>\n",
       "<style scoped>\n",
       "    .dataframe tbody tr th:only-of-type {\n",
       "        vertical-align: middle;\n",
       "    }\n",
       "\n",
       "    .dataframe tbody tr th {\n",
       "        vertical-align: top;\n",
       "    }\n",
       "\n",
       "    .dataframe thead th {\n",
       "        text-align: right;\n",
       "    }\n",
       "</style>\n",
       "<table border=\"1\" class=\"dataframe\">\n",
       "  <thead>\n",
       "    <tr style=\"text-align: right;\">\n",
       "      <th></th>\n",
       "      <th>Name</th>\n",
       "      <th>f1_train</th>\n",
       "      <th>f1_test</th>\n",
       "    </tr>\n",
       "  </thead>\n",
       "  <tbody>\n",
       "    <tr>\n",
       "      <th>0</th>\n",
       "      <td>knn</td>\n",
       "      <td>0.892236</td>\n",
       "      <td>0.566038</td>\n",
       "    </tr>\n",
       "    <tr>\n",
       "      <th>1</th>\n",
       "      <td>tree</td>\n",
       "      <td>0.764651</td>\n",
       "      <td>0.609125</td>\n",
       "    </tr>\n",
       "    <tr>\n",
       "      <th>2</th>\n",
       "      <td>Logistic</td>\n",
       "      <td>0.731930</td>\n",
       "      <td>0.641873</td>\n",
       "    </tr>\n",
       "    <tr>\n",
       "      <th>3</th>\n",
       "      <td>SVM</td>\n",
       "      <td>0.746114</td>\n",
       "      <td>0.643148</td>\n",
       "    </tr>\n",
       "    <tr>\n",
       "      <th>4</th>\n",
       "      <td>Neural Network</td>\n",
       "      <td>0.852691</td>\n",
       "      <td>0.579439</td>\n",
       "    </tr>\n",
       "    <tr>\n",
       "      <th>5</th>\n",
       "      <td>Random Forest</td>\n",
       "      <td>0.755203</td>\n",
       "      <td>0.643045</td>\n",
       "    </tr>\n",
       "    <tr>\n",
       "      <th>6</th>\n",
       "      <td>ADABOOST</td>\n",
       "      <td>0.773333</td>\n",
       "      <td>0.645251</td>\n",
       "    </tr>\n",
       "  </tbody>\n",
       "</table>\n",
       "</div>"
      ],
      "text/plain": [
       "             Name  f1_train   f1_test\n",
       "0             knn  0.892236  0.566038\n",
       "1            tree  0.764651  0.609125\n",
       "2        Logistic  0.731930  0.641873\n",
       "3             SVM  0.746114  0.643148\n",
       "4  Neural Network  0.852691  0.579439\n",
       "5   Random Forest  0.755203  0.643045\n",
       "6        ADABOOST  0.773333  0.645251"
      ]
     },
     "execution_count": 295,
     "metadata": {},
     "output_type": "execute_result"
    }
   ],
   "source": [
    "data_oversampling"
   ]
  },
  {
   "cell_type": "markdown",
   "id": "infinite-miami",
   "metadata": {},
   "source": [
    "### SAVING THE MODEL \n",
    "\n",
    "Finally, we chose the Multi-layer Perceptron classifier. This model shows the highest F1 score after the analysis with no oversampled train test. \n",
    "We decided to take in to consideration the non oversampled train test because we saw that the F1 score performances of the models after the oversampling showed an overfitting tendency.\n",
    "\n",
    "So we trained the model with the original features ande we saved it."
   ]
  },
  {
   "cell_type": "code",
   "execution_count": 296,
   "id": "intense-illness",
   "metadata": {},
   "outputs": [],
   "source": [
    "import pickle\n",
    "\n",
    "#The choosen model \n",
    "from sklearn.neural_network import MLPClassifier\n",
    "model_mlp=MLPClassifier(activation ='relu',\n",
    "                    alpha= 1, \n",
    "                    hidden_layer_sizes= (9, 6),\n",
    "                    learning_rate= 'invscaling',\n",
    "                    max_iter= 3000);\n",
    "#save the model\n",
    "pickle.dump(model_mlp, open('MLP_model.pkl', 'wb'))\n",
    "\n",
    "#save the scaler \n",
    "loaded_scaler = pickle.load(open('scaler_NOT_OVERSAMPLED.pkl', 'rb'))"
   ]
  },
  {
   "cell_type": "markdown",
   "id": "funny-shape",
   "metadata": {},
   "source": [
    "### Train the model "
   ]
  },
  {
   "cell_type": "code",
   "execution_count": 297,
   "id": "engaging-coupon",
   "metadata": {},
   "outputs": [
    {
     "data": {
      "text/plain": [
       "MLPClassifier(alpha=1, hidden_layer_sizes=(9, 6), learning_rate='invscaling',\n",
       "              max_iter=3000)"
      ]
     },
     "execution_count": 297,
     "metadata": {},
     "output_type": "execute_result"
    }
   ],
   "source": [
    "X_tot_train=pd.concat([num,dummies], axis = 1)\n",
    "Y_tot_train=df['failure']\n",
    "\n",
    "selection_categorical=['tyre_season','tread_depth','wiring_strength','tyre_quality','tread_type','add_layers','month'];\n",
    "selection_numerical=['vulc', 'perc_nat_rubber','weather','perc_imp','temperature','elevation','perc_exp_comp'];\n",
    "\n",
    "X_tot_train[selection_numerical] = pd.DataFrame(loaded_scaler.transform(X_tot_train[selection_numerical]))\n",
    "\n",
    "loaded_model = pickle.load(open('MLP_model.pkl', 'rb'))\n",
    "loaded_model.fit(X_tot_train,Y_tot_train)"
   ]
  },
  {
   "cell_type": "markdown",
   "id": "rocky-jurisdiction",
   "metadata": {},
   "source": [
    "## TEST THE DATA !\n",
    "\n",
    "Now let's apply the same transformation we arleady applied to the train and test set."
   ]
  },
  {
   "cell_type": "code",
   "execution_count": 298,
   "id": "demanding-thunder",
   "metadata": {},
   "outputs": [],
   "source": [
    "TEST = pd.read_csv('tyres_test.csv')\n",
    "\n",
    "#drop diameter\n",
    "TEST.drop(columns=['diameter'])\n",
    "\n",
    "#Categorical \n",
    "TEST[selection_categorical] = TEST[selection_categorical].astype(str)\n",
    "#dummies\n",
    "dummies2 = pd.get_dummies(TEST[selection_categorical]) \n",
    "  \n",
    "#Numerical\n",
    "TEST[selection_numerical] = pd.DataFrame(loaded_scaler.transform(TEST[selection_numerical]))\n",
    "\n",
    "#Features\n",
    "X2=pd.concat([TEST[selection_numerical],dummies2], axis = 1)\n"
   ]
  },
  {
   "cell_type": "code",
   "execution_count": 299,
   "id": "coral-payroll",
   "metadata": {},
   "outputs": [],
   "source": [
    "y_SVM_predictions = loaded_model.predict(X2)"
   ]
  },
  {
   "cell_type": "code",
   "execution_count": 300,
   "id": "public-imperial",
   "metadata": {},
   "outputs": [],
   "source": [
    "import json\n",
    "\n",
    "with open('predictions.txt', 'w') as filehandle:\n",
    "    json.dump(y_SVM_predictions.tolist(), filehandle)"
   ]
  },
  {
   "cell_type": "markdown",
   "id": "loose-workshop",
   "metadata": {},
   "source": [
    "### Feature importance \n",
    "One of the drawbacks to chose the MLP model is the interpretability.\n",
    "\n",
    "Trying to bypass this problem, to describe the features impertances we used:\n",
    "\n",
    "- bar plot of the distributions of the numerical and categorical variables \n",
    "- Gini and Entropy indexes \n",
    "\n",
    "The principle we followed was that the more the target distributions were different the more the respective attributes would be important\n",
    "\n",
    "- Permutation importance \n",
    "\n",
    "Permutation feature importance is a model inspection technique that can be used for any fitted estimator when the data is tabular. This is especially useful for non-linear or opaque estimators. The permutation feature importance is defined to be the decrease in a model score when a single feature value is randomly shuffled"
   ]
  },
  {
   "cell_type": "code",
   "execution_count": 310,
   "id": "systematic-advocate",
   "metadata": {},
   "outputs": [],
   "source": [
    "#let's re divide the same train and test data to inspect the features importances \n",
    "\n",
    "X=pd.concat([num,dummies], axis = 1)\n",
    "y=df['failure']\n",
    "X_train, X_test, y_train, y_test = train_test_split(X, y, \n",
    "                                                    test_size =0.30,   \n",
    "                                                    stratify=y,        #preserve target propotions (probviamo non stratificata)\n",
    "                                                    random_state= 321) #fix random seed for replicability\n",
    "\n",
    "X_train[num.columns] = scaler.transform(X_train[num.columns])\n",
    "X_test[num.columns] = scaler.transform(X_test[num.columns])\n",
    "\n",
    "\n",
    "from sklearn.inspection import permutation_importance\n",
    "\n",
    "loaded_model.fit(X_test,y_test)\n",
    "result = permutation_importance(loaded_model,\n",
    "                                X_test,\n",
    "                                y_test,\n",
    "                                n_repeats=10,\n",
    "                                random_state=42,\n",
    "                                n_jobs=2)"
   ]
  },
  {
   "cell_type": "code",
   "execution_count": 311,
   "id": "silver-reach",
   "metadata": {},
   "outputs": [
    {
     "data": {
      "image/png": "[encoded data removed]",
      "text/plain": [
       "<Figure size 1008x720 with 1 Axes>"
      ]
     },
     "metadata": {
      "needs_background": "light"
     },
     "output_type": "display_data"
    }
   ],
   "source": [
    "sorted_importances_idx = result.importances_mean.argsort()\n",
    "importances = pd.DataFrame(result.importances[sorted_importances_idx].T,\n",
    "                           columns=X.columns[sorted_importances_idx],\n",
    ")\n",
    "\n",
    "\n",
    "\n",
    "ax = importances.plot.box(vert=False, whis=20,figsize=(14,10))\n",
    "ax.set_title(\"Permutation Importances (test set)\")\n",
    "ax.axvline(x=0, color=\"k\", linestyle=\"--\")\n",
    "ax.set_xlabel(\"Decrease in accuracy score\")\n",
    "ax.figure.tight_layout()"
   ]
  },
  {
   "cell_type": "markdown",
   "id": "million-tracy",
   "metadata": {},
   "source": [
    "According with the visual inspection of the bar plots and with thu upper box plots we concludes that the most important features for this classification are:\n",
    "\n",
    "- Weather \n",
    "- Temperature \n",
    "\n",
    "So the atmosferic conditions.  And:\n",
    "\n",
    "- per_nat_rubber\n",
    "- vulc \n",
    "- perc_exp_comp\n",
    "\n",
    "So some components of the structure of the tyre "
   ]
  }
 ],
 "metadata": {
  "kernelspec": {
   "display_name": "Python 3",
   "language": "python",
   "name": "python3"
  },
  "language_info": {
   "codemirror_mode": {
    "name": "ipython",
    "version": 3
   },
   "file_extension": ".py",
   "mimetype": "text/x-python",
   "name": "python",
   "nbconvert_exporter": "python",
   "pygments_lexer": "ipython3",
   "version": "3.7.1"
  }
 },
 "nbformat": 4,
 "nbformat_minor": 5
}
