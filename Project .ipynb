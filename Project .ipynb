{
 "cells": [
  {
   "cell_type": "code",
   "execution_count": null,
   "id": "apparent-compression",
   "metadata": {},
   "outputs": [],
   "source": [
    "#ML PROJECT "
   ]
  },
  {
   "cell_type": "code",
   "execution_count": 74,
   "id": "451d6660",
   "metadata": {},
   "outputs": [
    {
     "name": "stdout",
     "output_type": "stream",
     "text": [
      "(3000, 16)\n"
     ]
    }
   ],
   "source": [
    "import pandas as pd\n",
    "import numpy as np\n",
    "\n",
    "%matplotlib inline\n",
    "import seaborn as sns\n",
    "import matplotlib.pyplot as plt\n",
    "\n",
    "df = pd.read_csv('tyres_train.csv')\n",
    "print(df.shape)"
   ]
  },
  {
   "cell_type": "code",
   "execution_count": 75,
   "id": "proper-certification",
   "metadata": {},
   "outputs": [
    {
     "data": {
      "text/html": [
       "<div>\n",
       "<style scoped>\n",
       "    .dataframe tbody tr th:only-of-type {\n",
       "        vertical-align: middle;\n",
       "    }\n",
       "\n",
       "    .dataframe tbody tr th {\n",
       "        vertical-align: top;\n",
       "    }\n",
       "\n",
       "    .dataframe thead th {\n",
       "        text-align: right;\n",
       "    }\n",
       "</style>\n",
       "<table border=\"1\" class=\"dataframe\">\n",
       "  <thead>\n",
       "    <tr style=\"text-align: right;\">\n",
       "      <th></th>\n",
       "      <th>vulc</th>\n",
       "      <th>perc_nat_rubber</th>\n",
       "      <th>wiring_strength</th>\n",
       "      <th>weather</th>\n",
       "      <th>perc_imp</th>\n",
       "      <th>temperature</th>\n",
       "      <th>tread_type</th>\n",
       "      <th>tyre_season</th>\n",
       "      <th>elevation</th>\n",
       "      <th>month</th>\n",
       "      <th>tread_depth</th>\n",
       "      <th>tyre_quality</th>\n",
       "      <th>perc_exp_comp</th>\n",
       "      <th>diameter</th>\n",
       "      <th>add_layers</th>\n",
       "      <th>failure</th>\n",
       "    </tr>\n",
       "  </thead>\n",
       "  <tbody>\n",
       "    <tr>\n",
       "      <th>0</th>\n",
       "      <td>17.990</td>\n",
       "      <td>26</td>\n",
       "      <td>1</td>\n",
       "      <td>0.16</td>\n",
       "      <td>0.01</td>\n",
       "      <td>-8.12</td>\n",
       "      <td>0</td>\n",
       "      <td>1</td>\n",
       "      <td>332.5</td>\n",
       "      <td>8</td>\n",
       "      <td>0</td>\n",
       "      <td>1</td>\n",
       "      <td>5.13</td>\n",
       "      <td>55.0</td>\n",
       "      <td>1</td>\n",
       "      <td>0</td>\n",
       "    </tr>\n",
       "    <tr>\n",
       "      <th>1</th>\n",
       "      <td>20.704</td>\n",
       "      <td>36</td>\n",
       "      <td>1</td>\n",
       "      <td>0.30</td>\n",
       "      <td>0.01</td>\n",
       "      <td>-4.52</td>\n",
       "      <td>2</td>\n",
       "      <td>0</td>\n",
       "      <td>328.0</td>\n",
       "      <td>11</td>\n",
       "      <td>1</td>\n",
       "      <td>0</td>\n",
       "      <td>6.15</td>\n",
       "      <td>NaN</td>\n",
       "      <td>1</td>\n",
       "      <td>0</td>\n",
       "    </tr>\n",
       "    <tr>\n",
       "      <th>2</th>\n",
       "      <td>19.156</td>\n",
       "      <td>34</td>\n",
       "      <td>1</td>\n",
       "      <td>0.30</td>\n",
       "      <td>0.01</td>\n",
       "      <td>-1.08</td>\n",
       "      <td>0</td>\n",
       "      <td>0</td>\n",
       "      <td>247.0</td>\n",
       "      <td>0</td>\n",
       "      <td>1</td>\n",
       "      <td>0</td>\n",
       "      <td>6.36</td>\n",
       "      <td>NaN</td>\n",
       "      <td>1</td>\n",
       "      <td>0</td>\n",
       "    </tr>\n",
       "    <tr>\n",
       "      <th>3</th>\n",
       "      <td>16.802</td>\n",
       "      <td>35</td>\n",
       "      <td>1</td>\n",
       "      <td>0.19</td>\n",
       "      <td>0.02</td>\n",
       "      <td>7.44</td>\n",
       "      <td>1</td>\n",
       "      <td>0</td>\n",
       "      <td>408.0</td>\n",
       "      <td>7</td>\n",
       "      <td>3</td>\n",
       "      <td>1</td>\n",
       "      <td>6.62</td>\n",
       "      <td>54.5</td>\n",
       "      <td>1</td>\n",
       "      <td>0</td>\n",
       "    </tr>\n",
       "    <tr>\n",
       "      <th>4</th>\n",
       "      <td>17.140</td>\n",
       "      <td>23</td>\n",
       "      <td>2</td>\n",
       "      <td>0.39</td>\n",
       "      <td>0.01</td>\n",
       "      <td>30.52</td>\n",
       "      <td>0</td>\n",
       "      <td>1</td>\n",
       "      <td>308.0</td>\n",
       "      <td>2</td>\n",
       "      <td>2</td>\n",
       "      <td>0</td>\n",
       "      <td>6.15</td>\n",
       "      <td>76.3</td>\n",
       "      <td>1</td>\n",
       "      <td>0</td>\n",
       "    </tr>\n",
       "  </tbody>\n",
       "</table>\n",
       "</div>"
      ],
      "text/plain": [
       "     vulc  perc_nat_rubber  wiring_strength  weather  perc_imp  temperature  \\\n",
       "0  17.990               26                1     0.16      0.01        -8.12   \n",
       "1  20.704               36                1     0.30      0.01        -4.52   \n",
       "2  19.156               34                1     0.30      0.01        -1.08   \n",
       "3  16.802               35                1     0.19      0.02         7.44   \n",
       "4  17.140               23                2     0.39      0.01        30.52   \n",
       "\n",
       "   tread_type  tyre_season  elevation  month  tread_depth  tyre_quality  \\\n",
       "0           0            1      332.5      8            0             1   \n",
       "1           2            0      328.0     11            1             0   \n",
       "2           0            0      247.0      0            1             0   \n",
       "3           1            0      408.0      7            3             1   \n",
       "4           0            1      308.0      2            2             0   \n",
       "\n",
       "   perc_exp_comp  diameter  add_layers  failure  \n",
       "0           5.13      55.0           1        0  \n",
       "1           6.15       NaN           1        0  \n",
       "2           6.36       NaN           1        0  \n",
       "3           6.62      54.5           1        0  \n",
       "4           6.15      76.3           1        0  "
      ]
     },
     "execution_count": 75,
     "metadata": {},
     "output_type": "execute_result"
    }
   ],
   "source": [
    "df.head()"
   ]
  },
  {
   "cell_type": "markdown",
   "id": "patent-township",
   "metadata": {},
   "source": [
    "Attribute: \n",
    "- vulc N\n",
    "- perc_nat_rubber N\n",
    "- weather N\n",
    "- perc_imp N\n",
    "- temperature N \n",
    "- elevation N\n",
    "- perc_exp_comp N \n",
    "- diameter N\n",
    "- tread_type C\n",
    "- tyre_season C\n",
    "- month C\n",
    "- tread_depth C\n",
    "- wiring_strenght C\n",
    "- tyre_quality C \n",
    "- add_layers C\n"
   ]
  },
  {
   "cell_type": "code",
   "execution_count": 76,
   "id": "dominican-partner",
   "metadata": {},
   "outputs": [
    {
     "name": "stdout",
     "output_type": "stream",
     "text": [
      "vulc               float64\n",
      "perc_nat_rubber      int64\n",
      "wiring_strength      int64\n",
      "weather            float64\n",
      "perc_imp           float64\n",
      "temperature        float64\n",
      "tread_type           int64\n",
      "tyre_season          int64\n",
      "elevation          float64\n",
      "month                int64\n",
      "tread_depth          int64\n",
      "tyre_quality         int64\n",
      "perc_exp_comp      float64\n",
      "diameter           float64\n",
      "add_layers           int64\n",
      "failure              int64\n",
      "dtype: object\n"
     ]
    }
   ],
   "source": [
    "#come trattiamo le variabili categoriche \n",
    "print(df.dtypes)"
   ]
  },
  {
   "cell_type": "code",
   "execution_count": 77,
   "id": "consolidated-entrance",
   "metadata": {},
   "outputs": [
    {
     "data": {
      "text/plain": [
       "vulc               False\n",
       "perc_nat_rubber    False\n",
       "wiring_strength    False\n",
       "weather            False\n",
       "perc_imp           False\n",
       "temperature        False\n",
       "tread_type         False\n",
       "tyre_season        False\n",
       "elevation          False\n",
       "month              False\n",
       "tread_depth        False\n",
       "tyre_quality       False\n",
       "perc_exp_comp      False\n",
       "diameter            True\n",
       "add_layers         False\n",
       "failure            False\n",
       "dtype: bool"
      ]
     },
     "execution_count": 77,
     "metadata": {},
     "output_type": "execute_result"
    }
   ],
   "source": [
    "df.isna().any()"
   ]
  },
  {
   "cell_type": "code",
   "execution_count": 78,
   "id": "nonprofit-cutting",
   "metadata": {},
   "outputs": [
    {
     "data": {
      "text/plain": [
       "0.7033333333333334"
      ]
     },
     "execution_count": 78,
     "metadata": {},
     "output_type": "execute_result"
    }
   ],
   "source": [
    "#percentuale di outliers in diameter\n",
    "(df['diameter'].isna().sum()/3000)"
   ]
  },
  {
   "cell_type": "code",
   "execution_count": 79,
   "id": "happy-pharmaceutical",
   "metadata": {},
   "outputs": [
    {
     "name": "stdout",
     "output_type": "stream",
     "text": [
      "(3000, 7)\n",
      "(3000, 7)\n"
     ]
    }
   ],
   "source": [
    "#non considero la colonna dei diametri perchè ci sono un sacco di outliers\n",
    "cat=df[[\"tyre_season\",\"month\",          \"tread_depth\",\"wiring_strength\",\"tyre_quality\",\"tread_type\",\"add_layers\" ]]\n",
    "num=df[[\"vulc\",       \"perc_nat_rubber\",\"weather\",    \"perc_imp\",       \"temperature\", \"elevation\", \"perc_exp_comp\"]]\n",
    "\n",
    "print(cat.shape)\n",
    "print(num.shape)"
   ]
  },
  {
   "cell_type": "code",
   "execution_count": 81,
   "id": "directed-duration",
   "metadata": {},
   "outputs": [
    {
     "data": {
      "text/html": [
       "<div>\n",
       "<style scoped>\n",
       "    .dataframe tbody tr th:only-of-type {\n",
       "        vertical-align: middle;\n",
       "    }\n",
       "\n",
       "    .dataframe tbody tr th {\n",
       "        vertical-align: top;\n",
       "    }\n",
       "\n",
       "    .dataframe thead th {\n",
       "        text-align: right;\n",
       "    }\n",
       "</style>\n",
       "<table border=\"1\" class=\"dataframe\">\n",
       "  <thead>\n",
       "    <tr style=\"text-align: right;\">\n",
       "      <th></th>\n",
       "      <th>tyre_season</th>\n",
       "      <th>month</th>\n",
       "      <th>tread_depth</th>\n",
       "      <th>wiring_strength</th>\n",
       "      <th>tyre_quality</th>\n",
       "      <th>tread_type</th>\n",
       "      <th>add_layers</th>\n",
       "    </tr>\n",
       "  </thead>\n",
       "  <tbody>\n",
       "    <tr>\n",
       "      <th>0</th>\n",
       "      <td>1</td>\n",
       "      <td>8</td>\n",
       "      <td>0</td>\n",
       "      <td>1</td>\n",
       "      <td>1</td>\n",
       "      <td>0</td>\n",
       "      <td>1</td>\n",
       "    </tr>\n",
       "    <tr>\n",
       "      <th>1</th>\n",
       "      <td>0</td>\n",
       "      <td>11</td>\n",
       "      <td>1</td>\n",
       "      <td>1</td>\n",
       "      <td>0</td>\n",
       "      <td>2</td>\n",
       "      <td>1</td>\n",
       "    </tr>\n",
       "    <tr>\n",
       "      <th>2</th>\n",
       "      <td>0</td>\n",
       "      <td>0</td>\n",
       "      <td>1</td>\n",
       "      <td>1</td>\n",
       "      <td>0</td>\n",
       "      <td>0</td>\n",
       "      <td>1</td>\n",
       "    </tr>\n",
       "    <tr>\n",
       "      <th>3</th>\n",
       "      <td>0</td>\n",
       "      <td>7</td>\n",
       "      <td>3</td>\n",
       "      <td>1</td>\n",
       "      <td>1</td>\n",
       "      <td>1</td>\n",
       "      <td>1</td>\n",
       "    </tr>\n",
       "    <tr>\n",
       "      <th>4</th>\n",
       "      <td>1</td>\n",
       "      <td>2</td>\n",
       "      <td>2</td>\n",
       "      <td>2</td>\n",
       "      <td>0</td>\n",
       "      <td>0</td>\n",
       "      <td>1</td>\n",
       "    </tr>\n",
       "  </tbody>\n",
       "</table>\n",
       "</div>"
      ],
      "text/plain": [
       "   tyre_season  month  tread_depth  wiring_strength  tyre_quality  tread_type  \\\n",
       "0            1      8            0                1             1           0   \n",
       "1            0     11            1                1             0           2   \n",
       "2            0      0            1                1             0           0   \n",
       "3            0      7            3                1             1           1   \n",
       "4            1      2            2                2             0           0   \n",
       "\n",
       "   add_layers  \n",
       "0           1  \n",
       "1           1  \n",
       "2           1  \n",
       "3           1  \n",
       "4           1  "
      ]
     },
     "execution_count": 81,
     "metadata": {},
     "output_type": "execute_result"
    }
   ],
   "source": [
    "cat.head()"
   ]
  },
  {
   "cell_type": "code",
   "execution_count": 82,
   "id": "medical-things",
   "metadata": {},
   "outputs": [
    {
     "data": {
      "text/html": [
       "<div>\n",
       "<style scoped>\n",
       "    .dataframe tbody tr th:only-of-type {\n",
       "        vertical-align: middle;\n",
       "    }\n",
       "\n",
       "    .dataframe tbody tr th {\n",
       "        vertical-align: top;\n",
       "    }\n",
       "\n",
       "    .dataframe thead th {\n",
       "        text-align: right;\n",
       "    }\n",
       "</style>\n",
       "<table border=\"1\" class=\"dataframe\">\n",
       "  <thead>\n",
       "    <tr style=\"text-align: right;\">\n",
       "      <th></th>\n",
       "      <th>vulc</th>\n",
       "      <th>perc_nat_rubber</th>\n",
       "      <th>weather</th>\n",
       "      <th>perc_imp</th>\n",
       "      <th>temperature</th>\n",
       "      <th>elevation</th>\n",
       "      <th>perc_exp_comp</th>\n",
       "    </tr>\n",
       "  </thead>\n",
       "  <tbody>\n",
       "    <tr>\n",
       "      <th>0</th>\n",
       "      <td>17.990</td>\n",
       "      <td>26</td>\n",
       "      <td>0.16</td>\n",
       "      <td>0.01</td>\n",
       "      <td>-8.12</td>\n",
       "      <td>332.5</td>\n",
       "      <td>5.13</td>\n",
       "    </tr>\n",
       "    <tr>\n",
       "      <th>1</th>\n",
       "      <td>20.704</td>\n",
       "      <td>36</td>\n",
       "      <td>0.30</td>\n",
       "      <td>0.01</td>\n",
       "      <td>-4.52</td>\n",
       "      <td>328.0</td>\n",
       "      <td>6.15</td>\n",
       "    </tr>\n",
       "    <tr>\n",
       "      <th>2</th>\n",
       "      <td>19.156</td>\n",
       "      <td>34</td>\n",
       "      <td>0.30</td>\n",
       "      <td>0.01</td>\n",
       "      <td>-1.08</td>\n",
       "      <td>247.0</td>\n",
       "      <td>6.36</td>\n",
       "    </tr>\n",
       "    <tr>\n",
       "      <th>3</th>\n",
       "      <td>16.802</td>\n",
       "      <td>35</td>\n",
       "      <td>0.19</td>\n",
       "      <td>0.02</td>\n",
       "      <td>7.44</td>\n",
       "      <td>408.0</td>\n",
       "      <td>6.62</td>\n",
       "    </tr>\n",
       "    <tr>\n",
       "      <th>4</th>\n",
       "      <td>17.140</td>\n",
       "      <td>23</td>\n",
       "      <td>0.39</td>\n",
       "      <td>0.01</td>\n",
       "      <td>30.52</td>\n",
       "      <td>308.0</td>\n",
       "      <td>6.15</td>\n",
       "    </tr>\n",
       "  </tbody>\n",
       "</table>\n",
       "</div>"
      ],
      "text/plain": [
       "     vulc  perc_nat_rubber  weather  perc_imp  temperature  elevation  \\\n",
       "0  17.990               26     0.16      0.01        -8.12      332.5   \n",
       "1  20.704               36     0.30      0.01        -4.52      328.0   \n",
       "2  19.156               34     0.30      0.01        -1.08      247.0   \n",
       "3  16.802               35     0.19      0.02         7.44      408.0   \n",
       "4  17.140               23     0.39      0.01        30.52      308.0   \n",
       "\n",
       "   perc_exp_comp  \n",
       "0           5.13  \n",
       "1           6.15  \n",
       "2           6.36  \n",
       "3           6.62  \n",
       "4           6.15  "
      ]
     },
     "execution_count": 82,
     "metadata": {},
     "output_type": "execute_result"
    }
   ],
   "source": [
    "num.head()"
   ]
  },
  {
   "cell_type": "code",
   "execution_count": 87,
   "id": "incomplete-cutting",
   "metadata": {},
   "outputs": [
    {
     "data": {
      "image/png": "[encoded data removed]",
      "text/plain": [
       "<Figure size 1080x504 with 8 Axes>"
      ]
     },
     "metadata": {
      "needs_background": "light"
     },
     "output_type": "display_data"
    }
   ],
   "source": [
    "df_0=cat[df['failure']==0] # records wih target==0\n",
    "df_1=cat[df['failure']==1] # records wih target==1\n",
    "\n",
    "\n",
    "fig, axes = plt.subplots(2, 4,figsize=[15,7])\n",
    "axes = axes.flatten()\n",
    "fig.tight_layout(h_pad=10)\n",
    "i=0\n",
    "for x in cat.columns:\n",
    "    plt.sca(axes[i]) # set the current Axes\n",
    "    plt.hist([df_0[x],df_1[x]],density=True)\n",
    "    plt.xticks(rotation = 90) # Rotates X-Axis Ticks by 45-degrees\n",
    "    plt.title(x)\n",
    "    i+=1\n",
    "plt.show()\n",
    "\n",
    "#blue --> test was succesfull \n",
    "#orange --> tast was not suf"
   ]
  },
  {
   "cell_type": "code",
   "execution_count": null,
   "id": "continental-houston",
   "metadata": {},
   "outputs": [],
   "source": []
  },
  {
   "cell_type": "code",
   "execution_count": null,
   "id": "extra-kernel",
   "metadata": {},
   "outputs": [],
   "source": []
  }
 ],
 "metadata": {
  "kernelspec": {
   "display_name": "Python 3",
   "language": "python",
   "name": "python3"
  },
  "language_info": {
   "codemirror_mode": {
    "name": "ipython",
    "version": 3
   },
   "file_extension": ".py",
   "mimetype": "text/x-python",
   "name": "python",
   "nbconvert_exporter": "python",
   "pygments_lexer": "ipython3",
   "version": "3.7.1"
  }
 },
 "nbformat": 4,
 "nbformat_minor": 5
}
